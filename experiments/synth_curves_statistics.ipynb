{
 "cells": [
  {
   "cell_type": "code",
   "execution_count": 1,
   "metadata": {},
   "outputs": [],
   "source": [
    "import sys\n",
    "sys.path.append('../') # or just install the module\n",
    "sys.path.append('../../flaming-choripan') # or just install the module\n",
    "sys.path.append('../../astro-lightcurves-handler') # or just install the module"
   ]
  },
  {
   "cell_type": "code",
   "execution_count": 2,
   "metadata": {},
   "outputs": [
    {
     "name": "stderr",
     "output_type": "stream",
     "text": [
      "WARNING (theano.tensor.blas): Using NumPy C-API based implementation for BLAS functions.\n"
     ]
    },
    {
     "data": {
      "text/plain": [
       "[]"
      ]
     },
     "execution_count": 2,
     "metadata": {},
     "output_type": "execute_result"
    }
   ],
   "source": [
    "%load_ext autoreload\n",
    "%autoreload 2\n",
    "from synthsne import curve_statistics as cs\n",
    "\n",
    "method = 'mcmc'\n",
    "rootdir = '../save/alerceZTFv7.1'\n",
    "cs.get_all_incorrects_fittings(rootdir, method)"
   ]
  },
  {
   "cell_type": "code",
   "execution_count": 3,
   "metadata": {},
   "outputs": [
    {
     "name": "stdout",
     "output_type": "stream",
     "text": [
      "The autoreload extension is already loaded. To reload it, use:\n",
      "  %reload_ext autoreload\n",
      "mb-rank[top10]:\n",
      "(1) - ZTF18aasdted: 2542.0933012133173\n",
      "(2) - ZTF18acmvcme: 1659.653593827637\n",
      "(3) - ZTF19abclykm: 1573.4311162509025\n",
      "(4) - ZTF18acyarki: 935.4741315866717\n",
      "(5) - ZTF20aaurzce: 847.3206695428413\n",
      "(6) - ZTF19adcecwu: 799.1488034335537\n",
      "(7) - ZTF18acvwbos: 509.7601000715314\n",
      "(8) - ZTF19aaeoqst: 493.13563189952595\n",
      "(9) - ZTF20abchbds: 491.1949079181372\n",
      "(10) - ZTF20abchhuw: 443.92806873487086\n",
      "g-rank[top10]:\n",
      "(1) - ZTF18aasdted: 4026.858871785492\n",
      "(2) - ZTF18acmvcme: 3293.667300551204\n",
      "(3) - ZTF18acyarki: 1844.2607733939103\n",
      "(4) - ZTF19abclykm: 1022.6852167506433\n",
      "(5) - ZTF19adcecwu: 841.3753725532438\n",
      "(6) - ZTF18acvwbos: 774.1182936180287\n",
      "(7) - ZTF20abchhuw: 755.9410681080392\n",
      "(8) - ZTF20aautzif: 634.634450192937\n",
      "(9) - ZTF19aatgwhs: 626.2847463331896\n",
      "(10) - ZTF19aaeoqst: 510.61149788076796\n",
      "r-rank[top10]:\n",
      "(1) - ZTF19abclykm: 2124.177015751162\n",
      "(2) - ZTF20aaurzce: 1686.3501585071488\n",
      "(3) - ZTF18aasdted: 1057.3277306411424\n",
      "(4) - ZTF20abchbds: 796.5389666355018\n",
      "(5) - ZTF19adcecwu: 756.9222343138636\n",
      "(6) - ZTF20aatznro: 664.5516506323725\n",
      "(7) - ZTF18abxxssh: 661.2912613265486\n",
      "(8) - ZTF19aayfaum: 481.98305922300153\n",
      "(9) - ZTF19aaeoqst: 475.6597659182839\n",
      "(10) - ZTF18aaumeys: 435.1816568737439\n"
     ]
    }
   ],
   "source": [
    "%load_ext autoreload\n",
    "%autoreload 2\n",
    "from synthsne import curve_statistics as cs\n",
    "\n",
    "method = 'mcmc'\n",
    "rank, rank_bdict, band_names = cs.get_ranks(rootdir, method)\n",
    "print(rank)\n",
    "for b in band_names:\n",
    "    print(rank_bdict[b])"
   ]
  },
  {
   "cell_type": "code",
   "execution_count": 49,
   "metadata": {},
   "outputs": [
    {
     "name": "stdout",
     "output_type": "stream",
     "text": [
      "The autoreload extension is already loaded. To reload it, use:\n",
      "  %reload_ext autoreload\n"
     ]
    },
    {
     "data": {
      "text/html": [
       "<div>\n",
       "<style scoped>\n",
       "    .dataframe tbody tr th:only-of-type {\n",
       "        vertical-align: middle;\n",
       "    }\n",
       "\n",
       "    .dataframe tbody tr th {\n",
       "        vertical-align: top;\n",
       "    }\n",
       "\n",
       "    .dataframe thead th {\n",
       "        text-align: right;\n",
       "    }\n",
       "</style>\n",
       "<table border=\"1\" class=\"dataframe\">\n",
       "  <thead>\n",
       "    <tr style=\"text-align: right;\">\n",
       "      <th></th>\n",
       "      <th>mb-fit-error</th>\n",
       "      <th>mb-ok-fits-n</th>\n",
       "      <th>mb-n</th>\n",
       "      <th>mb-ok-fits[%]</th>\n",
       "      <th>g-fit-error</th>\n",
       "      <th>g-ok-fits[%]</th>\n",
       "      <th>r-fit-error</th>\n",
       "      <th>r-ok-fits[%]</th>\n",
       "    </tr>\n",
       "  </thead>\n",
       "  <tbody>\n",
       "    <tr>\n",
       "      <th>method-curvefit</th>\n",
       "      <td>83.70±414.17</td>\n",
       "      <td>203544</td>\n",
       "      <td>208896</td>\n",
       "      <td>97.437960</td>\n",
       "      <td>61.93±231.92</td>\n",
       "      <td>96.131089</td>\n",
       "      <td>104.89±534.09</td>\n",
       "      <td>98.744830</td>\n",
       "    </tr>\n",
       "    <tr>\n",
       "      <th>method-mcmc</th>\n",
       "      <td>66.66±318.49</td>\n",
       "      <td>203908</td>\n",
       "      <td>208896</td>\n",
       "      <td>97.612209</td>\n",
       "      <td>60.18±359.16</td>\n",
       "      <td>96.425973</td>\n",
       "      <td>72.99±272.88</td>\n",
       "      <td>98.798445</td>\n",
       "    </tr>\n",
       "  </tbody>\n",
       "</table>\n",
       "</div>"
      ],
      "text/plain": [
       "                 mb-fit-error  mb-ok-fits-n    mb-n  mb-ok-fits[%]  \\\n",
       "method-curvefit  83.70±414.17        203544  208896      97.437960   \n",
       "method-mcmc      66.66±318.49        203908  208896      97.612209   \n",
       "\n",
       "                  g-fit-error  g-ok-fits[%]    r-fit-error  r-ok-fits[%]  \n",
       "method-curvefit  61.93±231.92     96.131089  104.89±534.09     98.744830  \n",
       "method-mcmc      60.18±359.16     96.425973   72.99±272.88     98.798445  "
      ]
     },
     "execution_count": 49,
     "metadata": {},
     "output_type": "execute_result"
    }
   ],
   "source": [
    "%load_ext autoreload\n",
    "%autoreload 2\n",
    "from synthsne import curve_statistics as cs\n",
    "\n",
    "methods = ['curvefit', 'mcmc', 'uniformprior']\n",
    "methods = ['curvefit', 'mcmc']\n",
    "info_df = cs.get_info_dict(rootdir, methods)\n",
    "info_df"
   ]
  },
  {
   "cell_type": "code",
   "execution_count": 38,
   "metadata": {},
   "outputs": [
    {
     "name": "stdout",
     "output_type": "stream",
     "text": [
      "The autoreload extension is already loaded. To reload it, use:\n",
      "  %reload_ext autoreload\n",
      "\u001b[31m%%%%%%%%%%%%%%%%%%%%%%%%%%%%%%%%%%%%%%%%%%%%%%%%%%%%%%%%%%%%%%%%%%%%%%%%%%%%%%%%%%%%%%%%%%%%%%%%%%%%\n",
      "\\def\\srule{\\rule{0pt}{2ex}\\rule[-1ex]{0pt}{0ex}}\n",
      "\\begin{table*}\n",
      "\\centering\n",
      "\\caption{???}\n",
      "\\label{???}\\vspace{.1cm}\n",
      "\\begin{tabular}{l|cccccc}\n",
      "\\hline\n",
      "method & mb-fit-error & mb-ok-fits[\\%] & g-fit-error & g-ok-fits[\\%] & r-fit-error & r-ok-fits[\\%] \\srule\\\\\\hline\\hline\n",
      "curvefit & 83.70$\\pm$414.17 & 97.44 & 61.93$\\pm$231.92 & 96.13 & 104.89$\\pm$534.09 & 98.74 \\srule\\\\\n",
      "mcmc & 52.10$\\pm$275.46 & 97.80 & 52.49$\\pm$371.61 & 97.01 & 51.73$\\pm$121.11 & 98.60 \\srule\\\\\n",
      "\\hline\n",
      "\\end{tabular}\n",
      "\\end{table*}\n",
      "%%%%%%%%%%%%%%%%%%%%%%%%%%%%%%%%%%%%%%%%%%%%%%%%%%%%%%%%%%%%%%%%%%%%%%%%%%%%%%%%%%%%%%%%%%%%%%%%%%%%\n",
      "\u001b[0m\n"
     ]
    }
   ],
   "source": [
    "%load_ext autoreload\n",
    "%autoreload 2\n",
    "from flamingchoripan.latex.latex_tables import LatexTable\n",
    "\n",
    "latex_table = LatexTable(info_df)\n",
    "print(latex_table)"
   ]
  }
 ],
 "metadata": {
  "kernelspec": {
   "display_name": "Python 3",
   "language": "python",
   "name": "python3"
  },
  "language_info": {
   "codemirror_mode": {
    "name": "ipython",
    "version": 3
   },
   "file_extension": ".py",
   "mimetype": "text/x-python",
   "name": "python",
   "nbconvert_exporter": "python",
   "pygments_lexer": "ipython3",
   "version": "3.7.9"
  }
 },
 "nbformat": 4,
 "nbformat_minor": 4
}
