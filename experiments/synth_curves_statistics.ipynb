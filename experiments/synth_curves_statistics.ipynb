{
 "cells": [
  {
   "cell_type": "code",
   "execution_count": 1,
   "metadata": {},
   "outputs": [],
   "source": [
    "import sys\n",
    "sys.path.append('../') # or just install the module\n",
    "sys.path.append('../../flaming-choripan') # or just install the module\n",
    "sys.path.append('../../astro-lightcurves-handler') # or just install the module"
   ]
  },
  {
   "cell_type": "code",
   "execution_count": 2,
   "metadata": {},
   "outputs": [
    {
     "name": "stdout",
     "output_type": "stream",
     "text": [
      "────────────────────────────────────────────────────────────────────────────────────────────────────\n",
      "found filedirs: (../save)\n",
      "(0) - ../save/alerceZTFv7.1/survey=alerceZTFv7.1°bands=gr°mode=onlySNe/1@train/samplers.smplr - 10.843[mbs]\n",
      "(1) - ../save/alerceZTFv7.1/survey=alerceZTFv7.1°bands=gr°mode=onlySNe/2@train/samplers.smplr - 10.715[mbs]\n",
      "(2) - ../save/alerceZTFv7.1/survey=alerceZTFv7.1°bands=gr°mode=onlySNe/0@train/samplers.smplr - 10.591[mbs]\n",
      "(3) - ../save/alerceZTFv7.1-old/survey=alerceZTFv7.1°bands=gr°mode=onlySNe/train/samplers.smplr - 6.500[mbs]\n",
      "(4) - ../save/alerceZTFv7.1-old/survey=alerceZTFv7.1°bands=gr°mode=onlySNe/train-muypobladas/samplers.smplr - 6.500[mbs]\n",
      "────────────────────────────────────────────────────────────────────────────────────────────────────\n",
      "filedirs after searching with filters: (../save)\n",
      "(0) - ../save/alerceZTFv7.1/survey=alerceZTFv7.1°bands=gr°mode=onlySNe/1@train/samplers.smplr - 10.843[mbs]\n",
      "(1) - ../save/alerceZTFv7.1/survey=alerceZTFv7.1°bands=gr°mode=onlySNe/2@train/samplers.smplr - 10.715[mbs]\n",
      "(2) - ../save/alerceZTFv7.1/survey=alerceZTFv7.1°bands=gr°mode=onlySNe/0@train/samplers.smplr - 10.591[mbs]\n",
      "(3) - ../save/alerceZTFv7.1-old/survey=alerceZTFv7.1°bands=gr°mode=onlySNe/train/samplers.smplr - 6.500[mbs]\n",
      "(4) - ../save/alerceZTFv7.1-old/survey=alerceZTFv7.1°bands=gr°mode=onlySNe/train-muypobladas/samplers.smplr - 6.500[mbs]\n",
      "────────────────────────────────────────────────────────────────────────────────────────────────────\n"
     ]
    }
   ],
   "source": [
    "from flamingchoripan.files import search_for_filedirs\n",
    "from synthsne import C_\n",
    "\n",
    "root_folder = '../save'\n",
    "filedirs = search_for_filedirs(root_folder, fext=C_.EXT_SAMPLER)"
   ]
  },
  {
   "cell_type": "code",
   "execution_count": 9,
   "metadata": {},
   "outputs": [
    {
     "name": "stdout",
     "output_type": "stream",
     "text": [
      "The autoreload extension is already loaded. To reload it, use:\n",
      "  %reload_ext autoreload\n",
      "linear-fstw (80): ['ZTF19aaxnlps', 'ZTF18acqxsyi', 'ZTF19aailqir', 'ZTF18abhhnnv', 'ZTF18abktphg', 'ZTF18abmjvpb', 'ZTF18acqsztr', 'ZTF18abdcfgz', 'ZTF18acatuts', 'ZTF19aavvvrc', 'ZTF18acswtoq', 'ZTF18acbxsap', 'ZTF19aatudsq', 'ZTF18abespgb', 'ZTF19aawhniz', 'ZTF19aaknvlv', 'ZTF18achbllm', 'ZTF18acpeemg', 'ZTF18acnnxor', 'ZTF19aawlnlq', 'ZTF19aaplpaa', 'ZTF18aaiiigm', 'ZTF18acsxusq', 'ZTF19abaukyt', 'ZTF19aacqeai', 'ZTF18abcpolh', 'ZTF18abskove', 'ZTF18acbvgry', 'ZTF18aayiahw', 'ZTF18aaaqexr', 'ZTF19abacxwt', 'ZTF19aacxrzt', 'ZTF18abvrzqj', 'ZTF18acpfwmm', 'ZTF19aapvhhp', 'ZTF19aalxcyo', 'ZTF19aanyubf', 'ZTF18adathpb', 'ZTF18abfdupq', 'ZTF18aaodrgt', 'ZTF18abjyime', 'ZTF18aayivoq', 'ZTF18abvbpku', 'ZTF19aanxufb', 'ZTF18aczbgpm', 'ZTF19aaqtcmy', 'ZTF18acbvbox', 'ZTF18abcyilc', 'ZTF19aalckuo', 'ZTF18acpscso', 'ZTF19aaezwmr', 'ZTF18acqsqry', 'ZTF18abckujq', 'ZTF19aayrjnf', 'ZTF18abwlonm', 'ZTF19aakrnqh', 'ZTF18acrcetn', 'ZTF18abtogdl', 'ZTF19abakdjd', 'ZTF18acvwcig', 'ZTF19aacijie', 'ZTF19aapdkza', 'ZTF18acbwavp', 'ZTF18acspjqd', 'ZTF18acbwtnh', 'ZTF18aapqwyv', 'ZTF18aawczad', 'ZTF18acdzzyf', 'ZTF18acdwohd', 'ZTF18acafztq', 'ZTF19aapcftv', 'ZTF18aaqeasu', 'ZTF19aalafip', 'ZTF18accwjiu', 'ZTF18abilofa', 'ZTF18acbwxou', 'ZTF18abjvzxx', 'ZTF18abwwuug', 'ZTF18achmxsx', 'ZTF18abtvgxv']\n",
      "bspline-fstw (0): []\n",
      "spm-mle-fstw (0): []\n",
      "spm-mle-estw (0): []\n",
      "spm-mcmc-fstw (0): []\n",
      "spm-mcmc-estw (0): []\n",
      "linear-fstw (1): ['ZTF18acbwtnh']\n",
      "bspline-fstw (0): []\n",
      "spm-mle-fstw (0): []\n",
      "spm-mle-estw (0): []\n",
      "spm-mcmc-fstw (0): []\n",
      "spm-mcmc-estw (0): []\n"
     ]
    }
   ],
   "source": [
    "%load_ext autoreload\n",
    "%autoreload 2\n",
    "from synthsne import synth_method_statistics as sms\n",
    "\n",
    "kf = 0\n",
    "lcset_name = f'{kf}@train'\n",
    "rootdir = f'../save/alerceZTFv7.1/survey=alerceZTFv7.1°bands=gr°mode=onlySNe/{lcset_name}'\n",
    "methods = ['linear-fstw', 'bspline-fstw', 'spm-mle-fstw', 'spm-mle-estw']\n",
    "methods = ['linear-fstw', 'bspline-fstw', 'spm-mle-fstw', 'spm-mle-estw', 'spm-mcmc-fstw', 'spm-mcmc-estw']\n",
    "for method in methods:\n",
    "    incorrects_fittings = sms.get_any_incorrects_fittings(rootdir, method)\n",
    "    print(f'{method} ({len(incorrects_fittings)}): {incorrects_fittings}')\n",
    "    \n",
    "for method in methods:\n",
    "    incorrects_fittings = sms.get_all_incorrects_fittings(rootdir, method)\n",
    "    print(f'{method} ({len(incorrects_fittings)}): {incorrects_fittings}')"
   ]
  },
  {
   "cell_type": "code",
   "execution_count": 32,
   "metadata": {},
   "outputs": [
    {
     "name": "stdout",
     "output_type": "stream",
     "text": [
      "The autoreload extension is already loaded. To reload it, use:\n",
      "  %reload_ext autoreload\n",
      "bspline-fstw (861): .42±.11\n",
      "linear-fstw (1050): .47±.14\n"
     ]
    }
   ],
   "source": [
    "%load_ext autoreload\n",
    "%autoreload 2\n",
    "from synthsne import synth_method_statistics as sms\n",
    "\n",
    "for method in methods:\n",
    "    xe_ptimes = sms.get_perf_times(rootdir, method)\n",
    "    print(f'{method} ({len(xe_ptimes)}): {xe_ptimes}')"
   ]
  },
  {
   "cell_type": "code",
   "execution_count": 75,
   "metadata": {},
   "outputs": [
    {
     "name": "stdout",
     "output_type": "stream",
     "text": [
      "The autoreload extension is already loaded. To reload it, use:\n",
      "  %reload_ext autoreload\n",
      "\u001b[31m%%%%%%%%%%%%%%%%%%%%%%%%%%%%%%%%%%%%%%%%%%%%%%%%%%%%%%%%%%%%%%%%%%%%%%%%%%%%%%%%%%%%%%%%%%%%%%%%%%%%\n",
      "\\def\\srule{\\rule{0pt}{2ex}\\rule[-1ex]{0pt}{0ex}}\n",
      "\\begin{table*}\n",
      "\\centering\n",
      "\\caption{$x_j$}\n",
      "\\label{???}\\vspace{.1cm}\n",
      "\\begin{tabular}{l|ccc|c}\n",
      "\\hline\n",
      "metric & bspline-fstw & linear-fstw & spm-mcmc-fstw & spm-mcmc-estw \\srule\\\\\\hline\\hline\n",
      "trace-time [segs] & .38$\\pm$.12 & .45$\\pm$.15 & 167.53$\\pm$34.35 & 170.70$\\pm$36.71  \\srule\\\\\n",
      "mb-fit-log-error & 4.60$\\pm$2.24 & 1.29$\\pm$.48 & 3.53$\\pm$.90 & 3.52$\\pm$.91  \\srule\\\\\n",
      "mb-fits [\\%] & 83.29 & 95.14 & 94.37 & 94.41  \\srule\\\\\n",
      "g-fit-log-error & 4.19$\\pm$2.31 & 1.22$\\pm$.51 & 3.33$\\pm$.89 & 3.33$\\pm$.89  \\srule\\\\\n",
      "g-fits [\\%] & 78.67 & 92.72 & 91.57 & 91.75  \\srule\\\\\n",
      "r-fit-log-error & 4.96$\\pm$2.10 & 1.35$\\pm$.44 & 3.70$\\pm$.88 & 3.71$\\pm$.88  \\srule\\\\\n",
      "r-fits [\\%] & 87.90 & 97.55 & 97.16 & 97.08  \\srule\\\\\n",
      "\\hline\n",
      "\\end{tabular}\n",
      "\\end{table*}\n",
      "%%%%%%%%%%%%%%%%%%%%%%%%%%%%%%%%%%%%%%%%%%%%%%%%%%%%%%%%%%%%%%%%%%%%%%%%%%%%%%%%%%%%%%%%%%%%%%%%%%%%\n",
      "\u001b[0m\n"
     ]
    },
    {
     "data": {
      "text/html": [
       "<div>\n",
       "<style scoped>\n",
       "    .dataframe tbody tr th:only-of-type {\n",
       "        vertical-align: middle;\n",
       "    }\n",
       "\n",
       "    .dataframe tbody tr th {\n",
       "        vertical-align: top;\n",
       "    }\n",
       "\n",
       "    .dataframe thead th {\n",
       "        text-align: right;\n",
       "    }\n",
       "</style>\n",
       "<table border=\"1\" class=\"dataframe\">\n",
       "  <thead>\n",
       "    <tr style=\"text-align: right;\">\n",
       "      <th></th>\n",
       "      <th>bspline-fstw</th>\n",
       "      <th>linear-fstw</th>\n",
       "      <th>spm-mcmc-fstw</th>\n",
       "      <th>spm-mcmc-estw</th>\n",
       "    </tr>\n",
       "  </thead>\n",
       "  <tbody>\n",
       "    <tr>\n",
       "      <th>metric=trace-time [segs]</th>\n",
       "      <td>.38±.12</td>\n",
       "      <td>.45±.15</td>\n",
       "      <td>167.53±34.35</td>\n",
       "      <td>170.70±36.71</td>\n",
       "    </tr>\n",
       "    <tr>\n",
       "      <th>metric=mb-fit-log-error</th>\n",
       "      <td>4.60±2.24</td>\n",
       "      <td>1.29±.48</td>\n",
       "      <td>3.53±.90</td>\n",
       "      <td>3.52±.91</td>\n",
       "    </tr>\n",
       "    <tr>\n",
       "      <th>metric=mb-fits [%]</th>\n",
       "      <td>83.292598</td>\n",
       "      <td>95.135905</td>\n",
       "      <td>94.370434</td>\n",
       "      <td>94.413408</td>\n",
       "    </tr>\n",
       "    <tr>\n",
       "      <th>metric=g-fit-log-error</th>\n",
       "      <td>4.19±2.31</td>\n",
       "      <td>1.22±.51</td>\n",
       "      <td>3.33±.89</td>\n",
       "      <td>3.33±.89</td>\n",
       "    </tr>\n",
       "    <tr>\n",
       "      <th>metric=g-fits [%]</th>\n",
       "      <td>78.673151</td>\n",
       "      <td>92.720873</td>\n",
       "      <td>91.573517</td>\n",
       "      <td>91.745486</td>\n",
       "    </tr>\n",
       "    <tr>\n",
       "      <th>metric=r-fit-log-error</th>\n",
       "      <td>4.96±2.10</td>\n",
       "      <td>1.35±.44</td>\n",
       "      <td>3.70±.88</td>\n",
       "      <td>3.71±.88</td>\n",
       "    </tr>\n",
       "    <tr>\n",
       "      <th>metric=r-fits [%]</th>\n",
       "      <td>87.897678</td>\n",
       "      <td>97.546754</td>\n",
       "      <td>97.162511</td>\n",
       "      <td>97.076526</td>\n",
       "    </tr>\n",
       "  </tbody>\n",
       "</table>\n",
       "</div>"
      ],
      "text/plain": [
       "                         bspline-fstw linear-fstw spm-mcmc-fstw spm-mcmc-estw\n",
       "metric=trace-time [segs]      .38±.12     .45±.15  167.53±34.35  170.70±36.71\n",
       "metric=mb-fit-log-error     4.60±2.24    1.29±.48      3.53±.90      3.52±.91\n",
       "metric=mb-fits [%]          83.292598   95.135905     94.370434     94.413408\n",
       "metric=g-fit-log-error      4.19±2.31    1.22±.51      3.33±.89      3.33±.89\n",
       "metric=g-fits [%]           78.673151   92.720873     91.573517     91.745486\n",
       "metric=r-fit-log-error      4.96±2.10    1.35±.44      3.70±.88      3.71±.88\n",
       "metric=r-fits [%]           87.897678   97.546754     97.162511     97.076526"
      ]
     },
     "execution_count": 75,
     "metadata": {},
     "output_type": "execute_result"
    }
   ],
   "source": [
    "%load_ext autoreload\n",
    "%autoreload 2\n",
    "from synthsne import synth_method_statistics as sms\n",
    "from flamingchoripan.latex.latex_tables import LatexTable\n",
    "\n",
    "methods = ['bspline-fstw', 'linear-fstw']\n",
    "methods = ['bspline-fstw', 'linear-fstw', 'spm-mcmc-fstw', 'spm-mcmc-estw']\n",
    "info_df = sms.get_info_dict(rootdir, methods)\n",
    "latex_kwargs = {\n",
    "    'caption':'$x_j$',\n",
    "    'label':'???',\n",
    "    #'bold_criteriums':{c:'max' if ('%' in c or 'fits-n' in c) else 'min' for c in info_df.columns},\n",
    "    'custom_tabular_align':'l|'+'c'*sum([m.split('-')[-1]=='fstw' for m in methods])+'|'+'c'*sum([m.split('-')[-1]=='estw' for m in methods]),\n",
    "    #'custom_tabular_align':'l|c|ccc|ccc|ccc',\n",
    "}\n",
    "latex_table = LatexTable(info_df, **latex_kwargs)\n",
    "print(latex_table)\n",
    "info_df"
   ]
  },
  {
   "cell_type": "code",
   "execution_count": 6,
   "metadata": {},
   "outputs": [
    {
     "name": "stdout",
     "output_type": "stream",
     "text": [
      "The autoreload extension is already loaded. To reload it, use:\n",
      "  %reload_ext autoreload\n",
      "linear-fstw\n",
      "mb-rank[top10]:\n",
      "(1) - ZTF18aasdted: 11.9001\n",
      "(2) - ZTF19aalbrgu: 7.6828\n",
      "(3) - ZTF18abvrzqj: 7.6739\n",
      "(4) - ZTF18aaqkcso: 7.5905\n",
      "(5) - ZTF18acbvbox: 7.3024\n",
      "(6) - ZTF18acqqyah: 7.1320\n",
      "(7) - ZTF18aaiykoz: 6.8709\n",
      "(8) - ZTF18aaxcntm: 6.7486\n",
      "(9) - ZTF19aacgslb: 6.7449\n",
      "(10) - ZTF18acnnevs: 6.7214\n",
      "g-rank[top10]:\n",
      "(1) - ZTF18aasdted: 12.3149\n",
      "(2) - ZTF18acbvgry: 10.8944\n",
      "(3) - ZTF18acbvbox: 10.7354\n",
      "(4) - ZTF18aaqkcso: 7.6809\n",
      "(5) - ZTF19aalbrgu: 7.5511\n",
      "(6) - ZTF18acqqyah: 7.5269\n",
      "(7) - ZTF18acnnevs: 6.9770\n",
      "(8) - ZTF18aaxcntm: 6.9601\n",
      "(9) - ZTF18aaiykoz: 6.9313\n",
      "(10) - ZTF18abmxahs: 6.7767\n",
      "r-rank[top10]:\n",
      "(1) - ZTF18abvrzqj: 12.7528\n",
      "(2) - ZTF18aasdted: 11.4852\n",
      "(3) - ZTF19aalbrgu: 7.8146\n",
      "(4) - ZTF19aacgslb: 7.5967\n",
      "(5) - ZTF18aaqkcso: 7.5001\n",
      "(6) - ZTF18acqxcga: 7.0083\n",
      "(7) - ZTF18acrdlrp: 6.9092\n",
      "(8) - ZTF18aaumeys: 6.8150\n",
      "(9) - ZTF18aaiykoz: 6.8106\n",
      "(10) - ZTF19aarphwc: 6.8013\n"
     ]
    },
    {
     "ename": "IndexError",
     "evalue": "list index out of range",
     "output_type": "error",
     "traceback": [
      "\u001b[0;31m---------------------------------------------------------------------------\u001b[0m",
      "\u001b[0;31mIndexError\u001b[0m                                Traceback (most recent call last)",
      "\u001b[0;32m<ipython-input-6-188b9e35e088>\u001b[0m in \u001b[0;36m<module>\u001b[0;34m\u001b[0m\n\u001b[1;32m      4\u001b[0m \u001b[0;34m\u001b[0m\u001b[0m\n\u001b[1;32m      5\u001b[0m \u001b[0;32mfor\u001b[0m \u001b[0mmethod\u001b[0m \u001b[0;32min\u001b[0m \u001b[0mmethods\u001b[0m\u001b[0;34m:\u001b[0m\u001b[0;34m\u001b[0m\u001b[0;34m\u001b[0m\u001b[0m\n\u001b[0;32m----> 6\u001b[0;31m     \u001b[0mrank\u001b[0m\u001b[0;34m,\u001b[0m \u001b[0mrank_bdict\u001b[0m\u001b[0;34m,\u001b[0m \u001b[0mband_names\u001b[0m \u001b[0;34m=\u001b[0m \u001b[0msms\u001b[0m\u001b[0;34m.\u001b[0m\u001b[0mget_ranks\u001b[0m\u001b[0;34m(\u001b[0m\u001b[0mrootdir\u001b[0m\u001b[0;34m,\u001b[0m \u001b[0mmethod\u001b[0m\u001b[0;34m)\u001b[0m\u001b[0;34m\u001b[0m\u001b[0;34m\u001b[0m\u001b[0m\n\u001b[0m\u001b[1;32m      7\u001b[0m     \u001b[0mprint\u001b[0m\u001b[0;34m(\u001b[0m\u001b[0mmethod\u001b[0m\u001b[0;34m)\u001b[0m\u001b[0;34m\u001b[0m\u001b[0;34m\u001b[0m\u001b[0m\n\u001b[1;32m      8\u001b[0m     \u001b[0mprint\u001b[0m\u001b[0;34m(\u001b[0m\u001b[0mrank\u001b[0m\u001b[0;34m)\u001b[0m\u001b[0;34m\u001b[0m\u001b[0;34m\u001b[0m\u001b[0m\n",
      "\u001b[0;32m~/oscar/tesis/sne-lightcurves-synthetic/synthsne/synth_method_statistics.py\u001b[0m in \u001b[0;36mget_ranks\u001b[0;34m(rootdir, method)\u001b[0m\n\u001b[1;32m     86\u001b[0m \u001b[0;34m\u001b[0m\u001b[0m\n\u001b[1;32m     87\u001b[0m \u001b[0;32mdef\u001b[0m \u001b[0mget_ranks\u001b[0m\u001b[0;34m(\u001b[0m\u001b[0mrootdir\u001b[0m\u001b[0;34m,\u001b[0m \u001b[0mmethod\u001b[0m\u001b[0;34m)\u001b[0m\u001b[0;34m:\u001b[0m\u001b[0;34m\u001b[0m\u001b[0;34m\u001b[0m\u001b[0m\n\u001b[0;32m---> 88\u001b[0;31m         \u001b[0mband_names\u001b[0m \u001b[0;34m=\u001b[0m \u001b[0mget_band_names\u001b[0m\u001b[0;34m(\u001b[0m\u001b[0mrootdir\u001b[0m\u001b[0;34m,\u001b[0m \u001b[0mmethod\u001b[0m\u001b[0;34m)\u001b[0m\u001b[0;34m\u001b[0m\u001b[0;34m\u001b[0m\u001b[0m\n\u001b[0m\u001b[1;32m     89\u001b[0m         \u001b[0mrank\u001b[0m \u001b[0;34m=\u001b[0m \u001b[0mTopRank\u001b[0m\u001b[0;34m(\u001b[0m\u001b[0;34m'mb-rank'\u001b[0m\u001b[0;34m)\u001b[0m\u001b[0;34m\u001b[0m\u001b[0;34m\u001b[0m\u001b[0m\n\u001b[1;32m     90\u001b[0m         \u001b[0mrank_bdict\u001b[0m \u001b[0;34m=\u001b[0m \u001b[0;34m{\u001b[0m\u001b[0mb\u001b[0m\u001b[0;34m:\u001b[0m\u001b[0mTopRank\u001b[0m\u001b[0;34m(\u001b[0m\u001b[0;34mf'{b}-rank'\u001b[0m\u001b[0;34m)\u001b[0m \u001b[0;32mfor\u001b[0m \u001b[0mb\u001b[0m \u001b[0;32min\u001b[0m \u001b[0mband_names\u001b[0m\u001b[0;34m}\u001b[0m\u001b[0;34m\u001b[0m\u001b[0;34m\u001b[0m\u001b[0m\n",
      "\u001b[0;32m~/oscar/tesis/sne-lightcurves-synthetic/synthsne/synth_method_statistics.py\u001b[0m in \u001b[0;36mget_band_names\u001b[0;34m(rootdir, method)\u001b[0m\n\u001b[1;32m     17\u001b[0m \u001b[0;32mdef\u001b[0m \u001b[0mget_band_names\u001b[0m\u001b[0;34m(\u001b[0m\u001b[0mrootdir\u001b[0m\u001b[0;34m,\u001b[0m \u001b[0mmethod\u001b[0m\u001b[0;34m)\u001b[0m\u001b[0;34m:\u001b[0m\u001b[0;34m\u001b[0m\u001b[0;34m\u001b[0m\u001b[0m\n\u001b[1;32m     18\u001b[0m         \u001b[0mfiledirs\u001b[0m \u001b[0;34m=\u001b[0m \u001b[0mget_filedirs\u001b[0m\u001b[0;34m(\u001b[0m\u001b[0mrootdir\u001b[0m\u001b[0;34m,\u001b[0m \u001b[0mmethod\u001b[0m\u001b[0;34m)\u001b[0m\u001b[0;34m\u001b[0m\u001b[0;34m\u001b[0m\u001b[0m\n\u001b[0;32m---> 19\u001b[0;31m         \u001b[0;32mreturn\u001b[0m \u001b[0mff\u001b[0m\u001b[0;34m.\u001b[0m\u001b[0mload_pickle\u001b[0m\u001b[0;34m(\u001b[0m\u001b[0mfiledirs\u001b[0m\u001b[0;34m[\u001b[0m\u001b[0;36m0\u001b[0m\u001b[0;34m]\u001b[0m\u001b[0;34m,\u001b[0m \u001b[0mverbose\u001b[0m\u001b[0;34m=\u001b[0m\u001b[0;36m0\u001b[0m\u001b[0;34m)\u001b[0m\u001b[0;34m[\u001b[0m\u001b[0;34m'band_names'\u001b[0m\u001b[0;34m]\u001b[0m\u001b[0;34m\u001b[0m\u001b[0;34m\u001b[0m\u001b[0m\n\u001b[0m\u001b[1;32m     20\u001b[0m \u001b[0;34m\u001b[0m\u001b[0m\n\u001b[1;32m     21\u001b[0m \u001b[0;32mdef\u001b[0m \u001b[0mget_classes\u001b[0m\u001b[0;34m(\u001b[0m\u001b[0mrootdir\u001b[0m\u001b[0;34m,\u001b[0m \u001b[0mmethod\u001b[0m\u001b[0;34m)\u001b[0m\u001b[0;34m:\u001b[0m\u001b[0;34m\u001b[0m\u001b[0;34m\u001b[0m\u001b[0m\n",
      "\u001b[0;31mIndexError\u001b[0m: list index out of range"
     ]
    }
   ],
   "source": [
    "%load_ext autoreload\n",
    "%autoreload 2\n",
    "from synthsne import synth_method_statistics as sms\n",
    "\n",
    "for method in methods:\n",
    "    rank, rank_bdict, band_names = sms.get_ranks(rootdir, method)\n",
    "    print(method)\n",
    "    print(rank)\n",
    "    for b in band_names:\n",
    "        print(rank_bdict[b])"
   ]
  }
 ],
 "metadata": {
  "kernelspec": {
   "display_name": "Python 3",
   "language": "python",
   "name": "python3"
  },
  "language_info": {
   "codemirror_mode": {
    "name": "ipython",
    "version": 3
   },
   "file_extension": ".py",
   "mimetype": "text/x-python",
   "name": "python",
   "nbconvert_exporter": "python",
   "pygments_lexer": "ipython3",
   "version": "3.7.9"
  }
 },
 "nbformat": 4,
 "nbformat_minor": 4
}
