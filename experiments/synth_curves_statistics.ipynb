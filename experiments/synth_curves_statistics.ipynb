{
 "cells": [
  {
   "cell_type": "code",
   "execution_count": 1,
   "metadata": {},
   "outputs": [],
   "source": [
    "import sys\n",
    "sys.path.append('../') # or just install the module\n",
    "sys.path.append('../../flaming-choripan') # or just install the module\n",
    "sys.path.append('../../astro-lightcurves-handler') # or just install the module"
   ]
  },
  {
   "cell_type": "code",
   "execution_count": 2,
   "metadata": {},
   "outputs": [],
   "source": [
    "%load_ext autoreload\n",
    "%autoreload 2\n",
    "from synthsne import synth_method_statistics as sms\n",
    "\n",
    "kf = '.'\n",
    "lcset_name = 'train'\n",
    "cfilename = f'survey=alerceZTFv7.1~bands=gr~mode=onlySNe'\n",
    "methods = [\n",
    "    'linear-fstw',\n",
    "    'bspline-fstw',\n",
    "    'spm-mle-fstw',\n",
    "    'spm-mle-estw',\n",
    "    'spm-mcmc-fstw',\n",
    "    'spm-mcmc-estw',\n",
    "    ]"
   ]
  },
  {
   "cell_type": "code",
   "execution_count": 3,
   "metadata": {},
   "outputs": [
    {
     "name": "stdout",
     "output_type": "stream",
     "text": [
      "method=linear-fstw - any_incorrects_fittings=111 #\n",
      "method=bspline-fstw - any_incorrects_fittings=296 #\n",
      "method=spm-mle-fstw - any_incorrects_fittings=111 #\n",
      "method=spm-mle-estw - any_incorrects_fittings=111 #\n",
      "method=spm-mcmc-fstw - any_incorrects_fittings=133 #\n",
      "method=spm-mcmc-estw - any_incorrects_fittings=70 #\n",
      "method=linear-fstw - all_incorrects_fittings=1 #\n",
      "method=bspline-fstw - all_incorrects_fittings=81 #\n",
      "method=spm-mle-fstw - all_incorrects_fittings=1 #\n",
      "method=spm-mle-estw - all_incorrects_fittings=1 #\n",
      "method=spm-mcmc-fstw - all_incorrects_fittings=4 #\n",
      "method=spm-mcmc-estw - all_incorrects_fittings=2 #\n"
     ]
    }
   ],
   "source": [
    "for method in methods:\n",
    "    any_incorrects_fittings = sms.get_any_incorrects_fittings(f'../save/ssne/{method}/{cfilename}', kf, lcset_name)\n",
    "    print(f'method={method} - any_incorrects_fittings={len(any_incorrects_fittings)} #')\n",
    "    \n",
    "for method in methods:\n",
    "    all_incorrects_fittings = sms.get_all_incorrects_fittings(f'../save/ssne/{method}/{cfilename}', kf, lcset_name)\n",
    "    print(f'method={method} - all_incorrects_fittings={len(all_incorrects_fittings)} #')"
   ]
  },
  {
   "cell_type": "code",
   "execution_count": 4,
   "metadata": {},
   "outputs": [
    {
     "name": "stdout",
     "output_type": "stream",
     "text": [
      "The autoreload extension is already loaded. To reload it, use:\n",
      "  %reload_ext autoreload\n",
      "method=linear-fstw - xe_ptimes=.862±.344\n",
      "method=bspline-fstw - xe_ptimes=.714±.235\n",
      "method=spm-mle-fstw - xe_ptimes=10.023±3.823\n",
      "method=spm-mle-estw - xe_ptimes=10.229±3.933\n",
      "method=spm-mcmc-fstw - xe_ptimes=64.681±6.406\n",
      "method=spm-mcmc-estw - xe_ptimes=66.293±8.034\n"
     ]
    }
   ],
   "source": [
    "%load_ext autoreload\n",
    "%autoreload 2\n",
    "from synthsne import synth_method_statistics as sms\n",
    "\n",
    "for method in methods:\n",
    "    xe_ptimes = sms.get_perf_times(f'../save/ssne/{method}/{cfilename}', kf, lcset_name)\n",
    "    print(f'method={method} - xe_ptimes={xe_ptimes}')"
   ]
  },
  {
   "cell_type": "code",
   "execution_count": 6,
   "metadata": {},
   "outputs": [
    {
     "name": "stdout",
     "output_type": "stream",
     "text": [
      "The autoreload extension is already loaded. To reload it, use:\n",
      "  %reload_ext autoreload\n",
      "\u001b[31m%%%%%%%%%%%%%%%%%%%%%%%%%%%%%%%%%%%%%%%%%%%%%%%%%%%%%%%%%%%%%%%%%%%%%%%%%%%%%%%%%%%%%%%%%%%%%%%%%%%%\n",
      "\\def\\srule{\\rule{0pt}{2ex}\\rule[-1ex]{0pt}{0ex}}\n",
      "\\begin{table*}\n",
      "\\centering\n",
      "\\caption{kf=.}\n",
      "\\label{???}\\vspace{.1cm}\n",
      "\\begin{tabular}{lc|cccccc}\n",
      "\\hline\n",
      "metric & band & linear-fstw & bspline-fstw & spm-mle-fstw & spm-mle-estw & spm-mcmc-fstw & spm-mcmc-estw \\srule\\\\\\hline\\hline\n",
      "trace-time [segs] & . & .820$\\pm$.355 & .648$\\pm$.248 & 9.594$\\pm$3.938 & 9.798$\\pm$4.045 & 61.290$\\pm$11.562 & 61.850$\\pm$13.732  \\srule\\\\\n",
      "fit-log-error & g & 1.640$\\pm$.523 & 4.203$\\pm$2.205 & 2.790$\\pm$1.299 & 2.791$\\pm$1.296 & 3.409$\\pm$.855 & 3.392$\\pm$.855  \\srule\\\\\n",
      "fits-success [\\%] & g & 92.784 & 78.938 & 92.784 & 92.784 & 91.667 & 89.307  \\srule\\\\\n",
      "fit-log-error & r & 1.749$\\pm$.461 & 4.944$\\pm$2.045 & 3.428$\\pm$1.233 & 3.429$\\pm$1.236 & 3.744$\\pm$.858 & 3.729$\\pm$.892  \\srule\\\\\n",
      "fits-success [\\%] & r & 97.595 & 88.185 & 97.595 & 97.595 & 96.564 & 95.890  \\srule\\\\\n",
      "\\hline\n",
      "\\end{tabular}\n",
      "\\end{table*}\n",
      "%%%%%%%%%%%%%%%%%%%%%%%%%%%%%%%%%%%%%%%%%%%%%%%%%%%%%%%%%%%%%%%%%%%%%%%%%%%%%%%%%%%%%%%%%%%%%%%%%%%%\n",
      "\u001b[0m\n"
     ]
    },
    {
     "data": {
      "text/html": [
       "<div>\n",
       "<style scoped>\n",
       "    .dataframe tbody tr th:only-of-type {\n",
       "        vertical-align: middle;\n",
       "    }\n",
       "\n",
       "    .dataframe tbody tr th {\n",
       "        vertical-align: top;\n",
       "    }\n",
       "\n",
       "    .dataframe thead th {\n",
       "        text-align: right;\n",
       "    }\n",
       "</style>\n",
       "<table border=\"1\" class=\"dataframe\">\n",
       "  <thead>\n",
       "    <tr style=\"text-align: right;\">\n",
       "      <th></th>\n",
       "      <th>linear-fstw</th>\n",
       "      <th>bspline-fstw</th>\n",
       "      <th>spm-mle-fstw</th>\n",
       "      <th>spm-mle-estw</th>\n",
       "      <th>spm-mcmc-fstw</th>\n",
       "      <th>spm-mcmc-estw</th>\n",
       "    </tr>\n",
       "  </thead>\n",
       "  <tbody>\n",
       "    <tr>\n",
       "      <th>metric=trace-time [segs]~band=.</th>\n",
       "      <td>.820±.355</td>\n",
       "      <td>.648±.248</td>\n",
       "      <td>9.594±3.938</td>\n",
       "      <td>9.798±4.045</td>\n",
       "      <td>61.290±11.562</td>\n",
       "      <td>61.850±13.732</td>\n",
       "    </tr>\n",
       "    <tr>\n",
       "      <th>metric=fit-log-error~band=g</th>\n",
       "      <td>1.640±.523</td>\n",
       "      <td>4.203±2.205</td>\n",
       "      <td>2.790±1.299</td>\n",
       "      <td>2.791±1.296</td>\n",
       "      <td>3.409±.855</td>\n",
       "      <td>3.392±.855</td>\n",
       "    </tr>\n",
       "    <tr>\n",
       "      <th>metric=fits-success [%]~band=g</th>\n",
       "      <td>92.783505</td>\n",
       "      <td>78.938466</td>\n",
       "      <td>92.783505</td>\n",
       "      <td>92.783505</td>\n",
       "      <td>91.666667</td>\n",
       "      <td>89.306931</td>\n",
       "    </tr>\n",
       "    <tr>\n",
       "      <th>metric=fit-log-error~band=r</th>\n",
       "      <td>1.749±.461</td>\n",
       "      <td>4.944±2.045</td>\n",
       "      <td>3.428±1.233</td>\n",
       "      <td>3.429±1.236</td>\n",
       "      <td>3.744±.858</td>\n",
       "      <td>3.729±.892</td>\n",
       "    </tr>\n",
       "    <tr>\n",
       "      <th>metric=fits-success [%]~band=r</th>\n",
       "      <td>97.594502</td>\n",
       "      <td>88.184601</td>\n",
       "      <td>97.594502</td>\n",
       "      <td>97.594502</td>\n",
       "      <td>96.563574</td>\n",
       "      <td>95.890411</td>\n",
       "    </tr>\n",
       "  </tbody>\n",
       "</table>\n",
       "</div>"
      ],
      "text/plain": [
       "                                linear-fstw bspline-fstw spm-mle-fstw  \\\n",
       "metric=trace-time [segs]~band=.   .820±.355    .648±.248  9.594±3.938   \n",
       "metric=fit-log-error~band=g      1.640±.523  4.203±2.205  2.790±1.299   \n",
       "metric=fits-success [%]~band=g    92.783505    78.938466    92.783505   \n",
       "metric=fit-log-error~band=r      1.749±.461  4.944±2.045  3.428±1.233   \n",
       "metric=fits-success [%]~band=r    97.594502    88.184601    97.594502   \n",
       "\n",
       "                                spm-mle-estw  spm-mcmc-fstw  spm-mcmc-estw  \n",
       "metric=trace-time [segs]~band=.  9.798±4.045  61.290±11.562  61.850±13.732  \n",
       "metric=fit-log-error~band=g      2.791±1.296     3.409±.855     3.392±.855  \n",
       "metric=fits-success [%]~band=g     92.783505      91.666667      89.306931  \n",
       "metric=fit-log-error~band=r      3.429±1.236     3.744±.858     3.729±.892  \n",
       "metric=fits-success [%]~band=r     97.594502      96.563574      95.890411  "
      ]
     },
     "execution_count": 6,
     "metadata": {},
     "output_type": "execute_result"
    }
   ],
   "source": [
    "%load_ext autoreload\n",
    "%autoreload 2\n",
    "from synthsne import synth_method_statistics as sms\n",
    "from flamingchoripan.latex.latex_tables import LatexTable\n",
    "\n",
    "info_df = sms.get_info_dict(f'../save/ssne', methods, cfilename, kf, lcset_name)\n",
    "latex_kwargs = {\n",
    "    'caption':f'kf={kf}',\n",
    "    'label':'???',\n",
    "    #'bold_criteriums':{c:'max' if ('%' in c or 'fits-n' in c) else 'min' for c in info_df.columns},\n",
    "    #'custom_tabular_align':'l|'+'c'*sum([m.split('-')[-1]=='fstw' for m in methods])+'|'+'c'*sum([m.split('-')[-1]=='estw' for m in methods]),\n",
    "    #'custom_tabular_align':'l|c|ccc|ccc|ccc',\n",
    "}\n",
    "latex_table = LatexTable(info_df, **latex_kwargs)\n",
    "print(latex_table)\n",
    "info_df"
   ]
  },
  {
   "cell_type": "code",
   "execution_count": 7,
   "metadata": {},
   "outputs": [
    {
     "name": "stdout",
     "output_type": "stream",
     "text": [
      "The autoreload extension is already loaded. To reload it, use:\n",
      "  %reload_ext autoreload\n",
      "linear-fstw\n",
      "band=g:\n",
      "[1#] 0@ZTF18aasdted=31.8127\n",
      "[2#] 0@ZTF18aaslhxt=14.7634\n",
      "[3#] 0@ZTF19aatlmbo=14.5121\n",
      "[4#] 0@ZTF19aawgopm=13.8231\n",
      "[5#] 0@ZTF18abuqugw=13.6038\n",
      "[6#] 0@ZTF18aayjyub=13.5225\n",
      "[7#] 0@ZTF18aaxcntm=13.3264\n",
      "[8#] 0@ZTF18aaqkcso=13.1993\n",
      "[9#] 0@ZTF19aagmsrr=13.0850\n",
      "[10#] 0@ZTF18acqqyah=13.0708\n",
      "                   band=g   k\n",
      "0@ZTF18aasdted  31.812701   1\n",
      "0@ZTF18aaslhxt  14.763449   2\n",
      "0@ZTF19aatlmbo  14.512075   3\n",
      "0@ZTF19aawgopm  13.823146   4\n",
      "0@ZTF18abuqugw  13.603811   5\n",
      "0@ZTF18aayjyub  13.522530   6\n",
      "0@ZTF18aaxcntm  13.326381   7\n",
      "0@ZTF18aaqkcso  13.199259   8\n",
      "0@ZTF19aagmsrr  13.084978   9\n",
      "0@ZTF18acqqyah  13.070841  10\n"
     ]
    },
    {
     "ename": "AssertionError",
     "evalue": "",
     "output_type": "error",
     "traceback": [
      "\u001b[0;31m---------------------------------------------------------------------------\u001b[0m",
      "\u001b[0;31mAssertionError\u001b[0m                            Traceback (most recent call last)",
      "\u001b[0;32m<ipython-input-7-03e5124a420c>\u001b[0m in \u001b[0;36m<module>\u001b[0;34m\u001b[0m\n\u001b[1;32m      9\u001b[0m         \u001b[0mprint\u001b[0m\u001b[0;34m(\u001b[0m\u001b[0mrank_bdict\u001b[0m\u001b[0;34m[\u001b[0m\u001b[0mb\u001b[0m\u001b[0;34m]\u001b[0m\u001b[0;34m)\u001b[0m\u001b[0;34m\u001b[0m\u001b[0;34m\u001b[0m\u001b[0m\n\u001b[1;32m     10\u001b[0m         \u001b[0mprint\u001b[0m\u001b[0;34m(\u001b[0m\u001b[0mrank_bdict\u001b[0m\u001b[0;34m[\u001b[0m\u001b[0mb\u001b[0m\u001b[0;34m]\u001b[0m\u001b[0;34m.\u001b[0m\u001b[0mget_df\u001b[0m\u001b[0;34m(\u001b[0m\u001b[0;34m)\u001b[0m\u001b[0;34m)\u001b[0m\u001b[0;34m\u001b[0m\u001b[0;34m\u001b[0m\u001b[0m\n\u001b[0;32m---> 11\u001b[0;31m         \u001b[0;32massert\u001b[0m \u001b[0;36m0\u001b[0m\u001b[0;34m\u001b[0m\u001b[0;34m\u001b[0m\u001b[0m\n\u001b[0m",
      "\u001b[0;31mAssertionError\u001b[0m: "
     ]
    }
   ],
   "source": [
    "%load_ext autoreload\n",
    "%autoreload 2\n",
    "from synthsne import synth_method_statistics as sms\n",
    "\n",
    "for method in methods:\n",
    "    rank_bdict = sms.get_ranks(f'../save/ssne/{method}/{cfilename}', kf, lcset_name)\n",
    "    print(method)\n",
    "    for b in rank_bdict.keys():\n",
    "        print(rank_bdict[b])"
   ]
  }
 ],
 "metadata": {
  "kernelspec": {
   "display_name": "Python 3",
   "language": "python",
   "name": "python3"
  },
  "language_info": {
   "codemirror_mode": {
    "name": "ipython",
    "version": 3
   },
   "file_extension": ".py",
   "mimetype": "text/x-python",
   "name": "python",
   "nbconvert_exporter": "python",
   "pygments_lexer": "ipython3",
   "version": "3.7.9"
  }
 },
 "nbformat": 4,
 "nbformat_minor": 4
}
