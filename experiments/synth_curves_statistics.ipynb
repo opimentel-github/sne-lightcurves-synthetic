{
 "cells": [
  {
   "cell_type": "code",
   "execution_count": 1,
   "metadata": {},
   "outputs": [],
   "source": [
    "import sys\n",
    "sys.path.append('../') # or just install the module\n",
    "sys.path.append('../../flaming-choripan') # or just install the module\n",
    "sys.path.append('../../astro-lightcurves-handler') # or just install the module"
   ]
  },
  {
   "cell_type": "code",
   "execution_count": 9,
   "metadata": {},
   "outputs": [
    {
     "name": "stdout",
     "output_type": "stream",
     "text": [
      "The autoreload extension is already loaded. To reload it, use:\n",
      "  %reload_ext autoreload\n"
     ]
    }
   ],
   "source": [
    "%load_ext autoreload\n",
    "%autoreload 2\n",
    "from synthsne.results import synth_method_statistics as sms\n",
    "\n",
    "kf = '0'\n",
    "lcset_name = 'train'\n",
    "cfilename = f'survey=alerceZTFv7.1~bands=gr~mode=onlySNe'\n",
    "methods = [\n",
    "    'linear-fstw',\n",
    "    'bspline-fstw',\n",
    "    'spm-mle-fstw',\n",
    "    'spm-mle-estw',\n",
    "    'spm-mcmc-fstw',\n",
    "    'spm-mcmc-estw',\n",
    "    ]"
   ]
  },
  {
   "cell_type": "code",
   "execution_count": 12,
   "metadata": {},
   "outputs": [
    {
     "name": "stdout",
     "output_type": "stream",
     "text": [
      "method=linear-fstw - any_incorrects_fittings=24 #\n",
      "['ZTF18acafztq', 'ZTF19abqqvhd', 'ZTF18acrcetn', 'ZTF19aavjztg', 'ZTF19abqrxhy', 'ZTF19aanyubf', 'ZTF18aaodrgt', 'ZTF19abakdjd', 'ZTF18acrhehl', 'ZTF18abvbpku', 'ZTF20aayqjpv', 'ZTF18abwlonm', 'ZTF19aakrnqh', 'ZTF18abdcfgz', 'ZTF19aapmdwm', 'ZTF19aapcftv', 'ZTF18abwwuug', 'ZTF18abscyjj', 'ZTF19abfjjlk', 'ZTF19abacxwt', 'ZTF18abcpolh', 'ZTF19acxmnlb', 'ZTF19abdyyut', 'ZTF19abzrjrg']\n",
      "method=bspline-fstw - any_incorrects_fittings=26 #\n",
      "['ZTF18acafztq', 'ZTF19abqqvhd', 'ZTF18acrcetn', 'ZTF19aavjztg', 'ZTF19abqrxhy', 'ZTF19aanyubf', 'ZTF18aaodrgt', 'ZTF19abakdjd', 'ZTF18acrhehl', 'ZTF18abvbpku', 'ZTF20aayqjpv', 'ZTF18abwlonm', 'ZTF19abiietd', 'ZTF19aakrnqh', 'ZTF18abdcfgz', 'ZTF19aapmdwm', 'ZTF19aapcftv', 'ZTF18abwwuug', 'ZTF18abscyjj', 'ZTF19abfjjlk', 'ZTF19abacxwt', 'ZTF18abcpolh', 'ZTF19acxmnlb', 'ZTF19abdyyut', 'ZTF19abzrjrg', 'ZTF18acbwaxk']\n",
      "method=spm-mle-fstw - any_incorrects_fittings=24 #\n",
      "['ZTF18acafztq', 'ZTF19abqqvhd', 'ZTF18acrcetn', 'ZTF19aavjztg', 'ZTF19abqrxhy', 'ZTF19aanyubf', 'ZTF18aaodrgt', 'ZTF19abakdjd', 'ZTF18acrhehl', 'ZTF18abvbpku', 'ZTF20aayqjpv', 'ZTF18abwlonm', 'ZTF19aakrnqh', 'ZTF18abdcfgz', 'ZTF19aapmdwm', 'ZTF19aapcftv', 'ZTF18abwwuug', 'ZTF18abscyjj', 'ZTF19abfjjlk', 'ZTF19abacxwt', 'ZTF18abcpolh', 'ZTF19acxmnlb', 'ZTF19abdyyut', 'ZTF19abzrjrg']\n",
      "method=spm-mle-estw - any_incorrects_fittings=5 #\n",
      "['ZTF19abqqvhd', 'ZTF19aanyubf', 'ZTF20aayqjpv', 'ZTF18abwwuug', 'ZTF19abzrjrg']\n"
     ]
    },
    {
     "ename": "KeyError",
     "evalue": "'train'",
     "output_type": "error",
     "traceback": [
      "\u001b[0;31m---------------------------------------------------------------------------\u001b[0m",
      "\u001b[0;31mKeyError\u001b[0m                                  Traceback (most recent call last)",
      "\u001b[0;32m<ipython-input-12-9e92d4d21341>\u001b[0m in \u001b[0;36m<module>\u001b[0;34m\u001b[0m\n\u001b[1;32m      1\u001b[0m \u001b[0;32mfor\u001b[0m \u001b[0mmethod\u001b[0m \u001b[0;32min\u001b[0m \u001b[0mmethods\u001b[0m\u001b[0;34m:\u001b[0m\u001b[0;34m\u001b[0m\u001b[0;34m\u001b[0m\u001b[0m\n\u001b[0;32m----> 2\u001b[0;31m     \u001b[0many_incorrects_fittings\u001b[0m \u001b[0;34m=\u001b[0m \u001b[0msms\u001b[0m\u001b[0;34m.\u001b[0m\u001b[0mget_any_incorrects_fittings\u001b[0m\u001b[0;34m(\u001b[0m\u001b[0;34mf'../save/ssne/{method}/{cfilename}'\u001b[0m\u001b[0;34m,\u001b[0m \u001b[0mkf\u001b[0m\u001b[0;34m,\u001b[0m \u001b[0mlcset_name\u001b[0m\u001b[0;34m)\u001b[0m\u001b[0;34m\u001b[0m\u001b[0;34m\u001b[0m\u001b[0m\n\u001b[0m\u001b[1;32m      3\u001b[0m     \u001b[0mprint\u001b[0m\u001b[0;34m(\u001b[0m\u001b[0;34mf'method={method} - any_incorrects_fittings={len(any_incorrects_fittings)} #'\u001b[0m\u001b[0;34m)\u001b[0m\u001b[0;34m\u001b[0m\u001b[0;34m\u001b[0m\u001b[0m\n\u001b[1;32m      4\u001b[0m     \u001b[0mprint\u001b[0m\u001b[0;34m(\u001b[0m\u001b[0many_incorrects_fittings\u001b[0m\u001b[0;34m)\u001b[0m\u001b[0;34m\u001b[0m\u001b[0;34m\u001b[0m\u001b[0m\n\u001b[1;32m      5\u001b[0m \u001b[0;34m\u001b[0m\u001b[0m\n",
      "\u001b[0;32m~/oscar/tesis/sne-lightcurves-synthetic/synthsne/results/synth_method_statistics.py\u001b[0m in \u001b[0;36mget_any_incorrects_fittings\u001b[0;34m(rootdir, kf, lcset_name)\u001b[0m\n\u001b[1;32m     50\u001b[0m \u001b[0;34m\u001b[0m\u001b[0m\n\u001b[1;32m     51\u001b[0m \u001b[0;32mdef\u001b[0m \u001b[0mget_any_incorrects_fittings\u001b[0m\u001b[0;34m(\u001b[0m\u001b[0mrootdir\u001b[0m\u001b[0;34m,\u001b[0m \u001b[0mkf\u001b[0m\u001b[0;34m,\u001b[0m \u001b[0mlcset_name\u001b[0m\u001b[0;34m)\u001b[0m\u001b[0;34m:\u001b[0m\u001b[0;34m\u001b[0m\u001b[0;34m\u001b[0m\u001b[0m\n\u001b[0;32m---> 52\u001b[0;31m         \u001b[0mfiles\u001b[0m\u001b[0;34m,\u001b[0m \u001b[0mfiles_ids\u001b[0m \u001b[0;34m=\u001b[0m \u001b[0mfcfiles\u001b[0m\u001b[0;34m.\u001b[0m\u001b[0mgather_files_by_kfold\u001b[0m\u001b[0;34m(\u001b[0m\u001b[0mrootdir\u001b[0m\u001b[0;34m,\u001b[0m \u001b[0mkf\u001b[0m\u001b[0;34m,\u001b[0m \u001b[0mlcset_name\u001b[0m\u001b[0;34m)\u001b[0m\u001b[0;34m\u001b[0m\u001b[0;34m\u001b[0m\u001b[0m\n\u001b[0m\u001b[1;32m     53\u001b[0m         \u001b[0mlcobj_names\u001b[0m \u001b[0;34m=\u001b[0m \u001b[0;34m[\u001b[0m\u001b[0;34m]\u001b[0m\u001b[0;34m\u001b[0m\u001b[0;34m\u001b[0m\u001b[0m\n\u001b[1;32m     54\u001b[0m         \u001b[0;32mfor\u001b[0m \u001b[0mf\u001b[0m \u001b[0;32min\u001b[0m \u001b[0mfiles\u001b[0m\u001b[0;34m:\u001b[0m\u001b[0;34m\u001b[0m\u001b[0;34m\u001b[0m\u001b[0m\n",
      "\u001b[0;32m~/oscar/tesis/flaming-choripan/flamingchoripan/files.py\u001b[0m in \u001b[0;36mgather_files_by_kfold\u001b[0;34m(rootdir, kf, kf_set, id_key, key_key_separator, key_value_separator, fext, kf_str, create_dir)\u001b[0m\n\u001b[1;32m    441\u001b[0m \u001b[0;34m\u001b[0m\u001b[0m\n\u001b[1;32m    442\u001b[0m         \u001b[0;32melse\u001b[0m\u001b[0;34m:\u001b[0m\u001b[0;34m\u001b[0m\u001b[0;34m\u001b[0m\u001b[0m\n\u001b[0;32m--> 443\u001b[0;31m                 \u001b[0mkfrd\u001b[0m \u001b[0;34m=\u001b[0m \u001b[0mkfold_rootdirs_dict\u001b[0m\u001b[0;34m[\u001b[0m\u001b[0mkf_set\u001b[0m\u001b[0;34m]\u001b[0m\u001b[0;34m[\u001b[0m\u001b[0mstr\u001b[0m\u001b[0;34m(\u001b[0m\u001b[0mkf\u001b[0m\u001b[0;34m)\u001b[0m\u001b[0;34m]\u001b[0m\u001b[0;34m\u001b[0m\u001b[0;34m\u001b[0m\u001b[0m\n\u001b[0m\u001b[1;32m    444\u001b[0m \t\tfiles, files_ids = gather_files_by_id(kfrd,\n\u001b[1;32m    445\u001b[0m                         \u001b[0mid_key\u001b[0m\u001b[0;34m,\u001b[0m\u001b[0;34m\u001b[0m\u001b[0;34m\u001b[0m\u001b[0m\n",
      "\u001b[0;31mKeyError\u001b[0m: 'train'"
     ]
    }
   ],
   "source": [
    "for method in methods:\n",
    "    any_incorrects_fittings = sms.get_any_incorrects_fittings(f'../save/ssne/{method}/{cfilename}', kf, lcset_name)\n",
    "    print(f'method={method} - any_incorrects_fittings={len(any_incorrects_fittings)} #')\n",
    "    print(any_incorrects_fittings)\n",
    "    \n",
    "for method in methods:\n",
    "    all_incorrects_fittings = sms.get_all_incorrects_fittings(f'../save/ssne/{method}/{cfilename}', kf, lcset_name)\n",
    "    #print(all_incorrects_fittings)\n",
    "    print(f'method={method} - all_incorrects_fittings={len(all_incorrects_fittings)} #')"
   ]
  },
  {
   "cell_type": "code",
   "execution_count": null,
   "metadata": {},
   "outputs": [],
   "source": [
    "ZTF19abiietd"
   ]
  },
  {
   "cell_type": "code",
   "execution_count": null,
   "metadata": {},
   "outputs": [],
   "source": [
    "%load_ext autoreload\n",
    "%autoreload 2\n",
    "from synthsne import synth_method_statistics as sms\n",
    "\n",
    "for method in methods:\n",
    "    xe_ptimes = sms.get_perf_times(f'../save/ssne/{method}/{cfilename}', kf, lcset_name)\n",
    "    print(f'method={method} - xe_ptimes={xe_ptimes}')"
   ]
  },
  {
   "cell_type": "code",
   "execution_count": null,
   "metadata": {},
   "outputs": [],
   "source": [
    "%load_ext autoreload\n",
    "%autoreload 2\n",
    "from synthsne import synth_method_statistics as sms\n",
    "from flamingchoripan.latex.latex_tables import LatexTable\n",
    "\n",
    "info_df = sms.get_info_dict(f'../save/ssne', methods, cfilename, kf, lcset_name)\n",
    "latex_kwargs = {\n",
    "    'caption':f'set={kf}@train',\n",
    "    'label':'???',\n",
    "    'custom_tabular_align':'lc|'+'c'*sum([m.split('-')[-1]=='fstw' for m in methods])+'|'+'c'*sum([m.split('-')[-1]=='estw' for m in methods]), \n",
    "}\n",
    "latex_table = LatexTable(info_df, **latex_kwargs)\n",
    "print(latex_table)\n",
    "info_df"
   ]
  },
  {
   "cell_type": "code",
   "execution_count": null,
   "metadata": {
    "scrolled": true
   },
   "outputs": [],
   "source": [
    "%load_ext autoreload\n",
    "%autoreload 2\n",
    "from synthsne import synth_method_statistics as sms\n",
    "\n",
    "for method in methods:\n",
    "    rank_bdict = sms.get_ranks(f'../save/ssne/{method}/{cfilename}', kf, lcset_name)\n",
    "    print(method)\n",
    "    for b in rank_bdict.keys():\n",
    "        print(rank_bdict[b])"
   ]
  },
  {
   "cell_type": "code",
   "execution_count": null,
   "metadata": {},
   "outputs": [],
   "source": [
    "%load_ext autoreload\n",
    "%autoreload 2\n",
    "from synthsne import synth_method_statistics as sms\n",
    "from flamingchoripan.files import load_pickle\n",
    "from flamingchoripan.dataframes import DFBuilder\n",
    "from flamingchoripan.latex.latex_tables import LatexTable\n",
    "\n",
    "kf = '0'\n",
    "lcset_name = 'train'\n",
    "cfilename = f'survey=alerceZTFv7.1~bands=gr~mode=onlySNe'\n",
    "filedir = f'../save/mcmc_priors/{cfilename}/{kf}@{lcset_name}/mcmc_priors.d'\n",
    "priors_d = load_pickle(filedir)\n",
    "info_df = DFBuilder()\n",
    "spms = ['A','t0','gamma','f','trise','tfall']\n",
    "for b in ['g', 'r']:\n",
    "    for spm_p in spms:\n",
    "        d = {}\n",
    "        for c in ['SLSN', 'SNIa', 'SNIbc', 'allSNII']:\n",
    "            d[c] = priors_d[b][c][spm_p]\n",
    "    \n",
    "        info_df.append(f'SPM var={spm_p}~band={b}', d)\n",
    "    \n",
    "info_df = info_df.get_df()\n",
    "latex_kwargs = {\n",
    "    'caption':f'set={kf}@train',\n",
    "    'label':'???',\n",
    "    'hline_k':len(spms)-1,\n",
    "    }\n",
    "latex_table = LatexTable(info_df, **latex_kwargs)\n",
    "print(latex_table)\n",
    "info_df"
   ]
  }
 ],
 "metadata": {
  "kernelspec": {
   "display_name": "Python 3",
   "language": "python",
   "name": "python3"
  },
  "language_info": {
   "codemirror_mode": {
    "name": "ipython",
    "version": 3
   },
   "file_extension": ".py",
   "mimetype": "text/x-python",
   "name": "python",
   "nbconvert_exporter": "python",
   "pygments_lexer": "ipython3",
   "version": "3.7.9"
  }
 },
 "nbformat": 4,
 "nbformat_minor": 4
}
