{
 "cells": [
  {
   "cell_type": "code",
   "execution_count": 1,
   "metadata": {},
   "outputs": [],
   "source": [
    "import sys\n",
    "sys.path.append('../') # or just install the module\n",
    "sys.path.append('../../flaming-choripan') # or just install the module\n",
    "sys.path.append('../../astro-lightcurves-handler') # or just install the module"
   ]
  },
  {
   "cell_type": "code",
   "execution_count": 2,
   "metadata": {},
   "outputs": [],
   "source": [
    "%load_ext autoreload\n",
    "%autoreload 2\n",
    "from synthsne import synth_method_statistics as sms\n",
    "\n",
    "kf = '.'\n",
    "lcset_name = 'train'\n",
    "cfilename = f'survey=alerceZTFv7.1~bands=gr~mode=onlySNe'\n",
    "methods = [\n",
    "    'linear-fstw',\n",
    "    'bspline-fstw',\n",
    "    'spm-mle-fstw',\n",
    "    'spm-mle-estw',\n",
    "    'spm-mcmc-fstw',\n",
    "    'spm-mcmc-estw',\n",
    "    ]"
   ]
  },
  {
   "cell_type": "code",
   "execution_count": 3,
   "metadata": {},
   "outputs": [
    {
     "ename": "TabError",
     "evalue": "inconsistent use of tabs and spaces in indentation (numba.py, line 13)",
     "output_type": "error",
     "traceback": [
      "Traceback \u001b[0;36m(most recent call last)\u001b[0m:\n",
      "  File \u001b[1;32m\"/home/tesla/anaconda3/envs/lchandler/lib/python3.7/site-packages/IPython/core/interactiveshell.py\"\u001b[0m, line \u001b[1;32m3418\u001b[0m, in \u001b[1;35mrun_code\u001b[0m\n    exec(code_obj, self.user_global_ns, self.user_ns)\n",
      "  File \u001b[1;32m\"<ipython-input-3-1a316ef5febf>\"\u001b[0m, line \u001b[1;32m2\u001b[0m, in \u001b[1;35m<module>\u001b[0m\n    any_incorrects_fittings = sms.get_any_incorrects_fittings(f'../save/ssne/{method}/{cfilename}', kf, lcset_name)\n",
      "  File \u001b[1;32m\"../synthsne/synth_method_statistics.py\"\u001b[0m, line \u001b[1;32m68\u001b[0m, in \u001b[1;35mget_any_incorrects_fittings\u001b[0m\n    files, files_ids = fcfiles.gather_files_by_kfold(rootdir, kf, lcset_name)\n",
      "  File \u001b[1;32m\"../../flaming-choripan/flamingchoripan/files.py\"\u001b[0m, line \u001b[1;32m391\u001b[0m, in \u001b[1;35mgather_files_by_kfold\u001b[0m\n    fext,\n",
      "  File \u001b[1;32m\"../../flaming-choripan/flamingchoripan/files.py\"\u001b[0m, line \u001b[1;32m341\u001b[0m, in \u001b[1;35mgather_files_by_id\u001b[0m\n    fext,\n",
      "  File \u001b[1;32m\"../../flaming-choripan/flamingchoripan/files.py\"\u001b[0m, line \u001b[1;32m331\u001b[0m, in \u001b[1;35mgather_files\u001b[0m\n    return [PFile(filedir) for filedir in filedirs]\n",
      "  File \u001b[1;32m\"../../flaming-choripan/flamingchoripan/files.py\"\u001b[0m, line \u001b[1;32m331\u001b[0m, in \u001b[1;35m<listcomp>\u001b[0m\n    return [PFile(filedir) for filedir in filedirs]\n",
      "  File \u001b[1;32m\"../../flaming-choripan/flamingchoripan/files.py\"\u001b[0m, line \u001b[1;32m264\u001b[0m, in \u001b[1;35m__init__\u001b[0m\n    self.reset()\n",
      "  File \u001b[1;32m\"../../flaming-choripan/flamingchoripan/files.py\"\u001b[0m, line \u001b[1;32m284\u001b[0m, in \u001b[1;35mreset\u001b[0m\n    self.load()\n",
      "  File \u001b[1;32m\"../../flaming-choripan/flamingchoripan/files.py\"\u001b[0m, line \u001b[1;32m320\u001b[0m, in \u001b[1;35mload\u001b[0m\n    file = load_pickle(self.filedir)\n",
      "  File \u001b[1;32m\"../../flaming-choripan/flamingchoripan/files.py\"\u001b[0m, line \u001b[1;32m130\u001b[0m, in \u001b[1;35mload_pickle\u001b[0m\n    file = pickle.load(pickle_in)\n",
      "\u001b[0;36m  File \u001b[0;32m\"../../astro-lightcurves-handler/lchandler/lc_classes.py\"\u001b[0;36m, line \u001b[0;32m9\u001b[0;36m, in \u001b[0;35m<module>\u001b[0;36m\u001b[0m\n\u001b[0;31m    import flamingchoripan.numba as fcnumba\u001b[0m\n",
      "\u001b[0;36m  File \u001b[0;32m\"../../flaming-choripan/flamingchoripan/numba.py\"\u001b[0;36m, line \u001b[0;32m13\u001b[0m\n\u001b[0;31m    print(rank_bdict[b].get_df())\u001b[0m\n\u001b[0m                                 ^\u001b[0m\n\u001b[0;31mTabError\u001b[0m\u001b[0;31m:\u001b[0m inconsistent use of tabs and spaces in indentation\n"
     ]
    }
   ],
   "source": [
    "for method in methods:\n",
    "    any_incorrects_fittings = sms.get_any_incorrects_fittings(f'../save/ssne/{method}/{cfilename}', kf, lcset_name)\n",
    "    print(f'method={method} - any_incorrects_fittings={len(any_incorrects_fittings)} #')\n",
    "    \n",
    "for method in methods:\n",
    "    all_incorrects_fittings = sms.get_all_incorrects_fittings(f'../save/ssne/{method}/{cfilename}', kf, lcset_name)\n",
    "    print(f'method={method} - all_incorrects_fittings={len(all_incorrects_fittings)} #')"
   ]
  },
  {
   "cell_type": "code",
   "execution_count": null,
   "metadata": {},
   "outputs": [],
   "source": [
    "%load_ext autoreload\n",
    "%autoreload 2\n",
    "from synthsne import synth_method_statistics as sms\n",
    "\n",
    "for method in methods:\n",
    "    xe_ptimes = sms.get_perf_times(f'../save/ssne/{method}/{cfilename}', kf, lcset_name)\n",
    "    print(f'method={method} - xe_ptimes={xe_ptimes}')"
   ]
  },
  {
   "cell_type": "code",
   "execution_count": null,
   "metadata": {},
   "outputs": [],
   "source": [
    "%load_ext autoreload\n",
    "%autoreload 2\n",
    "from synthsne import synth_method_statistics as sms\n",
    "from flamingchoripan.latex.latex_tables import LatexTable\n",
    "\n",
    "info_df = sms.get_info_dict(f'../save/ssne', methods, cfilename, kf, lcset_name)\n",
    "latex_kwargs = {\n",
    "    'caption':f'kf={kf}',\n",
    "    'label':'???',\n",
    "    #'bold_criteriums':{c:'max' if ('%' in c or 'fits-n' in c) else 'min' for c in info_df.columns},\n",
    "    #'custom_tabular_align':'l|'+'c'*sum([m.split('-')[-1]=='fstw' for m in methods])+'|'+'c'*sum([m.split('-')[-1]=='estw' for m in methods]),\n",
    "    #'custom_tabular_align':'l|c|ccc|ccc|ccc',\n",
    "}\n",
    "latex_table = LatexTable(info_df, **latex_kwargs)\n",
    "print(latex_table)\n",
    "info_df"
   ]
  },
  {
   "cell_type": "code",
   "execution_count": null,
   "metadata": {},
   "outputs": [],
   "source": [
    "%load_ext autoreload\n",
    "%autoreload 2\n",
    "from synthsne import synth_method_statistics as sms\n",
    "\n",
    "for method in methods:\n",
    "    rank_bdict = sms.get_ranks(f'../save/ssne/{method}/{cfilename}', kf, lcset_name)\n",
    "    print(method)\n",
    "    for b in rank_bdict.keys():\n",
    "        print(rank_bdict[b])"
   ]
  }
 ],
 "metadata": {
  "kernelspec": {
   "display_name": "Python 3",
   "language": "python",
   "name": "python3"
  },
  "language_info": {
   "codemirror_mode": {
    "name": "ipython",
    "version": 3
   },
   "file_extension": ".py",
   "mimetype": "text/x-python",
   "name": "python",
   "nbconvert_exporter": "python",
   "pygments_lexer": "ipython3",
   "version": "3.7.9"
  }
 },
 "nbformat": 4,
 "nbformat_minor": 4
}
