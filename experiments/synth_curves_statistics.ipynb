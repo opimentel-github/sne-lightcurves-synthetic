{
 "cells": [
  {
   "cell_type": "code",
   "execution_count": 1,
   "metadata": {},
   "outputs": [],
   "source": [
    "import sys\n",
    "sys.path.append('../') # or just install the module\n",
    "sys.path.append('../../flaming-choripan') # or just install the module\n",
    "sys.path.append('../../astro-lightcurves-handler') # or just install the module"
   ]
  },
  {
   "cell_type": "code",
   "execution_count": 34,
   "metadata": {},
   "outputs": [
    {
     "name": "stdout",
     "output_type": "stream",
     "text": [
      "The autoreload extension is already loaded. To reload it, use:\n",
      "  %reload_ext autoreload\n"
     ]
    },
    {
     "data": {
      "text/plain": [
       "[]"
      ]
     },
     "execution_count": 34,
     "metadata": {},
     "output_type": "execute_result"
    }
   ],
   "source": [
    "%load_ext autoreload\n",
    "%autoreload 2\n",
    "from synthsne import curve_statistics as cs\n",
    "\n",
    "rootdir = '../save/alerceZTFv7.1'\n",
    "method = 'mcmc'\n",
    "cs.get_all_incorrects_fittings(rootdir, method)"
   ]
  },
  {
   "cell_type": "code",
   "execution_count": 35,
   "metadata": {},
   "outputs": [
    {
     "name": "stdout",
     "output_type": "stream",
     "text": [
      "The autoreload extension is already loaded. To reload it, use:\n",
      "  %reload_ext autoreload\n",
      "mb-rank:\n",
      "(1) - ZTF19abclykm: 1573.4415531111683\n",
      "(2) - ZTF19aafljiq: 439.10263433567843\n",
      "(3) - ZTF20aawmlfq: 260.0581272806624\n",
      "(4) - ZTF19aaxfzao: 150.1000051622084\n",
      "(5) - ZTF19aamhhae: 105.19817253719822\n",
      "(6) - ZTF20aayprqz: 94.49655621888238\n",
      "(7) - ZTF18abshezu: 88.40634320667245\n",
      "(8) - ZTF18aavjcpf: 80.64340674204233\n",
      "(9) - ZTF19abpbopt: 69.71207033939248\n",
      "(10) - ZTF19aaeopgw: 68.17809256420074\n",
      "g-rank:\n",
      "(1) - ZTF19abclykm: 1022.6873097632855\n",
      "(2) - ZTF19aafljiq: 511.7394954111892\n",
      "(3) - ZTF20aawmlfq: 333.5915861291833\n",
      "(4) - ZTF19aaxfzao: 117.29049121013826\n",
      "(5) - ZTF18abshezu: 113.60690788116085\n",
      "(6) - ZTF19aaeopgw: 112.19445262879353\n",
      "(7) - ZTF19aamhhae: 98.97844611571261\n",
      "(8) - ZTF20aayprqz: 95.16629529709608\n",
      "(9) - ZTF19abpbopt: 73.75058619729101\n",
      "(10) - ZTF19aaumvig: 66.84375350833443\n",
      "r-rank:\n",
      "(1) - ZTF19abclykm: 2124.195796459051\n",
      "(2) - ZTF19aafljiq: 366.4657732601677\n",
      "(3) - ZTF20aawmlfq: 186.5246684321415\n",
      "(4) - ZTF19aaxfzao: 182.9095191142785\n",
      "(5) - ZTF18aavjcpf: 142.36551309108978\n",
      "(6) - ZTF19aamhhae: 111.41789895868382\n",
      "(7) - ZTF20aayprqz: 93.82681714066868\n",
      "(8) - ZTF18acnnevs: 88.55796090220191\n",
      "(9) - ZTF18abxbmqh: 77.60136264752607\n",
      "(10) - ZTF18aaxcxih: 76.16598134563671\n"
     ]
    }
   ],
   "source": [
    "%load_ext autoreload\n",
    "%autoreload 2\n",
    "from synthsne import curve_statistics as cs\n",
    "\n",
    "method = 'mcmc'\n",
    "rank, rank_bdict, band_names = cs.get_ranks(rootdir, method)\n",
    "print(rank)\n",
    "for b in band_names:\n",
    "    print(rank_bdict[b])"
   ]
  },
  {
   "cell_type": "code",
   "execution_count": 11,
   "metadata": {},
   "outputs": [
    {
     "name": "stdout",
     "output_type": "stream",
     "text": [
      "The autoreload extension is already loaded. To reload it, use:\n",
      "  %reload_ext autoreload\n"
     ]
    }
   ],
   "source": [
    "%load_ext autoreload\n",
    "%autoreload 2\n",
    "from synthsne.generators import curve_statistics as cs\n",
    "\n",
    "curve_statistics\n",
    "    \n",
    "methods = ['curve_fit', 'mcmc']\n",
    "band_names = ['g', 'r']\n",
    "rootdir = '/home/opimentel/tesis/astro-lightcurves-handler/save/alerceZTFv5.1'\n",
    "\n",
    "results_dict = {}\n",
    "rank = {}\n",
    "rank_bdict = {}\n",
    "for method in methods:\n",
    "    results_dict[method] = {\n",
    "        'mb-fit-error':[],\n",
    "        'mb-null-fits':0,\n",
    "        'mb-n':0,\n",
    "    }\n",
    "    for b in band_names:\n",
    "        results_dict[method].update({\n",
    "            f'{b}-fit-error':[],\n",
    "            f'{b}-null-fits':0,\n",
    "            f'{b}-n':0,\n",
    "        })\n",
    "\n",
    "    rank[method] = TopRank('mb-rank')\n",
    "    rank_bdict[method] = {b:TopRank(f'{b}-rank') for b in band_names}\n",
    "\n",
    "### loop\n",
    "for method in methods:\n",
    "    load_rootdir = f'{rootdir}/{method}'\n",
    "    filedirs = get_filedirs(load_rootdir, fext='ferror')\n",
    "    for filedir in filedirs:\n",
    "        fdict = load_pickle(filedir, verbose=0)\n",
    "        lcobj_name = fdict['lcobj_name']\n",
    "        xes = []\n",
    "        for b in band_names:\n",
    "            ov = fdict['error_bdict'][b]\n",
    "            v = [x for x in ov if x>0]\n",
    "            results_dict[method][f'{b}-fit-error'] += v\n",
    "            results_dict[method][f'{b}-null-fits'] += len(v)\n",
    "            results_dict[method][f'{b}-n'] += len(ov)\n",
    "            results_dict[method][f'mb-fit-error'] += v\n",
    "            results_dict[method][f'mb-null-fits'] += len(v)\n",
    "            results_dict[method][f'mb-n'] += len(ov)\n",
    "            if len(v)>0:\n",
    "                xe = XError(v, 0)\n",
    "                rank_bdict[method][b].add(lcobj_name, xe.mean)\n",
    "                xes.append(xe)\n",
    "                \n",
    "        if len(xes)>0:\n",
    "            rank[method].add(lcobj_name, np.mean([xe.mean for xe in xes]))\n",
    "            \n",
    "for method in methods:\n",
    "    results_dict[method]['mb-fit-error'] = XError(results_dict[method]['mb-fit-error'], 0)\n",
    "    results_dict[method]['mb-null-fits'] = (1-results_dict[method]['mb-null-fits']/results_dict[method].pop('mb-n'))*100\n",
    "    for b in band_names:\n",
    "        results_dict[method][f'{b}-fit-error'] = XError(results_dict[method][f'{b}-fit-error'], 0)\n",
    "        results_dict[method][f'{b}-null-fits'] = (1-results_dict[method][f'{b}-null-fits']/results_dict[method].pop(f'{b}-n'))*100"
   ]
  },
  {
   "cell_type": "code",
   "execution_count": 12,
   "metadata": {},
   "outputs": [
    {
     "name": "stdout",
     "output_type": "stream",
     "text": [
      "curve_fit {'mb-fit-error': XError(1.97+-9.29, dim=0), 'mb-null-fits': 9.185606060606055, 'g-fit-error': XError(1.31+-3.43, dim=0), 'g-null-fits': 13.139204545454541, 'r-fit-error': XError(2.57+-12.40, dim=0), 'r-null-fits': 5.23200757575758}\n",
      "mcmc {'mb-fit-error': XError(1.67+-1.41, dim=0), 'mb-null-fits': 7.14285714285714, 'g-fit-error': XError(1.85+-1.55, dim=0), 'g-null-fits': 0.0, 'r-fit-error': XError(1.47+-1.19, dim=0), 'r-null-fits': 14.28571428571429}\n"
     ]
    }
   ],
   "source": [
    "for method in methods:\n",
    "    print(method, results_dict[method])"
   ]
  }
 ],
 "metadata": {
  "kernelspec": {
   "display_name": "Python 3",
   "language": "python",
   "name": "python3"
  },
  "language_info": {
   "codemirror_mode": {
    "name": "ipython",
    "version": 3
   },
   "file_extension": ".py",
   "mimetype": "text/x-python",
   "name": "python",
   "nbconvert_exporter": "python",
   "pygments_lexer": "ipython3",
   "version": "3.7.9"
  }
 },
 "nbformat": 4,
 "nbformat_minor": 4
}
