{
 "cells": [
  {
   "cell_type": "code",
   "execution_count": 9,
   "metadata": {},
   "outputs": [],
   "source": [
    "import sys\n",
    "sys.path.append('../') # or just install the module\n",
    "sys.path.append('../../flaming-choripan') # or just install the module\n",
    "sys.path.append('../../astro-lightcurves-handler') # or just install the module"
   ]
  },
  {
   "cell_type": "code",
   "execution_count": 10,
   "metadata": {},
   "outputs": [
    {
     "name": "stdout",
     "output_type": "stream",
     "text": [
      "────────────────────────────────────────────────────────────────────────────────────────────────────\n",
      "found filedirs: (../save)\n",
      "(0) - ../save/alerceZTFv7.1/survey-alerceZTFv7.1_bands-gr_mode-onlySNe/train+val/samplers.smplr - 10.050[mbs]\n",
      "────────────────────────────────────────────────────────────────────────────────────────────────────\n",
      "filedirs after searching with filters: (../save)\n",
      "(0) - ../save/alerceZTFv7.1/survey-alerceZTFv7.1_bands-gr_mode-onlySNe/train+val/samplers.smplr - 10.050[mbs]\n",
      "────────────────────────────────────────────────────────────────────────────────────────────────────\n"
     ]
    }
   ],
   "source": [
    "from flamingchoripan.files import search_for_filedirs\n",
    "from synthsne import C_\n",
    "\n",
    "root_folder = '../save'\n",
    "filedirs = search_for_filedirs(root_folder, fext=C_.EXT_SAMPLER)"
   ]
  },
  {
   "cell_type": "code",
   "execution_count": 11,
   "metadata": {},
   "outputs": [
    {
     "name": "stdout",
     "output_type": "stream",
     "text": [
      "The autoreload extension is already loaded. To reload it, use:\n",
      "  %reload_ext autoreload\n"
     ]
    },
    {
     "data": {
      "text/plain": [
       "['ZTF20aamuqwn']"
      ]
     },
     "execution_count": 11,
     "metadata": {},
     "output_type": "execute_result"
    }
   ],
   "source": [
    "%load_ext autoreload\n",
    "%autoreload 2\n",
    "from synthsne import curve_statistics as cs\n",
    "\n",
    "lcset_name = 'train+val'\n",
    "methods = ['linear', 'bspline', 'uniformprior', 'curvefit', 'mcmc']\n",
    "#methods = ['curvefit', 'mcmc']\n",
    "#methods = ['linear', 'bspline']\n",
    "rootdir = f'../save/alerceZTFv7.1/survey-alerceZTFv7.1_bands-gr_mode-onlySNe/{lcset_name}'\n",
    "method = 'linear' # linear, bspline\n",
    "cs.get_all_incorrects_fittings(rootdir, method)"
   ]
  },
  {
   "cell_type": "code",
   "execution_count": 17,
   "metadata": {},
   "outputs": [
    {
     "name": "stdout",
     "output_type": "stream",
     "text": [
      "The autoreload extension is already loaded. To reload it, use:\n",
      "  %reload_ext autoreload\n",
      "linear (1617): .48±.09\n",
      "bspline (1616): .45±.09\n",
      "uniformprior (1616): .83±.12\n",
      "curvefit (1617): 8.40±3.85\n",
      "mcmc (1): 172.66±.00\n"
     ]
    }
   ],
   "source": [
    "%load_ext autoreload\n",
    "%autoreload 2\n",
    "from synthsne import curve_statistics as c\n",
    "\n",
    "for method in methods:\n",
    "    xe = cs.get_perf_times(rootdir, method)\n",
    "    print(f'{method} ({len(xe)}): {xe}')"
   ]
  },
  {
   "cell_type": "code",
   "execution_count": 5,
   "metadata": {},
   "outputs": [
    {
     "name": "stdout",
     "output_type": "stream",
     "text": [
      "The autoreload extension is already loaded. To reload it, use:\n",
      "  %reload_ext autoreload\n",
      "mb-rank[top10]:\n",
      "(1) - ZTF18aasxvsg: 477.0907\n",
      "(2) - ZTF18aasdted: 348.1889\n",
      "(3) - ZTF18aaslhxt: 239.7851\n",
      "(4) - ZTF19abyvauj: 237.5926\n",
      "(5) - ZTF18aaxkqgy: 175.5462\n",
      "(6) - ZTF18aaxdrjn: 173.4127\n",
      "(7) - ZTF19aaoikti: 164.2515\n",
      "(8) - ZTF18abuqugw: 162.8611\n",
      "(9) - ZTF19acihlft: 155.6864\n",
      "(10) - ZTF18accnbgw: 151.9414\n",
      "g-rank[top10]:\n",
      "(1) - ZTF18aasxvsg: 607.6106\n",
      "(2) - ZTF18aasdted: 366.3405\n",
      "(3) - ZTF18aaslhxt: 331.9293\n",
      "(4) - ZTF19aaoikti: 283.7817\n",
      "(5) - ZTF18aaxkqgy: 278.9252\n",
      "(6) - ZTF18accnbgw: 242.8513\n",
      "(7) - ZTF19abyvauj: 230.8056\n",
      "(8) - ZTF18acbwaxk: 206.9208\n",
      "(9) - ZTF18acdzzyf: 206.7351\n",
      "(10) - ZTF19aaknvuh: 203.9485\n",
      "r-rank[top10]:\n",
      "(1) - ZTF18aasxvsg: 346.5708\n",
      "(2) - ZTF18aasdted: 330.0372\n",
      "(3) - ZTF19abyvauj: 244.3797\n",
      "(4) - ZTF18abuqugw: 173.6317\n",
      "(5) - ZTF18aaxdrjn: 156.9134\n",
      "(6) - ZTF18abvptts: 152.4873\n",
      "(7) - ZTF18aaslhxt: 147.6409\n",
      "(8) - ZTF19abkdeae: 142.3315\n",
      "(9) - ZTF18aczrafz: 134.8305\n",
      "(10) - ZTF18aarlpzd: 130.8802\n"
     ]
    }
   ],
   "source": [
    "%load_ext autoreload\n",
    "%autoreload 2\n",
    "from synthsne import curve_statistics as cs\n",
    "\n",
    "method = 'linear'\n",
    "rank, rank_bdict, band_names = cs.get_ranks(rootdir, method)\n",
    "print(rank)\n",
    "for b in band_names:\n",
    "    print(rank_bdict[b])"
   ]
  },
  {
   "cell_type": "code",
   "execution_count": 22,
   "metadata": {},
   "outputs": [
    {
     "name": "stdout",
     "output_type": "stream",
     "text": [
      "The autoreload extension is already loaded. To reload it, use:\n",
      "  %reload_ext autoreload\n"
     ]
    },
    {
     "data": {
      "text/html": [
       "<div>\n",
       "<style scoped>\n",
       "    .dataframe tbody tr th:only-of-type {\n",
       "        vertical-align: middle;\n",
       "    }\n",
       "\n",
       "    .dataframe tbody tr th {\n",
       "        vertical-align: top;\n",
       "    }\n",
       "\n",
       "    .dataframe thead th {\n",
       "        text-align: right;\n",
       "    }\n",
       "</style>\n",
       "<table border=\"1\" class=\"dataframe\">\n",
       "  <thead>\n",
       "    <tr style=\"text-align: right;\">\n",
       "      <th></th>\n",
       "      <th>trace-time[segs]</th>\n",
       "      <th>mb-fit-log-error</th>\n",
       "      <th>mb-n</th>\n",
       "      <th>mb-ok-fits[%]</th>\n",
       "      <th>g-fit-log-error</th>\n",
       "      <th>g-ok-fits[%]</th>\n",
       "      <th>r-fit-log-error</th>\n",
       "      <th>r-ok-fits[%]</th>\n",
       "    </tr>\n",
       "  </thead>\n",
       "  <tbody>\n",
       "    <tr>\n",
       "      <th>method-linear</th>\n",
       "      <td>.48±.09</td>\n",
       "      <td>3.82±.48</td>\n",
       "      <td>207232</td>\n",
       "      <td>96.673294</td>\n",
       "      <td>3.77±.52</td>\n",
       "      <td>95.120445</td>\n",
       "      <td>3.86±.43</td>\n",
       "      <td>98.226143</td>\n",
       "    </tr>\n",
       "    <tr>\n",
       "      <th>method-bspline</th>\n",
       "      <td>.45±.09</td>\n",
       "      <td>5.59±2.41</td>\n",
       "      <td>207232</td>\n",
       "      <td>95.159531</td>\n",
       "      <td>5.63±2.67</td>\n",
       "      <td>92.480891</td>\n",
       "      <td>5.56±2.12</td>\n",
       "      <td>97.838172</td>\n",
       "    </tr>\n",
       "    <tr>\n",
       "      <th>method-uniformprior</th>\n",
       "      <td>.83±.12</td>\n",
       "      <td>7.62±1.13</td>\n",
       "      <td>207232</td>\n",
       "      <td>96.478343</td>\n",
       "      <td>7.69±1.19</td>\n",
       "      <td>94.748880</td>\n",
       "      <td>7.55±1.07</td>\n",
       "      <td>98.207806</td>\n",
       "    </tr>\n",
       "    <tr>\n",
       "      <th>method-curvefit</th>\n",
       "      <td>8.39±3.86</td>\n",
       "      <td>3.98±.88</td>\n",
       "      <td>207232</td>\n",
       "      <td>96.677154</td>\n",
       "      <td>3.80±.85</td>\n",
       "      <td>95.131061</td>\n",
       "      <td>4.16±.86</td>\n",
       "      <td>98.223247</td>\n",
       "    </tr>\n",
       "    <tr>\n",
       "      <th>method-mcmc</th>\n",
       "      <td>408.44±113.68</td>\n",
       "      <td>3.21±1.05</td>\n",
       "      <td>75648</td>\n",
       "      <td>96.192893</td>\n",
       "      <td>3.01±1.08</td>\n",
       "      <td>94.754653</td>\n",
       "      <td>3.41±.98</td>\n",
       "      <td>97.631134</td>\n",
       "    </tr>\n",
       "  </tbody>\n",
       "</table>\n",
       "</div>"
      ],
      "text/plain": [
       "                    trace-time[segs] mb-fit-log-error    mb-n  mb-ok-fits[%]  \\\n",
       "method-linear                .48±.09         3.82±.48  207232      96.673294   \n",
       "method-bspline               .45±.09        5.59±2.41  207232      95.159531   \n",
       "method-uniformprior          .83±.12        7.62±1.13  207232      96.478343   \n",
       "method-curvefit            8.39±3.86         3.98±.88  207232      96.677154   \n",
       "method-mcmc            408.44±113.68        3.21±1.05   75648      96.192893   \n",
       "\n",
       "                    g-fit-log-error  g-ok-fits[%] r-fit-log-error  \\\n",
       "method-linear              3.77±.52     95.120445        3.86±.43   \n",
       "method-bspline            5.63±2.67     92.480891       5.56±2.12   \n",
       "method-uniformprior       7.69±1.19     94.748880       7.55±1.07   \n",
       "method-curvefit            3.80±.85     95.131061        4.16±.86   \n",
       "method-mcmc               3.01±1.08     94.754653        3.41±.98   \n",
       "\n",
       "                     r-ok-fits[%]  \n",
       "method-linear           98.226143  \n",
       "method-bspline          97.838172  \n",
       "method-uniformprior     98.207806  \n",
       "method-curvefit         98.223247  \n",
       "method-mcmc             97.631134  "
      ]
     },
     "execution_count": 22,
     "metadata": {},
     "output_type": "execute_result"
    }
   ],
   "source": [
    "%load_ext autoreload\n",
    "%autoreload 2\n",
    "from synthsne import curve_statistics as cs\n",
    "\n",
    "#methods = ['linear', 'bspline', 'mcmc', 'curvefit']\n",
    "info_df = cs.get_info_dict(rootdir, methods)\n",
    "info_df"
   ]
  },
  {
   "cell_type": "code",
   "execution_count": 7,
   "metadata": {},
   "outputs": [
    {
     "name": "stdout",
     "output_type": "stream",
     "text": [
      "The autoreload extension is already loaded. To reload it, use:\n",
      "  %reload_ext autoreload\n",
      "\u001b[31m%%%%%%%%%%%%%%%%%%%%%%%%%%%%%%%%%%%%%%%%%%%%%%%%%%%%%%%%%%%%%%%%%%%%%%%%%%%%%%%%%%%%%%%%%%%%%%%%%%%%\n",
      "\\def\\srule{\\rule{0pt}{2ex}\\rule[-1ex]{0pt}{0ex}}\n",
      "\\begin{table*}\n",
      "\\centering\n",
      "\\caption{$x_j$}\n",
      "\\label{???}\\vspace{.1cm}\n",
      "\\begin{tabular}{l|c|cc|cc|cc}\n",
      "\\hline\n",
      "method & trace-time[segs] & mb-fit-log-error & mb-n & mb-ok-fits[\\%] & g-fit-log-error & g-ok-fits[\\%] & r-fit-log-error & r-ok-fits[\\%] \\srule\\\\\\hline\\hline\n",
      "linear & .49$\\pm$.09 & 3.83$\\pm$.48 & 208,256 & 96.64 & 3.79$\\pm$.52 & 95.52 & 3.87$\\pm$.43 & 97.76 \\srule\\\\\n",
      "bspline & .45$\\pm$.09 & 5.17$\\pm$2.02 & 208,256 & 95.01 & 5.14$\\pm$2.22 & 93.02 & 5.20$\\pm$1.81 & 97.01 \\srule\\\\\n",
      "uniformprior & .97$\\pm$.28 & 7.63$\\pm$1.15 & 208,256 & 96.40 & 7.69$\\pm$1.21 & 95.08 & 7.57$\\pm$1.08 & 97.73 \\srule\\\\\n",
      "curvefit & 10.90$\\pm$5.62 & 3.93$\\pm$.85 & 208,256 & 96.63 & 3.76$\\pm$.83 & 95.51 & 4.10$\\pm$.85 & 97.76 \\srule\\\\\n",
      "mcmc & 577.79$\\pm$166.14 & 3.12$\\pm$1.09 & 4,864 & 97.37 & 2.95$\\pm$1.03 & 100.00 & 3.29$\\pm$1.12 & 94.74 \\srule\\\\\n",
      "\\hline\n",
      "\\end{tabular}\n",
      "\\end{table*}\n",
      "%%%%%%%%%%%%%%%%%%%%%%%%%%%%%%%%%%%%%%%%%%%%%%%%%%%%%%%%%%%%%%%%%%%%%%%%%%%%%%%%%%%%%%%%%%%%%%%%%%%%\n",
      "\u001b[0m\n"
     ]
    }
   ],
   "source": [
    "%load_ext autoreload\n",
    "%autoreload 2\n",
    "from flamingchoripan.latex.latex_tables import LatexTable\n",
    "\n",
    "latex_kwargs = {\n",
    "    'caption':'$x_j$',\n",
    "    'label':'???',\n",
    "    'custom_tabular_align':'l|c|cc|cc|cc',\n",
    "}\n",
    "latex_table = LatexTable(info_df, **latex_kwargs)\n",
    "print(latex_table)"
   ]
  }
 ],
 "metadata": {
  "kernelspec": {
   "display_name": "Python 3",
   "language": "python",
   "name": "python3"
  },
  "language_info": {
   "codemirror_mode": {
    "name": "ipython",
    "version": 3
   },
   "file_extension": ".py",
   "mimetype": "text/x-python",
   "name": "python",
   "nbconvert_exporter": "python",
   "pygments_lexer": "ipython3",
   "version": "3.7.9"
  }
 },
 "nbformat": 4,
 "nbformat_minor": 4
}
