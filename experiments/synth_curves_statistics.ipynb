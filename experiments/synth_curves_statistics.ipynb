{
 "cells": [
  {
   "cell_type": "code",
   "execution_count": 1,
   "metadata": {},
   "outputs": [],
   "source": [
    "import sys\n",
    "sys.path.append('../../')\n",
    "sys.path.append('../../../flaming-choripan')"
   ]
  },
  {
   "cell_type": "code",
   "execution_count": 11,
   "metadata": {},
   "outputs": [
    {
     "name": "stdout",
     "output_type": "stream",
     "text": [
      "The autoreload extension is already loaded. To reload it, use:\n",
      "  %reload_ext autoreload\n"
     ]
    }
   ],
   "source": [
    "%load_ext autoreload\n",
    "%autoreload 2\n",
    "from flamingchoripan.files import load_pickle, get_filedirs\n",
    "from flamingchoripan.datascience.statistics import XError, TopRank\n",
    "import numpy as np\n",
    "    \n",
    "methods = ['curve_fit', 'mcmc']\n",
    "band_names = ['g', 'r']\n",
    "rootdir = '/home/opimentel/tesis/astro-lightcurves-handler/save/alerceZTFv5.1'\n",
    "\n",
    "results_dict = {}\n",
    "rank = {}\n",
    "rank_bdict = {}\n",
    "for method in methods:\n",
    "    results_dict[method] = {\n",
    "        'mb-fit-error':[],\n",
    "        'mb-null-fits':0,\n",
    "        'mb-n':0,\n",
    "    }\n",
    "    for b in band_names:\n",
    "        results_dict[method].update({\n",
    "            f'{b}-fit-error':[],\n",
    "            f'{b}-null-fits':0,\n",
    "            f'{b}-n':0,\n",
    "        })\n",
    "\n",
    "    rank[method] = TopRank('mb-rank')\n",
    "    rank_bdict[method] = {b:TopRank(f'{b}-rank') for b in band_names}\n",
    "\n",
    "### loop\n",
    "for method in methods:\n",
    "    load_rootdir = f'{rootdir}/{method}'\n",
    "    filedirs = get_filedirs(load_rootdir, fext='ferror')\n",
    "    for filedir in filedirs:\n",
    "        fdict = load_pickle(filedir, verbose=0)\n",
    "        lcobj_name = fdict['lcobj_name']\n",
    "        xes = []\n",
    "        for b in band_names:\n",
    "            ov = fdict['error_bdict'][b]\n",
    "            v = [x for x in ov if x>0]\n",
    "            results_dict[method][f'{b}-fit-error'] += v\n",
    "            results_dict[method][f'{b}-null-fits'] += len(v)\n",
    "            results_dict[method][f'{b}-n'] += len(ov)\n",
    "            results_dict[method][f'mb-fit-error'] += v\n",
    "            results_dict[method][f'mb-null-fits'] += len(v)\n",
    "            results_dict[method][f'mb-n'] += len(ov)\n",
    "            if len(v)>0:\n",
    "                xe = XError(v, 0)\n",
    "                rank_bdict[method][b].add(lcobj_name, xe.mean)\n",
    "                xes.append(xe)\n",
    "                \n",
    "        if len(xes)>0:\n",
    "            rank[method].add(lcobj_name, np.mean([xe.mean for xe in xes]))\n",
    "            \n",
    "for method in methods:\n",
    "    results_dict[method]['mb-fit-error'] = XError(results_dict[method]['mb-fit-error'], 0)\n",
    "    results_dict[method]['mb-null-fits'] = (1-results_dict[method]['mb-null-fits']/results_dict[method].pop('mb-n'))*100\n",
    "    for b in band_names:\n",
    "        results_dict[method][f'{b}-fit-error'] = XError(results_dict[method][f'{b}-fit-error'], 0)\n",
    "        results_dict[method][f'{b}-null-fits'] = (1-results_dict[method][f'{b}-null-fits']/results_dict[method].pop(f'{b}-n'))*100"
   ]
  },
  {
   "cell_type": "code",
   "execution_count": 12,
   "metadata": {},
   "outputs": [
    {
     "name": "stdout",
     "output_type": "stream",
     "text": [
      "curve_fit {'mb-fit-error': XError(1.97+-9.29, dim=0), 'mb-null-fits': 9.185606060606055, 'g-fit-error': XError(1.31+-3.43, dim=0), 'g-null-fits': 13.139204545454541, 'r-fit-error': XError(2.57+-12.40, dim=0), 'r-null-fits': 5.23200757575758}\n",
      "mcmc {'mb-fit-error': XError(1.67+-1.41, dim=0), 'mb-null-fits': 7.14285714285714, 'g-fit-error': XError(1.85+-1.55, dim=0), 'g-null-fits': 0.0, 'r-fit-error': XError(1.47+-1.19, dim=0), 'r-null-fits': 14.28571428571429}\n"
     ]
    }
   ],
   "source": [
    "for method in methods:\n",
    "    print(method, results_dict[method])"
   ]
  },
  {
   "cell_type": "code",
   "execution_count": 15,
   "metadata": {},
   "outputs": [
    {
     "name": "stdout",
     "output_type": "stream",
     "text": [
      "curve_fit\n",
      "mb-rank:\n",
      "(1) - ZTF19aacgslb: 82.01449584960938\n",
      "(2) - ZTF18acrnfww: 16.254507064819336\n",
      "(3) - ZTF19aarnqzw: 10.951050758361816\n",
      "(4) - ZTF18accngee: 10.291448593139648\n",
      "(5) - ZTF19acbunmk: 7.138945579528809\n",
      "(6) - ZTF19aayfaum: 5.7547078132629395\n",
      "(7) - ZTF19abfhszx: 5.651969909667969\n",
      "(8) - ZTF18abuatfp: 4.550923824310303\n",
      "(9) - ZTF18aaxdrjn: 3.979254722595215\n",
      "(10) - ZTF18abuqugw: 3.886354446411133\n",
      "g-rank:\n",
      "(1) - ZTF18acrnfww: 30.96625518798828\n",
      "(2) - ZTF18accngee: 19.666166305541992\n",
      "(3) - ZTF18abuatfp: 4.226569175720215\n",
      "(4) - ZTF19aaoikti: 3.9774837493896484\n",
      "(5) - ZTF18abuqugw: 3.886354446411133\n",
      "(6) - ZTF18acenqto: 3.5756607055664062\n",
      "(7) - ZTF18aaxcntm: 3.3888285160064697\n",
      "(8) - ZTF19aatmkll: 3.1879115104675293\n",
      "(9) - ZTF18acusrws: 2.9058659076690674\n",
      "(10) - ZTF19aangier: 2.617990016937256\n",
      "r-rank:\n",
      "(1) - ZTF19aacgslb: 162.65011596679688\n",
      "(2) - ZTF19aarnqzw: 19.76441764831543\n",
      "(3) - ZTF19acbunmk: 13.626363754272461\n",
      "(4) - ZTF19aayfaum: 10.291738510131836\n",
      "(5) - ZTF18aaxdrjn: 5.73775577545166\n",
      "(6) - ZTF19abfhszx: 5.651969909667969\n",
      "(7) - ZTF18abuatfp: 4.875278472900391\n",
      "(8) - ZTF18adaslwa: 4.518484115600586\n",
      "(9) - ZTF19acaxcwg: 4.461832046508789\n",
      "(10) - ZTF19abqxhhr: 4.142580986022949\n",
      "--------------------------------------------------------------------------------\n",
      "mcmc\n",
      "mb-rank:\n",
      "(1) - ZTF18acyxnyw: 4.438226699829102\n",
      "(2) - ZTF18aavjcpf: 2.0892386436462402\n",
      "(3) - ZTF19aaqrime: 1.606105089187622\n",
      "(4) - ZTF18acnnevs: 0.9812314510345459\n",
      "(5) - ZTF19aaserwb: 0.897398054599762\n",
      "(6) - ZTF19aamrais: 0.7091418504714966\n",
      "(7) - ZTF19acfwynw: 0.6377938389778137\n",
      "g-rank:\n",
      "(1) - ZTF18acyxnyw: 4.984116077423096\n",
      "(2) - ZTF18aavjcpf: 3.3792247772216797\n",
      "(3) - ZTF19aaqrime: 1.1736650466918945\n",
      "(4) - ZTF19aaserwb: 1.0832632780075073\n",
      "(5) - ZTF18acnnevs: 0.9812314510345459\n",
      "(6) - ZTF19aamrais: 0.7876501083374023\n",
      "(7) - ZTF19acfwynw: 0.529812216758728\n",
      "r-rank:\n",
      "(1) - ZTF18acyxnyw: 3.8923373222351074\n",
      "(2) - ZTF19aaqrime: 2.0385451316833496\n",
      "(3) - ZTF18aavjcpf: 0.7992522716522217\n",
      "(4) - ZTF19acfwynw: 0.7457754611968994\n",
      "(5) - ZTF19aaserwb: 0.7115328311920166\n",
      "(6) - ZTF19aamrais: 0.630633533000946\n",
      "--------------------------------------------------------------------------------\n"
     ]
    }
   ],
   "source": [
    "for method in methods:\n",
    "    print(method)\n",
    "    rank[method].calcule_rank()\n",
    "    print(rank[method])\n",
    "    for b in band_names:\n",
    "        rank_bdict[method][b].calcule_rank()\n",
    "        print(rank_bdict[method][b])\n",
    "    print('-'*80)"
   ]
  }
 ],
 "metadata": {
  "kernelspec": {
   "display_name": "Python 3",
   "language": "python",
   "name": "python3"
  },
  "language_info": {
   "codemirror_mode": {
    "name": "ipython",
    "version": 3
   },
   "file_extension": ".py",
   "mimetype": "text/x-python",
   "name": "python",
   "nbconvert_exporter": "python",
   "pygments_lexer": "ipython3",
   "version": "3.7.9"
  }
 },
 "nbformat": 4,
 "nbformat_minor": 4
}
