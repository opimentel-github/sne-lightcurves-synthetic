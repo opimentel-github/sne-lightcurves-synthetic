{
 "cells": [
  {
   "cell_type": "code",
   "execution_count": 1,
   "metadata": {},
   "outputs": [],
   "source": [
    "import sys\n",
    "sys.path.append('../') # or just install the module\n",
    "sys.path.append('../../flaming-choripan') # or just install the module\n",
    "sys.path.append('../../astro-lightcurves-handler') # or just install the module"
   ]
  },
  {
   "cell_type": "code",
   "execution_count": 2,
   "metadata": {},
   "outputs": [
    {
     "name": "stderr",
     "output_type": "stream",
     "text": [
      "WARNING (theano.tensor.blas): Using NumPy C-API based implementation for BLAS functions.\n"
     ]
    },
    {
     "data": {
      "text/plain": [
       "[]"
      ]
     },
     "execution_count": 2,
     "metadata": {},
     "output_type": "execute_result"
    }
   ],
   "source": [
    "%load_ext autoreload\n",
    "%autoreload 2\n",
    "from synthsne import curve_statistics as cs\n",
    "\n",
    "rootdir = '../save/alerceZTFv7.1'\n",
    "method = 'mcmc'\n",
    "cs.get_all_incorrects_fittings(rootdir, method)"
   ]
  },
  {
   "cell_type": "code",
   "execution_count": 3,
   "metadata": {},
   "outputs": [
    {
     "name": "stdout",
     "output_type": "stream",
     "text": [
      "The autoreload extension is already loaded. To reload it, use:\n",
      "  %reload_ext autoreload\n",
      "mb-rank[top10]:\n",
      "(1) - ZTF18acnnevs: 75.2394862287005\n",
      "(2) - ZTF19abpbopt: 69.600538314842\n",
      "(3) - ZTF19aaqrime: 55.90501122295428\n",
      "(4) - ZTF18abxbmqh: 47.787950997126345\n",
      "(5) - ZTF19aarphwc: 23.42094830309747\n",
      "(6) - ZTF19abnacvf: 23.312958072440892\n",
      "(7) - ZTF18acxgqxq: 10.869598899334296\n",
      "g-rank[top10]:\n",
      "(1) - ZTF19abpbopt: 73.69313451456017\n",
      "(2) - ZTF18acnnevs: 61.89329504933585\n",
      "(3) - ZTF19aaqrime: 41.89498828921295\n",
      "(4) - ZTF19aarphwc: 20.84174402514609\n",
      "(5) - ZTF18abxbmqh: 17.675735353213177\n",
      "(6) - ZTF19abnacvf: 15.782335393783626\n",
      "(7) - ZTF18acxgqxq: 11.42114044958378\n",
      "r-rank[top10]:\n",
      "(1) - ZTF18acnnevs: 88.58567740806515\n",
      "(2) - ZTF18abxbmqh: 77.9001666410395\n",
      "(3) - ZTF19aaqrime: 69.91503415669561\n",
      "(4) - ZTF19abpbopt: 65.50794211512383\n",
      "(5) - ZTF19abnacvf: 30.843580751098155\n",
      "(6) - ZTF19aarphwc: 26.00015258104885\n",
      "(7) - ZTF18acxgqxq: 10.31805734908481\n"
     ]
    }
   ],
   "source": [
    "%load_ext autoreload\n",
    "%autoreload 2\n",
    "from synthsne import curve_statistics as cs\n",
    "\n",
    "method = 'mcmc'\n",
    "rank, rank_bdict, band_names = cs.get_ranks(rootdir, method)\n",
    "print(rank)\n",
    "for b in band_names:\n",
    "    print(rank_bdict[b])"
   ]
  },
  {
   "cell_type": "code",
   "execution_count": 55,
   "metadata": {},
   "outputs": [
    {
     "name": "stdout",
     "output_type": "stream",
     "text": [
      "The autoreload extension is already loaded. To reload it, use:\n",
      "  %reload_ext autoreload\n",
      "mcmc\n",
      "\t{'mb-fit-error': 32.05±31.47, 'mb-ok-fits-n': 1792, 'mb-n': 1792, 'mb-ok-fits-%': 100.0, 'g-fit-error': 22.59±20.74, 'g-ok-fits-n': 896, 'g-n': 896, 'r-fit-error': 41.52±37.03, 'r-ok-fits-n': 896, 'r-n': 896, 'g-ok-fits-%': 100.0, 'r-ok-fits-%': 100.0}\n"
     ]
    }
   ],
   "source": [
    "%load_ext autoreload\n",
    "%autoreload 2\n",
    "from synthsne import curve_statistics as cs\n",
    "\n",
    "methods = ['mcmc']\n",
    "info_dict = cs.get_info_dict(rootdir, methods)\n",
    "for method in methods:\n",
    "    print(method)\n",
    "    print(f'\\t{info_dict[method]}')"
   ]
  }
 ],
 "metadata": {
  "kernelspec": {
   "display_name": "Python 3",
   "language": "python",
   "name": "python3"
  },
  "language_info": {
   "codemirror_mode": {
    "name": "ipython",
    "version": 3
   },
   "file_extension": ".py",
   "mimetype": "text/x-python",
   "name": "python",
   "nbconvert_exporter": "python",
   "pygments_lexer": "ipython3",
   "version": "3.7.9"
  }
 },
 "nbformat": 4,
 "nbformat_minor": 4
}
