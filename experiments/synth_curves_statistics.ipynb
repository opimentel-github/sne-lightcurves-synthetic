{
 "cells": [
  {
   "cell_type": "code",
   "execution_count": 1,
   "metadata": {},
   "outputs": [],
   "source": [
    "import sys\n",
    "sys.path.append('../') # or just install the module\n",
    "sys.path.append('../../flaming-choripan') # or just install the module\n",
    "sys.path.append('../../astro-lightcurves-handler') # or just install the module"
   ]
  },
  {
   "cell_type": "code",
   "execution_count": 2,
   "metadata": {},
   "outputs": [
    {
     "name": "stdout",
     "output_type": "stream",
     "text": [
      "────────────────────────────────────────────────────────────────────────────────────────────────────\n",
      "found filedirs: (../save)\n",
      "(0) - ../save/alerceZTFv7.1/survey-alerceZTFv7.1_bands-gr_mode-onlySNe_kfid-0/samplers.s - 7.808[mbs]\n",
      "────────────────────────────────────────────────────────────────────────────────────────────────────\n",
      "filedirs after searching with filters: (../save)\n",
      "(0) - ../save/alerceZTFv7.1/survey-alerceZTFv7.1_bands-gr_mode-onlySNe_kfid-0/samplers.s - 7.808[mbs]\n",
      "────────────────────────────────────────────────────────────────────────────────────────────────────\n"
     ]
    }
   ],
   "source": [
    "from flamingchoripan.files import search_for_filedirs\n",
    "from lchandler import C_\n",
    "\n",
    "root_folder = '../save'\n",
    "filedirs = search_for_filedirs(root_folder, fext='s')"
   ]
  },
  {
   "cell_type": "code",
   "execution_count": 3,
   "metadata": {},
   "outputs": [
    {
     "name": "stderr",
     "output_type": "stream",
     "text": [
      "WARNING (theano.tensor.blas): Using NumPy C-API based implementation for BLAS functions.\n"
     ]
    },
    {
     "data": {
      "text/plain": [
       "['ZTF19aaflnii',\n",
       " 'ZTF18aalxmaq',\n",
       " 'ZTF18abvxoty',\n",
       " 'ZTF18acbufud',\n",
       " 'ZTF20aamcvyp',\n",
       " 'ZTF19aawgopm',\n",
       " 'ZTF18acbudzh',\n",
       " 'ZTF18abskove',\n",
       " 'ZTF19abcunya',\n",
       " 'ZTF19acqdato',\n",
       " 'ZTF19aavyafo',\n",
       " 'ZTF20aamrryv',\n",
       " 'ZTF20aagewqr',\n",
       " 'ZTF19abkdeae',\n",
       " 'ZTF18abqbuaj',\n",
       " 'ZTF19abfjjlk',\n",
       " 'ZTF18aaoxryq',\n",
       " 'ZTF19abhcefa',\n",
       " 'ZTF18acbwtnh',\n",
       " 'ZTF20aamuqwn',\n",
       " 'ZTF20aaawbkz',\n",
       " 'ZTF18abtvgxv',\n",
       " 'ZTF20aaurjzv']"
      ]
     },
     "execution_count": 3,
     "metadata": {},
     "output_type": "execute_result"
    }
   ],
   "source": [
    "%load_ext autoreload\n",
    "%autoreload 2\n",
    "from synthsne import curve_statistics as cs\n",
    "\n",
    "rootdir = '../save/alerceZTFv7.1/survey-alerceZTFv7.1_bands-gr_mode-onlySNe_kfid-0'\n",
    "method = 'linear' # linear, bspline\n",
    "cs.get_all_incorrects_fittings(rootdir, method)"
   ]
  },
  {
   "cell_type": "code",
   "execution_count": 11,
   "metadata": {},
   "outputs": [
    {
     "name": "stdout",
     "output_type": "stream",
     "text": [
      "The autoreload extension is already loaded. To reload it, use:\n",
      "  %reload_ext autoreload\n"
     ]
    },
    {
     "data": {
      "text/plain": [
       "[0.5897284829989076,\n",
       " 0.6215641259914264,\n",
       " 0.5666421659989282,\n",
       " 0.593965833002585,\n",
       " 0.4363024650083389,\n",
       " 0.6009850910049863,\n",
       " 0.6159391390101518,\n",
       " 0.5646463630109793,\n",
       " 0.5133908650022931,\n",
       " 0.6083059709926601,\n",
       " 0.4615456110041123,\n",
       " 0.5866098740079906,\n",
       " 0.6064109879953321,\n",
       " 0.6209459520032397,\n",
       " 0.4666449240030488,\n",
       " 0.535874485009117,\n",
       " 0.5347987720015226,\n",
       " 0.3033952270052396,\n",
       " 0.5582625270035351,\n",
       " 0.5676024470012635,\n",
       " 0.5349522859905846]"
      ]
     },
     "execution_count": 11,
     "metadata": {},
     "output_type": "execute_result"
    }
   ],
   "source": [
    "%load_ext autoreload\n",
    "%autoreload 2\n",
    "from synthsne import curve_statistics as cs\n",
    "\n",
    "rootdir = '../save/alerceZTFv7.1/survey-alerceZTFv7.1_bands-gr_mode-onlySNe_kfid-0'\n",
    "method = 'linear' # linear, bspline\n",
    "cs.get_perf_times(rootdir, method)"
   ]
  },
  {
   "cell_type": "code",
   "execution_count": null,
   "metadata": {},
   "outputs": [],
   "source": [
    "%load_ext autoreload\n",
    "%autoreload 2\n",
    "from synthsne import curve_statistics as cs\n",
    "\n",
    "method = 'mcmc'\n",
    "rank, rank_bdict, band_names = cs.get_ranks(rootdir, method)\n",
    "print(rank)\n",
    "for b in band_names:\n",
    "    print(rank_bdict[b])"
   ]
  },
  {
   "cell_type": "code",
   "execution_count": null,
   "metadata": {},
   "outputs": [],
   "source": [
    "%load_ext autoreload\n",
    "%autoreload 2\n",
    "from synthsne import curve_statistics as cs\n",
    "\n",
    "methods = ['curvefit', 'mcmc', 'uniformprior']\n",
    "methods = ['curvefit', 'mcmc']\n",
    "info_df = cs.get_info_dict(rootdir, methods)\n",
    "info_df"
   ]
  },
  {
   "cell_type": "code",
   "execution_count": null,
   "metadata": {},
   "outputs": [],
   "source": [
    "%load_ext autoreload\n",
    "%autoreload 2\n",
    "from flamingchoripan.latex.latex_tables import LatexTable\n",
    "\n",
    "latex_table = LatexTable(info_df)\n",
    "print(latex_table)"
   ]
  }
 ],
 "metadata": {
  "kernelspec": {
   "display_name": "Python 3",
   "language": "python",
   "name": "python3"
  },
  "language_info": {
   "codemirror_mode": {
    "name": "ipython",
    "version": 3
   },
   "file_extension": ".py",
   "mimetype": "text/x-python",
   "name": "python",
   "nbconvert_exporter": "python",
   "pygments_lexer": "ipython3",
   "version": "3.7.9"
  }
 },
 "nbformat": 4,
 "nbformat_minor": 4
}
