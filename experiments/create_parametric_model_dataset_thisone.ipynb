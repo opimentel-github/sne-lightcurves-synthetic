{
 "cells": [
  {
   "cell_type": "code",
   "execution_count": 1,
   "metadata": {},
   "outputs": [],
   "source": [
    "import sys\n",
    "sys.path.append('../') # or just install the module\n",
    "sys.path.append('../../flaming-choripan') # or just install the module\n",
    "sys.path.append('../../astro-lightcurves-handler') # or just install the module"
   ]
  },
  {
   "cell_type": "code",
   "execution_count": 2,
   "metadata": {},
   "outputs": [
    {
     "name": "stdout",
     "output_type": "stream",
     "text": [
      "────────────────────────────────────────────────────────────────────────────────────────────────────\n",
      "found filedirs: (../../astro-lightcurves-handler/save)\n",
      "(0) - ../../astro-lightcurves-handler/save/alerceZTFv7.1/survey-alerceZTFv7.1_bands-gr_mode-onlySNe_kfid-0.splcds - 5.163[mbs]\n",
      "────────────────────────────────────────────────────────────────────────────────────────────────────\n",
      "filedirs after searching with filters: (../../astro-lightcurves-handler/save)\n",
      "(0) - ../../astro-lightcurves-handler/save/alerceZTFv7.1/survey-alerceZTFv7.1_bands-gr_mode-onlySNe_kfid-0.splcds - 5.163[mbs]\n",
      "────────────────────────────────────────────────────────────────────────────────────────────────────\n"
     ]
    }
   ],
   "source": [
    "from flamingchoripan.files import search_for_filedirs\n",
    "from lchandler import C_\n",
    "\n",
    "rootdir = '../../astro-lightcurves-handler/save'\n",
    "filedirs = search_for_filedirs(rootdir, fext=C_.EXT_SPLIT_LIGHTCURVE)"
   ]
  },
  {
   "cell_type": "code",
   "execution_count": 3,
   "metadata": {},
   "outputs": [
    {
     "name": "stdout",
     "output_type": "stream",
     "text": [
      "\u001b[34m> loading: ../../astro-lightcurves-handler/save/alerceZTFv7.1/survey-alerceZTFv7.1_bands-gr_mode-onlySNe_kfid-0.splcds\u001b[0m\n",
      "dict_keys(['data', 'survey', 'description', 'band_names', 'class_names', 'obs_is_flux'])\n",
      "dict_keys(['days', 'obs', 'obse', 'y', 'synthetic'])\n",
      "LCDataset:\n",
      "[raw - samples 2,047]\n",
      "(*) obs_samples: 65,174 - min_len: 6 - max_dur: 538.8[days] - p50_dur: 52.9[days]\n",
      "(g) obs_samples: 28,351 - min_len: 0 - max_dur: 538.8[days] - p50_dur: 38.9[days] - p50_cadence: 3.0[days]\n",
      "(r) obs_samples: 36,823 - min_len: 0 - max_dur: 538.8[days] - p50_dur: 50.9[days] - p50_cadence: 3.0[days]\n",
      "   |▏       | SLSN - 33/2,047 (1.61%)\n",
      "   |█████▉  | SNIa - 1,534/2,047 (74.94%)\n",
      "   |▍       | SNIbc - 103/2,047 (5.03%)\n",
      "   |█▍      | allSNII - 377/2,047 (18.42%)\n",
      "────────────────────────────────────────────────────────────────────────────────────────────────────\n",
      "[raw_train - samples 1,636]\n",
      "(*) obs_samples: 51,337 - min_len: 6 - max_dur: 443.9[days] - p50_dur: 52.9[days]\n",
      "(g) obs_samples: 22,311 - min_len: 0 - max_dur: 443.9[days] - p50_dur: 38.0[days] - p50_cadence: 3.0[days]\n",
      "(r) obs_samples: 29,026 - min_len: 0 - max_dur: 443.9[days] - p50_dur: 50.0[days] - p50_cadence: 3.0[days]\n",
      "   |▏       | SLSN - 26/1,636 (1.59%)\n",
      "   |██████  | SNIa - 1,227/1,636 (75.00%)\n",
      "   |▍       | SNIbc - 82/1,636 (5.01%)\n",
      "   |█▍      | allSNII - 301/1,636 (18.40%)\n",
      "────────────────────────────────────────────────────────────────────────────────────────────────────\n",
      "[raw_val - samples 411]\n",
      "(*) obs_samples: 13,837 - min_len: 6 - max_dur: 538.8[days] - p50_dur: 53.0[days]\n",
      "(g) obs_samples: 6,040 - min_len: 0 - max_dur: 538.8[days] - p50_dur: 39.1[days] - p50_cadence: 3.0[days]\n",
      "(r) obs_samples: 7,797 - min_len: 0 - max_dur: 538.8[days] - p50_dur: 51.9[days] - p50_cadence: 3.0[days]\n",
      "   |▏       | SLSN - 7/411 (1.70%)\n",
      "   |█████▉  | SNIa - 307/411 (74.70%)\n",
      "   |▍       | SNIbc - 21/411 (5.11%)\n",
      "   |█▍      | allSNII - 76/411 (18.49%)\n",
      "────────────────────────────────────────────────────────────────────────────────────────────────────\n",
      "[train - samples 1,634]\n",
      "(*) obs_samples: 50,689 - min_len: 6 - max_dur: 443.9[days] - p50_dur: 52.9[days]\n",
      "(g) obs_samples: 22,057 - min_len: 0 - max_dur: 443.9[days] - p50_dur: 38.0[days] - p50_cadence: 3.0[days]\n",
      "(r) obs_samples: 28,632 - min_len: 0 - max_dur: 443.9[days] - p50_dur: 50.0[days] - p50_cadence: 3.0[days]\n",
      "   |▏       | SLSN - 26/1,634 (1.59%)\n",
      "   |██████  | SNIa - 1,226/1,634 (75.03%)\n",
      "   |▍       | SNIbc - 82/1,634 (5.02%)\n",
      "   |█▍      | allSNII - 300/1,634 (18.36%)\n",
      "────────────────────────────────────────────────────────────────────────────────────────────────────\n",
      "[val - samples 410]\n",
      "(*) obs_samples: 13,553 - min_len: 5 - max_dur: 538.8[days] - p50_dur: 53.0[days]\n",
      "(g) obs_samples: 5,933 - min_len: 0 - max_dur: 538.8[days] - p50_dur: 39.0[days] - p50_cadence: 3.0[days]\n",
      "(r) obs_samples: 7,620 - min_len: 0 - max_dur: 538.8[days] - p50_dur: 51.9[days] - p50_cadence: 3.0[days]\n",
      "   |▏       | SLSN - 7/410 (1.71%)\n",
      "   |█████▉  | SNIa - 306/410 (74.63%)\n",
      "   |▍       | SNIbc - 21/410 (5.12%)\n",
      "   |█▍      | allSNII - 76/410 (18.54%)\n",
      "────────────────────────────────────────────────────────────────────────────────────────────────────\n",
      "\n"
     ]
    }
   ],
   "source": [
    "%load_ext autoreload\n",
    "%autoreload 2\n",
    "import numpy as np\n",
    "from flamingchoripan.files import load_pickle, save_pickle\n",
    "from flamingchoripan.files import get_dict_from_filedir\n",
    "from lchandler import C_\n",
    "\n",
    "def load_lcdataset(filename):\n",
    "    assert filename.split('.')[-1]==C_.EXT_SPLIT_LIGHTCURVE\n",
    "    return load_pickle(filename)\n",
    "\n",
    "filedir = '../../astro-lightcurves-handler/save/alerceZTFv5.1/survey-alerceZTFv5.1_bands-gr_mode-onlySNe_kfid-0.splcds'\n",
    "filedir = '../../astro-lightcurves-handler/save/alerceZTFv7.1/survey-alerceZTFv7.1_bands-gr_mode-onlySNe_kfid-0.splcds'\n",
    "\n",
    "filedic = get_dict_from_filedir(filedir)\n",
    "root_folder = filedic['*rootdir*']\n",
    "cfilename = filedic['*cfilename*']\n",
    "lcdataset = load_lcdataset(filedir)\n",
    "print(lcdataset['raw'].keys())\n",
    "print(lcdataset['raw'].get_random_lcobj(False).keys())\n",
    "print(lcdataset)"
   ]
  },
  {
   "cell_type": "code",
   "execution_count": 9,
   "metadata": {},
   "outputs": [
    {
     "name": "stdout",
     "output_type": "stream",
     "text": [
      "The autoreload extension is already loaded. To reload it, use:\n",
      "  %reload_ext autoreload\n"
     ]
    }
   ],
   "source": [
    "%load_ext autoreload\n",
    "%autoreload 2\n",
    "import numpy as np\n",
    "import flamingchoripan.files as ff\n",
    "\n",
    "method = 'curvefit'\n",
    "method = 'mcmc'\n",
    "lcset_name = 'train' # hardcoded\n",
    "lcset = lcdataset[lcset_name]\n",
    "synth_rootdir = f'../save/{lcset.survey}/{method}'\n",
    "synth_lcset = lcset.copy({})\n",
    "filedirs = ff.get_filedirs(synth_rootdir, fext='synsne')\n",
    "for filedir in filedirs:\n",
    "#for lcobj_name in lcset.get_lcobj_names():   \n",
    "    #filedir =  f'../save/{lcset.survey}/{method}/{lcobj_name}.synsne'\n",
    "    d = ff.load_pickle(filedir, verbose=0)\n",
    "    lcobj_name = d['lcobj_name']\n",
    "    lcobj = d['lcobj']\n",
    "    synth_lcset.set_lcobj(lcobj_name, lcobj)\n",
    "    \n",
    "    has_corrects_samples = d['has_corrects_samples'] # add ignore and those\n",
    "    if has_corrects_samples: # and...\n",
    "        for k,new_lcobj in enumerate(d['new_lcobjs']):\n",
    "            synth_lcset.set_lcobj(f'{lcobj_name}.{k}', new_lcobj)\n",
    "\n",
    "lcdataset.set_lcset(f'{lcset_name}_{method}', synth_lcset)\n",
    "pass"
   ]
  },
  {
   "cell_type": "code",
   "execution_count": 10,
   "metadata": {},
   "outputs": [
    {
     "ename": "ValueError",
     "evalue": "'SNIbc' is not in list",
     "output_type": "error",
     "traceback": [
      "\u001b[0;31m---------------------------------------------------------------------------\u001b[0m",
      "\u001b[0;31mValueError\u001b[0m                                Traceback (most recent call last)",
      "\u001b[0;32m<ipython-input-10-1b358b3c44a9>\u001b[0m in \u001b[0;36m<module>\u001b[0;34m\u001b[0m\n\u001b[0;32m----> 1\u001b[0;31m \u001b[0mprint\u001b[0m\u001b[0;34m(\u001b[0m\u001b[0mlcdataset\u001b[0m\u001b[0;34m)\u001b[0m\u001b[0;34m\u001b[0m\u001b[0;34m\u001b[0m\u001b[0m\n\u001b[0m",
      "\u001b[0;32m~/oscar/tesis/astro-lightcurves-handler/lchandler/dataset_classes.py\u001b[0m in \u001b[0;36m__repr__\u001b[0;34m(self)\u001b[0m\n\u001b[1;32m     52\u001b[0m                 \u001b[0mtxt\u001b[0m \u001b[0;34m=\u001b[0m \u001b[0;34m'LCDataset:\\n'\u001b[0m\u001b[0;34m\u001b[0m\u001b[0;34m\u001b[0m\u001b[0m\n\u001b[1;32m     53\u001b[0m                 \u001b[0;32mfor\u001b[0m \u001b[0mlcset_name\u001b[0m \u001b[0;32min\u001b[0m \u001b[0mself\u001b[0m\u001b[0;34m.\u001b[0m\u001b[0mget_lcset_names\u001b[0m\u001b[0;34m(\u001b[0m\u001b[0;34m)\u001b[0m\u001b[0;34m:\u001b[0m\u001b[0;34m\u001b[0m\u001b[0;34m\u001b[0m\u001b[0m\n\u001b[0;32m---> 54\u001b[0;31m                         \u001b[0mtxt\u001b[0m \u001b[0;34m+=\u001b[0m \u001b[0;34mf'[{lcset_name} - samples {len(self[lcset_name]):,}]\\n{self[lcset_name]}\\n'\u001b[0m\u001b[0;34m\u001b[0m\u001b[0;34m\u001b[0m\u001b[0m\n\u001b[0m\u001b[1;32m     55\u001b[0m                         \u001b[0mtxt\u001b[0m \u001b[0;34m+=\u001b[0m \u001b[0mget_bar\u001b[0m\u001b[0;34m(\u001b[0m\u001b[0;34m)\u001b[0m\u001b[0;34m+\u001b[0m\u001b[0;34m'\\n'\u001b[0m\u001b[0;34m\u001b[0m\u001b[0;34m\u001b[0m\u001b[0m\n\u001b[1;32m     56\u001b[0m                 \u001b[0;32mreturn\u001b[0m \u001b[0mtxt\u001b[0m\u001b[0;34m\u001b[0m\u001b[0;34m\u001b[0m\u001b[0m\n",
      "\u001b[0;32m~/oscar/tesis/astro-lightcurves-handler/lchandler/dataset_classes.py\u001b[0m in \u001b[0;36m__repr__\u001b[0;34m(self)\u001b[0m\n\u001b[1;32m    247\u001b[0m                                 \u001b[0mtxt\u001b[0m \u001b[0;34m+=\u001b[0m \u001b[0mself\u001b[0m\u001b[0;34m.\u001b[0m\u001b[0m__repr__b\u001b[0m\u001b[0;34m(\u001b[0m\u001b[0mb\u001b[0m\u001b[0;34m,\u001b[0m \u001b[0mlcobjs\u001b[0m\u001b[0;34m)\u001b[0m\u001b[0;34m\u001b[0m\u001b[0;34m\u001b[0m\u001b[0m\n\u001b[1;32m    248\u001b[0m \u001b[0;34m\u001b[0m\u001b[0m\n\u001b[0;32m--> 249\u001b[0;31m                         \u001b[0mpopulations_cdict\u001b[0m \u001b[0;34m=\u001b[0m \u001b[0mself\u001b[0m\u001b[0;34m.\u001b[0m\u001b[0mget_populations_cdict\u001b[0m\u001b[0;34m(\u001b[0m\u001b[0;34m)\u001b[0m\u001b[0;34m\u001b[0m\u001b[0;34m\u001b[0m\u001b[0m\n\u001b[0m\u001b[1;32m    250\u001b[0m                         \u001b[0mtxt\u001b[0m \u001b[0;34m+=\u001b[0m \u001b[0mLevelBar\u001b[0m\u001b[0;34m(\u001b[0m\u001b[0mpopulations_cdict\u001b[0m\u001b[0;34m,\u001b[0m \u001b[0;34m' '\u001b[0m\u001b[0;34m*\u001b[0m\u001b[0;36m3\u001b[0m\u001b[0;34m)\u001b[0m\u001b[0;34m.\u001b[0m\u001b[0m__repr__\u001b[0m\u001b[0;34m(\u001b[0m\u001b[0;34m)\u001b[0m\u001b[0;34m\u001b[0m\u001b[0;34m\u001b[0m\u001b[0m\n\u001b[1;32m    251\u001b[0m                 \u001b[0;32melse\u001b[0m\u001b[0;34m:\u001b[0m\u001b[0;34m\u001b[0m\u001b[0;34m\u001b[0m\u001b[0m\n",
      "\u001b[0;32m~/oscar/tesis/astro-lightcurves-handler/lchandler/dataset_classes.py\u001b[0m in \u001b[0;36mget_populations_cdict\u001b[0;34m(self)\u001b[0m\n\u001b[1;32m    207\u001b[0m \u001b[0;34m\u001b[0m\u001b[0m\n\u001b[1;32m    208\u001b[0m         \u001b[0;32mdef\u001b[0m \u001b[0mget_populations_cdict\u001b[0m\u001b[0;34m(\u001b[0m\u001b[0mself\u001b[0m\u001b[0;34m)\u001b[0m\u001b[0;34m:\u001b[0m\u001b[0;34m\u001b[0m\u001b[0;34m\u001b[0m\u001b[0m\n\u001b[0;32m--> 209\u001b[0;31m                 \u001b[0;32mreturn\u001b[0m \u001b[0mget_populations_cdict\u001b[0m\u001b[0;34m(\u001b[0m\u001b[0mself\u001b[0m\u001b[0;34m.\u001b[0m\u001b[0mget_lcobj_classes\u001b[0m\u001b[0;34m(\u001b[0m\u001b[0;34m)\u001b[0m\u001b[0;34m,\u001b[0m \u001b[0mself\u001b[0m\u001b[0;34m.\u001b[0m\u001b[0mclass_names\u001b[0m\u001b[0;34m)\u001b[0m\u001b[0;34m\u001b[0m\u001b[0;34m\u001b[0m\u001b[0m\n\u001b[0m\u001b[1;32m    210\u001b[0m \u001b[0;34m\u001b[0m\u001b[0m\n\u001b[1;32m    211\u001b[0m         \u001b[0;32mdef\u001b[0m \u001b[0mget_class_freq_weights_cdict\u001b[0m\u001b[0;34m(\u001b[0m\u001b[0mself\u001b[0m\u001b[0;34m)\u001b[0m\u001b[0;34m:\u001b[0m\u001b[0;34m\u001b[0m\u001b[0;34m\u001b[0m\u001b[0m\n",
      "\u001b[0;32m~/oscar/tesis/flaming-choripan/flamingchoripan/datascience/statistics.py\u001b[0m in \u001b[0;36mget_populations_cdict\u001b[0;34m(labels, class_names)\u001b[0m\n\u001b[1;32m    163\u001b[0m \u001b[0;32mdef\u001b[0m \u001b[0mget_populations_cdict\u001b[0m\u001b[0;34m(\u001b[0m\u001b[0mlabels\u001b[0m\u001b[0;34m,\u001b[0m \u001b[0mclass_names\u001b[0m\u001b[0;34m)\u001b[0m\u001b[0;34m:\u001b[0m\u001b[0;34m\u001b[0m\u001b[0;34m\u001b[0m\u001b[0m\n\u001b[1;32m    164\u001b[0m         \u001b[0muniques\u001b[0m\u001b[0;34m,\u001b[0m \u001b[0mcounts\u001b[0m \u001b[0;34m=\u001b[0m \u001b[0mnp\u001b[0m\u001b[0;34m.\u001b[0m\u001b[0munique\u001b[0m\u001b[0;34m(\u001b[0m\u001b[0mlabels\u001b[0m\u001b[0;34m,\u001b[0m \u001b[0mreturn_counts\u001b[0m\u001b[0;34m=\u001b[0m\u001b[0;32mTrue\u001b[0m\u001b[0;34m)\u001b[0m\u001b[0;34m\u001b[0m\u001b[0;34m\u001b[0m\u001b[0m\n\u001b[0;32m--> 165\u001b[0;31m         \u001b[0;32mreturn\u001b[0m \u001b[0;34m{\u001b[0m\u001b[0mc\u001b[0m\u001b[0;34m:\u001b[0m\u001b[0mcounts\u001b[0m\u001b[0;34m[\u001b[0m\u001b[0mlist\u001b[0m\u001b[0;34m(\u001b[0m\u001b[0muniques\u001b[0m\u001b[0;34m)\u001b[0m\u001b[0;34m.\u001b[0m\u001b[0mindex\u001b[0m\u001b[0;34m(\u001b[0m\u001b[0mc\u001b[0m\u001b[0;34m)\u001b[0m\u001b[0;34m]\u001b[0m \u001b[0;32mfor\u001b[0m \u001b[0mc\u001b[0m \u001b[0;32min\u001b[0m \u001b[0mclass_names\u001b[0m\u001b[0;34m}\u001b[0m\u001b[0;34m\u001b[0m\u001b[0;34m\u001b[0m\u001b[0m\n\u001b[0m",
      "\u001b[0;32m~/oscar/tesis/flaming-choripan/flamingchoripan/datascience/statistics.py\u001b[0m in \u001b[0;36m<dictcomp>\u001b[0;34m(.0)\u001b[0m\n\u001b[1;32m    163\u001b[0m \u001b[0;32mdef\u001b[0m \u001b[0mget_populations_cdict\u001b[0m\u001b[0;34m(\u001b[0m\u001b[0mlabels\u001b[0m\u001b[0;34m,\u001b[0m \u001b[0mclass_names\u001b[0m\u001b[0;34m)\u001b[0m\u001b[0;34m:\u001b[0m\u001b[0;34m\u001b[0m\u001b[0;34m\u001b[0m\u001b[0m\n\u001b[1;32m    164\u001b[0m         \u001b[0muniques\u001b[0m\u001b[0;34m,\u001b[0m \u001b[0mcounts\u001b[0m \u001b[0;34m=\u001b[0m \u001b[0mnp\u001b[0m\u001b[0;34m.\u001b[0m\u001b[0munique\u001b[0m\u001b[0;34m(\u001b[0m\u001b[0mlabels\u001b[0m\u001b[0;34m,\u001b[0m \u001b[0mreturn_counts\u001b[0m\u001b[0;34m=\u001b[0m\u001b[0;32mTrue\u001b[0m\u001b[0;34m)\u001b[0m\u001b[0;34m\u001b[0m\u001b[0;34m\u001b[0m\u001b[0m\n\u001b[0;32m--> 165\u001b[0;31m         \u001b[0;32mreturn\u001b[0m \u001b[0;34m{\u001b[0m\u001b[0mc\u001b[0m\u001b[0;34m:\u001b[0m\u001b[0mcounts\u001b[0m\u001b[0;34m[\u001b[0m\u001b[0mlist\u001b[0m\u001b[0;34m(\u001b[0m\u001b[0muniques\u001b[0m\u001b[0;34m)\u001b[0m\u001b[0;34m.\u001b[0m\u001b[0mindex\u001b[0m\u001b[0;34m(\u001b[0m\u001b[0mc\u001b[0m\u001b[0;34m)\u001b[0m\u001b[0;34m]\u001b[0m \u001b[0;32mfor\u001b[0m \u001b[0mc\u001b[0m \u001b[0;32min\u001b[0m \u001b[0mclass_names\u001b[0m\u001b[0;34m}\u001b[0m\u001b[0;34m\u001b[0m\u001b[0;34m\u001b[0m\u001b[0m\n\u001b[0m",
      "\u001b[0;31mValueError\u001b[0m: 'SNIbc' is not in list"
     ]
    }
   ],
   "source": [
    "print(lcdataset)"
   ]
  },
  {
   "cell_type": "code",
   "execution_count": 8,
   "metadata": {},
   "outputs": [
    {
     "name": "stdout",
     "output_type": "stream",
     "text": [
      "\u001b[32m> saving: ../save/alerceZTFv7.1/survey-alerceZTFv7.1_bands-gr_mode-onlySNe_kfid-0_method-curvefit.splcds\u001b[0m\n"
     ]
    },
    {
     "data": {
      "text/plain": [
       "'../save/alerceZTFv7.1/survey-alerceZTFv7.1_bands-gr_mode-onlySNe_kfid-0_method-curvefit.splcds'"
      ]
     },
     "execution_count": 8,
     "metadata": {},
     "output_type": "execute_result"
    }
   ],
   "source": [
    "from flamingchoripan.files import load_pickle, save_pickle\n",
    "from lchandler import C_\n",
    "\n",
    "save_rootdir = f'../save/{synth_lcset.survey}'\n",
    "save_filedir = f'{save_rootdir}/{cfilename}_method-{method}.{C_.EXT_SPLIT_LIGHTCURVE}'\n",
    "save_pickle(save_filedir, lcdataset)"
   ]
  }
 ],
 "metadata": {
  "kernelspec": {
   "display_name": "Python 3",
   "language": "python",
   "name": "python3"
  },
  "language_info": {
   "codemirror_mode": {
    "name": "ipython",
    "version": 3
   },
   "file_extension": ".py",
   "mimetype": "text/x-python",
   "name": "python",
   "nbconvert_exporter": "python",
   "pygments_lexer": "ipython3",
   "version": "3.7.9"
  }
 },
 "nbformat": 4,
 "nbformat_minor": 4
}
