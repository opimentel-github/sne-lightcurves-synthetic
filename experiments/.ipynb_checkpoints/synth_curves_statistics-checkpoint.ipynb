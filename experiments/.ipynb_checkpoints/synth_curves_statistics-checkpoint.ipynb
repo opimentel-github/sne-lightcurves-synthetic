{
 "cells": [
  {
   "cell_type": "code",
   "execution_count": 220,
   "metadata": {},
   "outputs": [],
   "source": [
    "import sys\n",
    "sys.path.append('../') # or just install the module\n",
    "sys.path.append('../../flaming-choripan') # or just install the module\n",
    "sys.path.append('../../astro-lightcurves-handler') # or just install the module"
   ]
  },
  {
   "cell_type": "code",
   "execution_count": null,
   "metadata": {},
   "outputs": [],
   "source": [
    "%load_ext autoreload\n",
    "%autoreload 2\n",
    "from synthsne import synth_method_statistics as sms\n",
    "\n",
    "kf = 0\n",
    "lcset_name = 'train'\n",
    "cfilename = f'survey=alerceZTFv7.1~bands=gr~mode=onlySNe'\n",
    "methods = [\n",
    "    'linear-fstw',\n",
    "    'bspline-fstw',\n",
    "    'spm-mle-fstw',\n",
    "    'spm-mle-estw',\n",
    "    'spm-mcmc-fstw',\n",
    "    'spm-mcmc-estw',\n",
    "    ]"
   ]
  },
  {
   "cell_type": "code",
   "execution_count": 246,
   "metadata": {},
   "outputs": [
    {
     "name": "stdout",
     "output_type": "stream",
     "text": [
      "The autoreload extension is already loaded. To reload it, use:\n",
      "  %reload_ext autoreload\n",
      "method=linear-fstw - any_incorrects_fittings=111 #\n",
      "method=bspline-fstw - any_incorrects_fittings=296 #\n",
      "method=spm-mle-fstw - any_incorrects_fittings=111 #\n",
      "method=spm-mle-estw - any_incorrects_fittings=111 #\n",
      "method=spm-mcmc-fstw - any_incorrects_fittings=107 #\n",
      "method=spm-mcmc-estw - any_incorrects_fittings=0 #\n",
      "method=linear-fstw - all_incorrects_fittings=1 #\n",
      "method=bspline-fstw - all_incorrects_fittings=81 #\n",
      "method=spm-mle-fstw - all_incorrects_fittings=1 #\n",
      "method=spm-mle-estw - all_incorrects_fittings=1 #\n",
      "method=spm-mcmc-fstw - all_incorrects_fittings=4 #\n",
      "method=spm-mcmc-estw - all_incorrects_fittings=0 #\n"
     ]
    }
   ],
   "source": [
    "for method in methods:\n",
    "    any_incorrects_fittings = sms.get_any_incorrects_fittings(f'../save/ssne/{method}/{cfilename}/{kf}@{lcset_name}')\n",
    "    print(f'method={method} - any_incorrects_fittings={len(any_incorrects_fittings)} #')\n",
    "    \n",
    "for method in methods:\n",
    "    all_incorrects_fittings = sms.get_all_incorrects_fittings(f'../save/ssne/{method}/{cfilename}/{kf}@{lcset_name}')\n",
    "    print(f'method={method} - all_incorrects_fittings={len(all_incorrects_fittings)} #')"
   ]
  },
  {
   "cell_type": "code",
   "execution_count": 266,
   "metadata": {},
   "outputs": [
    {
     "name": "stdout",
     "output_type": "stream",
     "text": [
      "The autoreload extension is already loaded. To reload it, use:\n",
      "  %reload_ext autoreload\n",
      "method=bspline-fstw - xe_ptimes=.714±.235\n",
      "method=linear-fstw - xe_ptimes=.862±.344\n",
      "method=spm-mcmc-fstw - xe_ptimes=64.569±6.220\n",
      "method=spm-mcmc-estw - xe_ptimes=─\n"
     ]
    }
   ],
   "source": [
    "%load_ext autoreload\n",
    "%autoreload 2\n",
    "from synthsne import synth_method_statistics as sms\n",
    "\n",
    "for method in methods:\n",
    "    xe_ptimes = sms.get_perf_times(f'../save/ssne/{method}/{cfilename}/{kf}@{lcset_name}')\n",
    "    print(f'method={method} - xe_ptimes={xe_ptimes}')"
   ]
  },
  {
   "cell_type": "code",
   "execution_count": 289,
   "metadata": {},
   "outputs": [
    {
     "name": "stdout",
     "output_type": "stream",
     "text": [
      "The autoreload extension is already loaded. To reload it, use:\n",
      "  %reload_ext autoreload\n"
     ]
    },
    {
     "ename": "KeyError",
     "evalue": "'train'",
     "output_type": "error",
     "traceback": [
      "\u001b[0;31m---------------------------------------------------------------------------\u001b[0m",
      "\u001b[0;31mKeyError\u001b[0m                                  Traceback (most recent call last)",
      "\u001b[0;32m<ipython-input-289-6621653b08ca>\u001b[0m in \u001b[0;36m<module>\u001b[0;34m\u001b[0m\n\u001b[1;32m      4\u001b[0m \u001b[0;32mfrom\u001b[0m \u001b[0mflamingchoripan\u001b[0m\u001b[0;34m.\u001b[0m\u001b[0mlatex\u001b[0m\u001b[0;34m.\u001b[0m\u001b[0mlatex_tables\u001b[0m \u001b[0;32mimport\u001b[0m \u001b[0mLatexTable\u001b[0m\u001b[0;34m\u001b[0m\u001b[0;34m\u001b[0m\u001b[0m\n\u001b[1;32m      5\u001b[0m \u001b[0;34m\u001b[0m\u001b[0m\n\u001b[0;32m----> 6\u001b[0;31m \u001b[0minfo_df\u001b[0m \u001b[0;34m=\u001b[0m \u001b[0msms\u001b[0m\u001b[0;34m.\u001b[0m\u001b[0mget_info_dict\u001b[0m\u001b[0;34m(\u001b[0m\u001b[0;34mf'../save/ssne'\u001b[0m\u001b[0;34m,\u001b[0m \u001b[0mmethods\u001b[0m\u001b[0;34m,\u001b[0m \u001b[0mcfilename\u001b[0m\u001b[0;34m,\u001b[0m \u001b[0mkf\u001b[0m\u001b[0;34m,\u001b[0m \u001b[0mlcset_name\u001b[0m\u001b[0;34m)\u001b[0m\u001b[0;34m\u001b[0m\u001b[0;34m\u001b[0m\u001b[0m\n\u001b[0m\u001b[1;32m      7\u001b[0m latex_kwargs = {\n\u001b[1;32m      8\u001b[0m     \u001b[0;34m'caption'\u001b[0m\u001b[0;34m:\u001b[0m\u001b[0;34m'$x_j$'\u001b[0m\u001b[0;34m,\u001b[0m\u001b[0;34m\u001b[0m\u001b[0;34m\u001b[0m\u001b[0m\n",
      "\u001b[0;32m~/oscar/tesis/sne-lightcurves-synthetic/synthsne/synth_method_statistics.py\u001b[0m in \u001b[0;36mget_info_dict\u001b[0;34m(rootdir, methods, cfilename, kf, lcset_name, band_names)\u001b[0m\n\u001b[1;32m    118\u001b[0m                 \u001b[0;32mfor\u001b[0m \u001b[0mmethod\u001b[0m \u001b[0;32min\u001b[0m \u001b[0mmethods\u001b[0m\u001b[0;34m:\u001b[0m\u001b[0;34m\u001b[0m\u001b[0;34m\u001b[0m\u001b[0m\n\u001b[1;32m    119\u001b[0m                         \u001b[0m_rootdir\u001b[0m \u001b[0;34m=\u001b[0m \u001b[0;34mf'{rootdir}/{method}/{cfilename}/{kf}@{lcset_name}'\u001b[0m\u001b[0;34m\u001b[0m\u001b[0;34m\u001b[0m\u001b[0m\n\u001b[0;32m--> 120\u001b[0;31m                         \u001b[0mfiles\u001b[0m\u001b[0;34m,\u001b[0m \u001b[0mfiles_ids\u001b[0m \u001b[0;34m=\u001b[0m \u001b[0mfcfiles\u001b[0m\u001b[0;34m.\u001b[0m\u001b[0mgather_files_by_kfold\u001b[0m\u001b[0;34m(\u001b[0m\u001b[0m_rootdir\u001b[0m\u001b[0;34m,\u001b[0m \u001b[0mkf\u001b[0m\u001b[0;34m,\u001b[0m \u001b[0mlcset_name\u001b[0m\u001b[0;34m)\u001b[0m\u001b[0;34m\u001b[0m\u001b[0;34m\u001b[0m\u001b[0m\n\u001b[0m\u001b[1;32m    121\u001b[0m                         \u001b[0mtraces\u001b[0m \u001b[0;34m=\u001b[0m \u001b[0;34m[\u001b[0m\u001b[0mf\u001b[0m\u001b[0;34m(\u001b[0m\u001b[0;34m)\u001b[0m\u001b[0;34m[\u001b[0m\u001b[0;34m'trace_bdict'\u001b[0m\u001b[0;34m]\u001b[0m\u001b[0;34m[\u001b[0m\u001b[0mb\u001b[0m\u001b[0;34m]\u001b[0m \u001b[0;32mfor\u001b[0m \u001b[0mf\u001b[0m \u001b[0;32min\u001b[0m \u001b[0mfiles\u001b[0m\u001b[0;34m]\u001b[0m\u001b[0;34m\u001b[0m\u001b[0;34m\u001b[0m\u001b[0m\n\u001b[1;32m    122\u001b[0m                         \u001b[0mtrace_errors\u001b[0m \u001b[0;34m=\u001b[0m \u001b[0mflat_list\u001b[0m\u001b[0;34m(\u001b[0m\u001b[0;34m[\u001b[0m\u001b[0mt\u001b[0m\u001b[0;34m.\u001b[0m\u001b[0mget_valid_errors\u001b[0m\u001b[0;34m(\u001b[0m\u001b[0;34m)\u001b[0m \u001b[0;32mfor\u001b[0m \u001b[0mt\u001b[0m \u001b[0;32min\u001b[0m \u001b[0mtraces\u001b[0m\u001b[0;34m]\u001b[0m\u001b[0;34m)\u001b[0m\u001b[0;34m\u001b[0m\u001b[0;34m\u001b[0m\u001b[0m\n",
      "\u001b[0;32m~/oscar/tesis/flaming-choripan/flamingchoripan/files.py\u001b[0m in \u001b[0;36mgather_files_by_kfold\u001b[0;34m(rootdir, kf, kf_set, id_key, key_key_separator, key_value_separator, fext, kf_str)\u001b[0m\n\u001b[1;32m    387\u001b[0m                         \u001b[0mfiles_ids\u001b[0m \u001b[0;34m+=\u001b[0m \u001b[0;34m[\u001b[0m\u001b[0;34mf'{_kf}{kf_str}{_fid}'\u001b[0m \u001b[0;32mfor\u001b[0m \u001b[0m_fid\u001b[0m \u001b[0;32min\u001b[0m \u001b[0m_files_ids\u001b[0m\u001b[0;34m]\u001b[0m\u001b[0;34m\u001b[0m\u001b[0;34m\u001b[0m\u001b[0m\n\u001b[1;32m    388\u001b[0m         \u001b[0;32melse\u001b[0m\u001b[0;34m:\u001b[0m\u001b[0;34m\u001b[0m\u001b[0;34m\u001b[0m\u001b[0m\n\u001b[0;32m--> 389\u001b[0;31m                 \u001b[0mkfrd\u001b[0m \u001b[0;34m=\u001b[0m \u001b[0mkfold_rootdirs_dict\u001b[0m\u001b[0;34m[\u001b[0m\u001b[0mkf_set\u001b[0m\u001b[0;34m]\u001b[0m\u001b[0;34m[\u001b[0m\u001b[0mstr\u001b[0m\u001b[0;34m(\u001b[0m\u001b[0mkf\u001b[0m\u001b[0;34m)\u001b[0m\u001b[0;34m]\u001b[0m\u001b[0;34m\u001b[0m\u001b[0;34m\u001b[0m\u001b[0m\n\u001b[0m\u001b[1;32m    390\u001b[0m \t\tfiles, files_ids = gather_files_by_id(kfrd,\n\u001b[1;32m    391\u001b[0m                         \u001b[0mid_key\u001b[0m\u001b[0;34m,\u001b[0m\u001b[0;34m\u001b[0m\u001b[0;34m\u001b[0m\u001b[0m\n",
      "\u001b[0;31mKeyError\u001b[0m: 'train'"
     ]
    }
   ],
   "source": [
    "%load_ext autoreload\n",
    "%autoreload 2\n",
    "from synthsne import synth_method_statistics as sms\n",
    "from flamingchoripan.latex.latex_tables import LatexTable\n",
    "\n",
    "info_df = sms.get_info_dict(f'../save/ssne', methods, cfilename, kf, lcset_name)\n",
    "latex_kwargs = {\n",
    "    'caption':f'kf={kf}',\n",
    "    'label':'???',\n",
    "    #'bold_criteriums':{c:'max' if ('%' in c or 'fits-n' in c) else 'min' for c in info_df.columns},\n",
    "    #'custom_tabular_align':'l|'+'c'*sum([m.split('-')[-1]=='fstw' for m in methods])+'|'+'c'*sum([m.split('-')[-1]=='estw' for m in methods]),\n",
    "    #'custom_tabular_align':'l|c|ccc|ccc|ccc',\n",
    "}\n",
    "latex_table = LatexTable(info_df, **latex_kwargs)\n",
    "print(latex_table)\n",
    "info_df"
   ]
  },
  {
   "cell_type": "code",
   "execution_count": 279,
   "metadata": {},
   "outputs": [
    {
     "name": "stdout",
     "output_type": "stream",
     "text": [
      "The autoreload extension is already loaded. To reload it, use:\n",
      "  %reload_ext autoreload\n",
      "bspline-fstw\n",
      "band=.:\n",
      "[1#] ZTF19aaxfzao=9,828.0871\n",
      "[2#] ZTF19aaomkvl=9,757.7971\n",
      "[3#] ZTF18abdpvnd=9,723.7847\n",
      "[4#] ZTF18abwkrbl=9,617.5396\n",
      "[5#] ZTF19aardunx=9,506.6292\n",
      "[6#] ZTF19abegxob=9,443.6085\n",
      "[7#] ZTF19aarlefl=9,100.4352\n",
      "[8#] ZTF18abuhzfc=9,066.4669\n",
      "[9#] ZTF19abecaca=8,787.2745\n",
      "[10#] ZTF18abeecwe=8,768.5297\n",
      "band=g:\n",
      "[1#] ZTF18abuhzfc=9,746.3597\n",
      "[2#] ZTF19aawmkja=9,718.2961\n",
      "[3#] ZTF18abwkrbl=9,617.5396\n",
      "[4#] ZTF19aakljys=9,522.8373\n",
      "[5#] ZTF19aanonjt=9,521.0885\n",
      "[6#] ZTF19aanuhox=9,281.5141\n",
      "[7#] ZTF19aalzmmt=9,164.5237\n",
      "[8#] ZTF19abjibet=8,988.6626\n",
      "[9#] ZTF19aavhypb=8,984.4749\n",
      "[10#] ZTF18acsyanq=8,787.8695\n",
      "band=r:\n",
      "[1#] ZTF19aaxfzao=9,828.0871\n",
      "[2#] ZTF19aaomkvl=9,757.7971\n",
      "[3#] ZTF18abdpvnd=9,723.7847\n",
      "[4#] ZTF19aardunx=9,506.6292\n",
      "[5#] ZTF19abegxob=9,443.6085\n",
      "[6#] ZTF19aapfmki=9,440.1706\n",
      "[7#] ZTF19aarlefl=9,100.4352\n",
      "[8#] ZTF18acqpqph=8,921.0943\n",
      "[9#] ZTF18abeecwe=8,768.5297\n",
      "[10#] ZTF19aacivvy=8,590.8145\n",
      "linear-fstw\n",
      "band=.:\n",
      "[1#] ZTF18aasdted=32.2769\n",
      "[2#] ZTF19aatlmbo=16.3642\n",
      "[3#] ZTF18aaqkcso=14.4815\n",
      "[4#] ZTF19aawgopm=14.4601\n",
      "[5#] ZTF18aaxcntm=14.0727\n",
      "[6#] ZTF18acqqyah=13.5510\n",
      "[7#] ZTF18aaumeys=13.2981\n",
      "[8#] ZTF18abmxahs=13.0376\n",
      "[9#] ZTF18abuqugw=12.7587\n",
      "[10#] ZTF19abvhduf=12.6371\n",
      "band=g:\n",
      "[1#] ZTF18aasdted=31.8127\n",
      "[2#] ZTF18aaslhxt=14.7634\n",
      "[3#] ZTF19aatlmbo=14.5121\n",
      "[4#] ZTF19aawgopm=13.8231\n",
      "[5#] ZTF18abuqugw=13.6038\n",
      "[6#] ZTF18aayjyub=13.5225\n",
      "[7#] ZTF18aaxcntm=13.3264\n",
      "[8#] ZTF18aaqkcso=13.1993\n",
      "[9#] ZTF19aagmsrr=13.0850\n",
      "[10#] ZTF18acqqyah=13.0708\n",
      "band=r:\n",
      "[1#] ZTF18aasdted=32.7411\n",
      "[2#] ZTF19aatlmbo=18.2164\n",
      "[3#] ZTF18aaqkcso=15.7637\n",
      "[4#] ZTF19aawgopm=15.0970\n",
      "[5#] ZTF18aaxcntm=14.8191\n",
      "[6#] ZTF19aacgslb=14.4614\n",
      "[7#] ZTF18aaumeys=14.3597\n",
      "[8#] ZTF18acqqyah=14.0312\n",
      "[9#] ZTF18acrdlrp=13.8756\n",
      "[10#] ZTF18aahvndq=13.6651\n",
      "spm-mcmc-fstw\n",
      "band=.:\n",
      "[1#] ZTF18adbckhw=1,987.2209\n",
      "[2#] ZTF18aasdted=1,276.3583\n",
      "[3#] ZTF18acbwtng=1,258.8514\n",
      "[4#] ZTF19abcekty=729.4014\n",
      "[5#] ZTF18acrdlrp=729.4004\n",
      "[6#] ZTF19aadnxnl=688.2617\n",
      "[7#] ZTF18abffyqp=644.8549\n",
      "[8#] ZTF18aaqkcso=611.4179\n",
      "[9#] ZTF19aajxwnz=445.2076\n",
      "[10#] ZTF18acgvgiq=410.1895\n",
      "band=g:\n",
      "[1#] ZTF19aadnxnl=1,129.5349\n",
      "[2#] ZTF19abcekty=1,053.9251\n",
      "[3#] ZTF18aasdted=933.1111\n",
      "[4#] ZTF18abffyqp=902.6080\n",
      "[5#] ZTF18acqqyah=558.9274\n",
      "[6#] ZTF19abegxob=528.9494\n",
      "[7#] ZTF18aaqkcso=494.7028\n",
      "[8#] ZTF19abacxod=449.2020\n",
      "[9#] ZTF18acrdlrp=375.4973\n",
      "[10#] ZTF19aamljom=369.3554\n",
      "band=r:\n",
      "[1#] ZTF18adbckhw=3,931.0228\n",
      "[2#] ZTF18aasdted=1,619.6055\n",
      "[3#] ZTF18acbwtng=1,258.8514\n",
      "[4#] ZTF18acrdlrp=1,083.3036\n",
      "[5#] ZTF18aaqkcso=728.1331\n",
      "[6#] ZTF18acbwaxk=575.8423\n",
      "[7#] ZTF18aaumeys=563.9191\n",
      "[8#] ZTF19aajxwnz=545.3788\n",
      "[9#] ZTF18acgvgiq=537.4129\n",
      "[10#] ZTF18aaxcntm=498.2790\n",
      "spm-mcmc-estw\n"
     ]
    },
    {
     "ename": "IndexError",
     "evalue": "list index out of range",
     "output_type": "error",
     "traceback": [
      "\u001b[0;31m---------------------------------------------------------------------------\u001b[0m",
      "\u001b[0;31mIndexError\u001b[0m                                Traceback (most recent call last)",
      "\u001b[0;32m<ipython-input-279-9559f1974c62>\u001b[0m in \u001b[0;36m<module>\u001b[0;34m\u001b[0m\n\u001b[1;32m      6\u001b[0m     \u001b[0mrank\u001b[0m\u001b[0;34m,\u001b[0m \u001b[0mrank_bdict\u001b[0m\u001b[0;34m,\u001b[0m \u001b[0mband_names\u001b[0m \u001b[0;34m=\u001b[0m \u001b[0msms\u001b[0m\u001b[0;34m.\u001b[0m\u001b[0mget_ranks\u001b[0m\u001b[0;34m(\u001b[0m\u001b[0;34mf'../save/ssne/{method}/{cfilename}/{kf}@{lcset_name}'\u001b[0m\u001b[0;34m)\u001b[0m\u001b[0;34m\u001b[0m\u001b[0;34m\u001b[0m\u001b[0m\n\u001b[1;32m      7\u001b[0m     \u001b[0mprint\u001b[0m\u001b[0;34m(\u001b[0m\u001b[0mmethod\u001b[0m\u001b[0;34m)\u001b[0m\u001b[0;34m\u001b[0m\u001b[0;34m\u001b[0m\u001b[0m\n\u001b[0;32m----> 8\u001b[0;31m     \u001b[0mprint\u001b[0m\u001b[0;34m(\u001b[0m\u001b[0mrank\u001b[0m\u001b[0;34m)\u001b[0m\u001b[0;34m\u001b[0m\u001b[0;34m\u001b[0m\u001b[0m\n\u001b[0m\u001b[1;32m      9\u001b[0m     \u001b[0;32mfor\u001b[0m \u001b[0mb\u001b[0m \u001b[0;32min\u001b[0m \u001b[0mband_names\u001b[0m\u001b[0;34m:\u001b[0m\u001b[0;34m\u001b[0m\u001b[0;34m\u001b[0m\u001b[0m\n\u001b[1;32m     10\u001b[0m         \u001b[0mprint\u001b[0m\u001b[0;34m(\u001b[0m\u001b[0mrank_bdict\u001b[0m\u001b[0;34m[\u001b[0m\u001b[0mb\u001b[0m\u001b[0;34m]\u001b[0m\u001b[0;34m)\u001b[0m\u001b[0;34m\u001b[0m\u001b[0;34m\u001b[0m\u001b[0m\n",
      "\u001b[0;32m~/oscar/tesis/flaming-choripan/flamingchoripan/datascience/statistics.py\u001b[0m in \u001b[0;36m__repr__\u001b[0;34m(self)\u001b[0m\n\u001b[1;32m    299\u001b[0m                 \u001b[0mtxt\u001b[0m \u001b[0;34m=\u001b[0m \u001b[0;34mf'{self.name}:\\n'\u001b[0m\u001b[0;34m\u001b[0m\u001b[0;34m\u001b[0m\u001b[0m\n\u001b[1;32m    300\u001b[0m                 \u001b[0;32mfor\u001b[0m \u001b[0mk\u001b[0m \u001b[0;32min\u001b[0m \u001b[0mrange\u001b[0m\u001b[0;34m(\u001b[0m\u001b[0;36m0\u001b[0m\u001b[0;34m,\u001b[0m \u001b[0mlen\u001b[0m\u001b[0;34m(\u001b[0m\u001b[0mself\u001b[0m\u001b[0;34m)\u001b[0m\u001b[0;34m)\u001b[0m\u001b[0;34m:\u001b[0m\u001b[0;34m\u001b[0m\u001b[0;34m\u001b[0m\u001b[0m\n\u001b[0;32m--> 301\u001b[0;31m                         \u001b[0midx\u001b[0m \u001b[0;34m=\u001b[0m \u001b[0mself\u001b[0m\u001b[0;34m.\u001b[0m\u001b[0midxs\u001b[0m\u001b[0;34m[\u001b[0m\u001b[0mk\u001b[0m\u001b[0;34m]\u001b[0m\u001b[0;34m\u001b[0m\u001b[0;34m\u001b[0m\u001b[0m\n\u001b[0m\u001b[1;32m    302\u001b[0m                         \u001b[0mtxt\u001b[0m \u001b[0;34m+=\u001b[0m \u001b[0;34mf'[{k+1}#] {self.names[idx]}={xstr(self.values[idx], n_decimals=4)}\\n'\u001b[0m\u001b[0;34m\u001b[0m\u001b[0;34m\u001b[0m\u001b[0m\n\u001b[1;32m    303\u001b[0m                 \u001b[0;32mreturn\u001b[0m \u001b[0mtxt\u001b[0m\u001b[0;34m[\u001b[0m\u001b[0;34m:\u001b[0m\u001b[0;34m-\u001b[0m\u001b[0;36m1\u001b[0m\u001b[0;34m]\u001b[0m\u001b[0;34m\u001b[0m\u001b[0;34m\u001b[0m\u001b[0m\n",
      "\u001b[0;31mIndexError\u001b[0m: list index out of range"
     ]
    }
   ],
   "source": [
    "%load_ext autoreload\n",
    "%autoreload 2\n",
    "from synthsne import synth_method_statistics as sms\n",
    "\n",
    "for method in methods:\n",
    "    rank, rank_bdict = sms.get_ranks(f'../save/ssne/{method}/{cfilename}/{kf}@{lcset_name}')\n",
    "    print(method)\n",
    "    print(rank)\n",
    "    for b in rank_bdict.keys():\n",
    "        print(rank_bdict[b])"
   ]
  }
 ],
 "metadata": {
  "kernelspec": {
   "display_name": "Python 3",
   "language": "python",
   "name": "python3"
  },
  "language_info": {
   "codemirror_mode": {
    "name": "ipython",
    "version": 3
   },
   "file_extension": ".py",
   "mimetype": "text/x-python",
   "name": "python",
   "nbconvert_exporter": "python",
   "pygments_lexer": "ipython3",
   "version": "3.7.9"
  }
 },
 "nbformat": 4,
 "nbformat_minor": 4
}
