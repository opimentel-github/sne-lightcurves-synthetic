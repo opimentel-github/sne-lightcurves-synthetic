{
 "cells": [
  {
   "cell_type": "code",
   "execution_count": 1,
   "metadata": {},
   "outputs": [],
   "source": [
    "import sys\n",
    "sys.path.append('../') # or just install the module\n",
    "sys.path.append('../../flaming-choripan') # or just install the module\n",
    "sys.path.append('../../astro-lightcurves-handler') # or just install the module"
   ]
  },
  {
   "cell_type": "code",
   "execution_count": 2,
   "metadata": {},
   "outputs": [
    {
     "name": "stdout",
     "output_type": "stream",
     "text": [
      "────────────────────────────────────────────────────────────────────────────────────────────────────\n",
      "found filedirs: (../save)\n",
      "(0) - ../save/alerceZTFv7.1/survey-alerceZTFv7.1_bands-gr_mode-onlySNe_kfid-0/samplers.smplr - 7.858[mbs]\n",
      "────────────────────────────────────────────────────────────────────────────────────────────────────\n",
      "filedirs after searching with filters: (../save)\n",
      "(0) - ../save/alerceZTFv7.1/survey-alerceZTFv7.1_bands-gr_mode-onlySNe_kfid-0/samplers.smplr - 7.858[mbs]\n",
      "────────────────────────────────────────────────────────────────────────────────────────────────────\n"
     ]
    }
   ],
   "source": [
    "from flamingchoripan.files import search_for_filedirs\n",
    "from synthsne import C_\n",
    "\n",
    "root_folder = '../save'\n",
    "filedirs = search_for_filedirs(root_folder, fext=C_.EXT_SAMPLER)"
   ]
  },
  {
   "cell_type": "code",
   "execution_count": 3,
   "metadata": {},
   "outputs": [],
   "source": [
    "#methods = ['linear', 'bspline', 'curvefit', 'mcmc', 'uniformprior']\n",
    "#methods = ['curvefit', 'mcmc']\n",
    "methods = ['linear', 'bspline']"
   ]
  },
  {
   "cell_type": "code",
   "execution_count": 4,
   "metadata": {},
   "outputs": [
    {
     "name": "stderr",
     "output_type": "stream",
     "text": [
      "WARNING (theano.tensor.blas): Using NumPy C-API based implementation for BLAS functions.\n"
     ]
    },
    {
     "data": {
      "text/plain": [
       "['ZTF18accbppp',\n",
       " 'ZTF20abegopd',\n",
       " 'ZTF19achetvw',\n",
       " 'ZTF19aawgopm',\n",
       " 'ZTF18acbudzh',\n",
       " 'ZTF18abvrzqj',\n",
       " 'ZTF19acgfowd',\n",
       " 'ZTF18abfdupq',\n",
       " 'ZTF18aaoxryq',\n",
       " 'ZTF19abqmpti',\n",
       " 'ZTF20aamuqwn',\n",
       " 'ZTF18abwwuug',\n",
       " 'ZTF20aaurjzv']"
      ]
     },
     "execution_count": 4,
     "metadata": {},
     "output_type": "execute_result"
    }
   ],
   "source": [
    "%load_ext autoreload\n",
    "%autoreload 2\n",
    "from synthsne import curve_statistics as cs\n",
    "\n",
    "rootdir = '../save/alerceZTFv7.1/survey-alerceZTFv7.1_bands-gr_mode-onlySNe_kfid-0'\n",
    "method = 'linear' # linear, bspline\n",
    "cs.get_all_incorrects_fittings(rootdir, method)"
   ]
  },
  {
   "cell_type": "code",
   "execution_count": 5,
   "metadata": {},
   "outputs": [
    {
     "name": "stdout",
     "output_type": "stream",
     "text": [
      "The autoreload extension is already loaded. To reload it, use:\n",
      "  %reload_ext autoreload\n",
      "linear: .48±.10\n",
      "bspline: .44±.10\n"
     ]
    }
   ],
   "source": [
    "%load_ext autoreload\n",
    "%autoreload 2\n",
    "from synthsne import curve_statistics as cs\n",
    "\n",
    "rootdir = '../save/alerceZTFv7.1/survey-alerceZTFv7.1_bands-gr_mode-onlySNe_kfid-0'\n",
    "for method in methods:\n",
    "    #method = 'linear' # linear, bspline\n",
    "    xe = cs.get_perf_times(rootdir, method)\n",
    "    print(f'{method}: {xe}')"
   ]
  },
  {
   "cell_type": "code",
   "execution_count": 6,
   "metadata": {},
   "outputs": [
    {
     "name": "stdout",
     "output_type": "stream",
     "text": [
      "The autoreload extension is already loaded. To reload it, use:\n",
      "  %reload_ext autoreload\n",
      "mb-rank[top10]:\n",
      "(1) - ZTF18aaslhxt: 238.1672\n",
      "(2) - ZTF18aaxdrjn: 172.7882\n",
      "(3) - ZTF19acihlft: 140.8839\n",
      "(4) - ZTF19aaknvuh: 133.0348\n",
      "(5) - ZTF20abawgdl: 131.2031\n",
      "(6) - ZTF19aanxosu: 117.6853\n",
      "(7) - ZTF18abvptts: 108.5170\n",
      "(8) - ZTF19aampqcq: 106.8608\n",
      "(9) - ZTF20aamcvyp: 102.3192\n",
      "(10) - ZTF20aaomtwl: 101.6989\n",
      "g-rank[top10]:\n",
      "(1) - ZTF18aaslhxt: 329.9000\n",
      "(2) - ZTF19aaknvuh: 199.9777\n",
      "(3) - ZTF18aaxdrjn: 190.0265\n",
      "(4) - ZTF19aanxosu: 178.4678\n",
      "(5) - ZTF20aaawbxl: 154.9424\n",
      "(6) - ZTF20abawgdl: 148.1407\n",
      "(7) - ZTF19acihlft: 140.8839\n",
      "(8) - ZTF19aacilht: 140.6160\n",
      "(9) - ZTF20aaomtwl: 124.1031\n",
      "(10) - ZTF19aagmsrr: 122.8411\n",
      "r-rank[top10]:\n",
      "(1) - ZTF18aaxdrjn: 155.5499\n",
      "(2) - ZTF18abvptts: 152.2743\n",
      "(3) - ZTF18aaslhxt: 146.4344\n",
      "(4) - ZTF19aampqcq: 129.9381\n",
      "(5) - ZTF18adcdcrd: 124.5049\n",
      "(6) - ZTF20abawgdl: 114.2656\n",
      "(7) - ZTF18aaermez: 113.0311\n",
      "(8) - ZTF20abffaxl: 110.5361\n",
      "(9) - ZTF18acqqyah: 107.2024\n",
      "(10) - ZTF18aahvndq: 106.5716\n"
     ]
    }
   ],
   "source": [
    "%load_ext autoreload\n",
    "%autoreload 2\n",
    "from synthsne import curve_statistics as cs\n",
    "\n",
    "method = 'linear'\n",
    "rank, rank_bdict, band_names = cs.get_ranks(rootdir, method)\n",
    "print(rank)\n",
    "for b in band_names:\n",
    "    print(rank_bdict[b])"
   ]
  },
  {
   "cell_type": "code",
   "execution_count": 25,
   "metadata": {},
   "outputs": [
    {
     "name": "stdout",
     "output_type": "stream",
     "text": [
      "The autoreload extension is already loaded. To reload it, use:\n",
      "  %reload_ext autoreload\n"
     ]
    },
    {
     "data": {
      "text/html": [
       "<div>\n",
       "<style scoped>\n",
       "    .dataframe tbody tr th:only-of-type {\n",
       "        vertical-align: middle;\n",
       "    }\n",
       "\n",
       "    .dataframe tbody tr th {\n",
       "        vertical-align: top;\n",
       "    }\n",
       "\n",
       "    .dataframe thead th {\n",
       "        text-align: right;\n",
       "    }\n",
       "</style>\n",
       "<table border=\"1\" class=\"dataframe\">\n",
       "  <thead>\n",
       "    <tr style=\"text-align: right;\">\n",
       "      <th></th>\n",
       "      <th>trace-time[segs]</th>\n",
       "      <th>mb-fit-log-error</th>\n",
       "      <th>mb-ok-fits[%]</th>\n",
       "      <th>g-fit-log-error</th>\n",
       "      <th>g-ok-fits[%]</th>\n",
       "      <th>r-fit-log-error</th>\n",
       "      <th>r-ok-fits[%]</th>\n",
       "    </tr>\n",
       "  </thead>\n",
       "  <tbody>\n",
       "    <tr>\n",
       "      <th>method-bspline</th>\n",
       "      <td>.43±.11</td>\n",
       "      <td>5.28±2.07</td>\n",
       "      <td>90.804704</td>\n",
       "      <td>5.29±2.32</td>\n",
       "      <td>87.393696</td>\n",
       "      <td>5.26±1.82</td>\n",
       "      <td>94.215713</td>\n",
       "    </tr>\n",
       "    <tr>\n",
       "      <th>method-linear</th>\n",
       "      <td>.47±.11</td>\n",
       "      <td>3.84±.46</td>\n",
       "      <td>92.243578</td>\n",
       "      <td>3.82±.50</td>\n",
       "      <td>89.635570</td>\n",
       "      <td>3.87±.43</td>\n",
       "      <td>94.851586</td>\n",
       "    </tr>\n",
       "  </tbody>\n",
       "</table>\n",
       "</div>"
      ],
      "text/plain": [
       "               trace-time[segs] mb-fit-log-error  mb-ok-fits[%]  \\\n",
       "method-bspline          .43±.11        5.28±2.07      90.804704   \n",
       "method-linear           .47±.11         3.84±.46      92.243578   \n",
       "\n",
       "               g-fit-log-error  g-ok-fits[%] r-fit-log-error  r-ok-fits[%]  \n",
       "method-bspline       5.29±2.32     87.393696       5.26±1.82     94.215713  \n",
       "method-linear         3.82±.50     89.635570        3.87±.43     94.851586  "
      ]
     },
     "execution_count": 25,
     "metadata": {},
     "output_type": "execute_result"
    }
   ],
   "source": [
    "%load_ext autoreload\n",
    "%autoreload 2\n",
    "from synthsne import curve_statistics as cs\n",
    "\n",
    "info_df = cs.get_info_dict(rootdir, methods)\n",
    "info_df"
   ]
  },
  {
   "cell_type": "code",
   "execution_count": 28,
   "metadata": {},
   "outputs": [
    {
     "name": "stdout",
     "output_type": "stream",
     "text": [
      "The autoreload extension is already loaded. To reload it, use:\n",
      "  %reload_ext autoreload\n",
      "\u001b[31m%%%%%%%%%%%%%%%%%%%%%%%%%%%%%%%%%%%%%%%%%%%%%%%%%%%%%%%%%%%%%%%%%%%%%%%%%%%%%%%%%%%%%%%%%%%%%%%%%%%%\n",
      "\\def\\srule{\\rule{0pt}{2ex}\\rule[-1ex]{0pt}{0ex}}\n",
      "\\begin{table*}\n",
      "\\centering\n",
      "\\caption{???}\n",
      "\\label{???}\\vspace{.1cm}\n",
      "\\begin{tabular}{l|ccc|cc|cc}\n",
      "\\hline\n",
      "method & trace-time[segs] & mb-fit-log-error & mb-ok-fits[\\%] & g-fit-log-error & g-ok-fits[\\%] & r-fit-log-error & r-ok-fits[\\%] \\srule\\\\\\hline\\hline\n",
      "bspline & .43$\\pm$.11 & 5.28$\\pm$2.07 & 90.80 & 5.29$\\pm$2.32 & 87.39 & 5.26$\\pm$1.82 & 94.22 \\srule\\\\\n",
      "linear & .47$\\pm$.11 & 3.84$\\pm$.46 & 92.24 & 3.82$\\pm$.50 & 89.64 & 3.87$\\pm$.43 & 94.85 \\srule\\\\\n",
      "\\hline\n",
      "\\end{tabular}\n",
      "\\end{table*}\n",
      "%%%%%%%%%%%%%%%%%%%%%%%%%%%%%%%%%%%%%%%%%%%%%%%%%%%%%%%%%%%%%%%%%%%%%%%%%%%%%%%%%%%%%%%%%%%%%%%%%%%%\n",
      "\u001b[0m\n"
     ]
    }
   ],
   "source": [
    "%load_ext autoreload\n",
    "%autoreload 2\n",
    "from flamingchoripan.latex.latex_tables import LatexTable\n",
    "\n",
    "latex_kwargs = {\n",
    "    'caption':'???',\n",
    "    'label':'???',\n",
    "    'custom_tabular_align':'l|ccc|cc|cc',\n",
    "}\n",
    "latex_table = LatexTable(info_df, **latex_kwargs)\n",
    "print(latex_table)"
   ]
  }
 ],
 "metadata": {
  "kernelspec": {
   "display_name": "Python 3",
   "language": "python",
   "name": "python3"
  },
  "language_info": {
   "codemirror_mode": {
    "name": "ipython",
    "version": 3
   },
   "file_extension": ".py",
   "mimetype": "text/x-python",
   "name": "python",
   "nbconvert_exporter": "python",
   "pygments_lexer": "ipython3",
   "version": "3.7.9"
  }
 },
 "nbformat": 4,
 "nbformat_minor": 4
}
