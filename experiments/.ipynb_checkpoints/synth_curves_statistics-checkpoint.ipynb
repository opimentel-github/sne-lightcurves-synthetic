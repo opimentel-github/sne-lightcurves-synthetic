{
 "cells": [
  {
   "cell_type": "code",
   "execution_count": 62,
   "metadata": {},
   "outputs": [],
   "source": [
    "import sys\n",
    "sys.path.append('../') # or just install the module\n",
    "sys.path.append('../../flaming-choripan') # or just install the module\n",
    "sys.path.append('../../astro-lightcurves-handler') # or just install the module"
   ]
  },
  {
   "cell_type": "code",
   "execution_count": 63,
   "metadata": {},
   "outputs": [
    {
     "name": "stdout",
     "output_type": "stream",
     "text": [
      "The autoreload extension is already loaded. To reload it, use:\n",
      "  %reload_ext autoreload\n"
     ]
    },
    {
     "data": {
      "text/plain": [
       "[]"
      ]
     },
     "execution_count": 63,
     "metadata": {},
     "output_type": "execute_result"
    }
   ],
   "source": [
    "%load_ext autoreload\n",
    "%autoreload 2\n",
    "from synthsne import curve_statistics as cs\n",
    "\n",
    "method = 'mcmc'\n",
    "rootdir = '../save/alerceZTFv7.1'\n",
    "cs.get_all_incorrects_fittings(rootdir, method)"
   ]
  },
  {
   "cell_type": "code",
   "execution_count": 64,
   "metadata": {},
   "outputs": [
    {
     "name": "stdout",
     "output_type": "stream",
     "text": [
      "The autoreload extension is already loaded. To reload it, use:\n",
      "  %reload_ext autoreload\n",
      "mb-rank[top10]:\n",
      "(1) - ZTF18aasdted: 2542.0933012133173\n",
      "(2) - ZTF19abclykm: 1573.4311162509025\n",
      "(3) - ZTF19adcecwu: 799.1488034335537\n",
      "(4) - ZTF18acvwbos: 509.7601000715314\n",
      "(5) - ZTF19aavhxby: 314.021610652458\n",
      "(6) - ZTF18aaxcntm: 303.308022328719\n",
      "(7) - ZTF20aawmlfq: 302.49241184490256\n",
      "(8) - ZTF19aafljiq: 301.93843594992444\n",
      "(9) - ZTF19acaxcwg: 196.15310941328352\n",
      "(10) - ZTF19abqhikf: 177.4234493444824\n",
      "g-rank[top10]:\n",
      "(1) - ZTF18aasdted: 4026.858871785492\n",
      "(2) - ZTF19abclykm: 1022.6852167506433\n",
      "(3) - ZTF19adcecwu: 841.3753725532438\n",
      "(4) - ZTF18acvwbos: 774.1182936180287\n",
      "(5) - ZTF20aawmlfq: 409.5653035108554\n",
      "(6) - ZTF19abqhikf: 326.20878870418915\n",
      "(7) - ZTF19aavhxby: 285.76930895294333\n",
      "(8) - ZTF20aatxryt: 283.5043142300764\n",
      "(9) - ZTF19aafljiq: 237.32627727451674\n",
      "(10) - ZTF18aaxcntm: 198.19269215940832\n",
      "r-rank[top10]:\n",
      "(1) - ZTF19abclykm: 2124.177015751162\n",
      "(2) - ZTF18aasdted: 1057.3277306411424\n",
      "(3) - ZTF19adcecwu: 756.9222343138636\n",
      "(4) - ZTF18aaxcntm: 408.4233524980297\n",
      "(5) - ZTF19aafljiq: 366.5505946253321\n",
      "(6) - ZTF19aavhxby: 342.2739123519726\n",
      "(7) - ZTF19acaxcwg: 274.22137044124037\n",
      "(8) - ZTF18acvwbos: 245.40190652503406\n",
      "(9) - ZTF18aaxavsk: 200.9332769538246\n",
      "(10) - ZTF20aawmlfq: 195.41952017894977\n"
     ]
    }
   ],
   "source": [
    "%load_ext autoreload\n",
    "%autoreload 2\n",
    "from synthsne import curve_statistics as cs\n",
    "\n",
    "method = 'mcmc'\n",
    "rank, rank_bdict, band_names = cs.get_ranks(rootdir, method)\n",
    "print(rank)\n",
    "for b in band_names:\n",
    "    print(rank_bdict[b])"
   ]
  },
  {
   "cell_type": "code",
   "execution_count": 133,
   "metadata": {},
   "outputs": [
    {
     "name": "stdout",
     "output_type": "stream",
     "text": [
      "The autoreload extension is already loaded. To reload it, use:\n",
      "  %reload_ext autoreload\n"
     ]
    },
    {
     "data": {
      "text/html": [
       "<div>\n",
       "<style scoped>\n",
       "    .dataframe tbody tr th:only-of-type {\n",
       "        vertical-align: middle;\n",
       "    }\n",
       "\n",
       "    .dataframe tbody tr th {\n",
       "        vertical-align: top;\n",
       "    }\n",
       "\n",
       "    .dataframe thead th {\n",
       "        text-align: right;\n",
       "    }\n",
       "</style>\n",
       "<table border=\"1\" class=\"dataframe\">\n",
       "  <thead>\n",
       "    <tr style=\"text-align: right;\">\n",
       "      <th></th>\n",
       "      <th>mb-fit-error</th>\n",
       "      <th>mb-ok-fits-n</th>\n",
       "      <th>mb-n</th>\n",
       "      <th>mb-ok-fits-%</th>\n",
       "      <th>g-fit-error</th>\n",
       "      <th>g-ok-fits-n</th>\n",
       "      <th>g-n</th>\n",
       "      <th>g-ok-fits-%</th>\n",
       "      <th>r-fit-error</th>\n",
       "      <th>r-ok-fits-n</th>\n",
       "      <th>r-n</th>\n",
       "      <th>r-ok-fits-%</th>\n",
       "    </tr>\n",
       "  </thead>\n",
       "  <tbody>\n",
       "    <tr>\n",
       "      <th>method-curvefit</th>\n",
       "      <td>70.80±295.19</td>\n",
       "      <td>85204</td>\n",
       "      <td>87296</td>\n",
       "      <td>97.603556</td>\n",
       "      <td>55.34±211.08</td>\n",
       "      <td>42051</td>\n",
       "      <td>43648</td>\n",
       "      <td>96.341184</td>\n",
       "      <td>85.87±358.01</td>\n",
       "      <td>43153</td>\n",
       "      <td>43648</td>\n",
       "      <td>98.865927</td>\n",
       "    </tr>\n",
       "    <tr>\n",
       "      <th>method-mcmc</th>\n",
       "      <td>62.40±223.63</td>\n",
       "      <td>33372</td>\n",
       "      <td>34176</td>\n",
       "      <td>97.647472</td>\n",
       "      <td>59.52±270.22</td>\n",
       "      <td>16609</td>\n",
       "      <td>17088</td>\n",
       "      <td>97.196863</td>\n",
       "      <td>65.25±164.91</td>\n",
       "      <td>16763</td>\n",
       "      <td>17088</td>\n",
       "      <td>98.098081</td>\n",
       "    </tr>\n",
       "    <tr>\n",
       "      <th>method-uniformprior</th>\n",
       "      <td>988.71±1,364.58</td>\n",
       "      <td>2814</td>\n",
       "      <td>2816</td>\n",
       "      <td>99.928977</td>\n",
       "      <td>967.94±1,508.48</td>\n",
       "      <td>1406</td>\n",
       "      <td>1408</td>\n",
       "      <td>99.857955</td>\n",
       "      <td>1,009.45±1,203.48</td>\n",
       "      <td>1408</td>\n",
       "      <td>1408</td>\n",
       "      <td>100.000000</td>\n",
       "    </tr>\n",
       "  </tbody>\n",
       "</table>\n",
       "</div>"
      ],
      "text/plain": [
       "                        mb-fit-error  mb-ok-fits-n   mb-n  mb-ok-fits-%  \\\n",
       "method-curvefit         70.80±295.19         85204  87296     97.603556   \n",
       "method-mcmc             62.40±223.63         33372  34176     97.647472   \n",
       "method-uniformprior  988.71±1,364.58          2814   2816     99.928977   \n",
       "\n",
       "                         g-fit-error  g-ok-fits-n    g-n  g-ok-fits-%  \\\n",
       "method-curvefit         55.34±211.08        42051  43648    96.341184   \n",
       "method-mcmc             59.52±270.22        16609  17088    97.196863   \n",
       "method-uniformprior  967.94±1,508.48         1406   1408    99.857955   \n",
       "\n",
       "                           r-fit-error  r-ok-fits-n    r-n  r-ok-fits-%  \n",
       "method-curvefit           85.87±358.01        43153  43648    98.865927  \n",
       "method-mcmc               65.25±164.91        16763  17088    98.098081  \n",
       "method-uniformprior  1,009.45±1,203.48         1408   1408   100.000000  "
      ]
     },
     "execution_count": 133,
     "metadata": {},
     "output_type": "execute_result"
    }
   ],
   "source": [
    "%load_ext autoreload\n",
    "%autoreload 2\n",
    "from synthsne import curve_statistics as cs\n",
    "\n",
    "methods = ['curvefit', 'mcmc', 'uniformprior']\n",
    "methods = ['curvefit', 'mcmc']\n",
    "info_df = cs.get_info_dict(rootdir, methods)\n",
    "info_df"
   ]
  },
  {
   "cell_type": "code",
   "execution_count": 128,
   "metadata": {},
   "outputs": [
    {
     "name": "stdout",
     "output_type": "stream",
     "text": [
      "The autoreload extension is already loaded. To reload it, use:\n",
      "  %reload_ext autoreload\n",
      "\u001b[31m%%%%%%%%%%%%%%%%%%%%%%%%%%%%%%%%%%%%%%%%%%%%%%%%%%%%%%%%%%%%%%%%%%%%%%%%%%%%%%%%%%%%%%%%%%%%%%%%%%%%\n",
      "\\begin{table*}\n",
      "\\centering\n",
      "\\caption{???}\n",
      "\\label{???}\\vspace{.1cm}\n",
      "\\begin{tabular}{l|cccccccccccc}\n",
      "\\hline\\hline\n",
      "method & mb-fit-error & mb-ok-fits-n & mb-n & mb-ok-fits-\\% & g-fit-error & g-ok-fits-n & g-n & g-ok-fits-\\% & r-fit-error & r-ok-fits-n & r-n & r-ok-fits-\\% \\rule{0pt}{2ex}\\rule[-1ex]{0pt}{0ex}\\\\\\hline\n",
      "curvefit & 68.54$\\pm$275.41 & 76,708 & 78,592 & 97.60 & 47.88$\\pm$86.06 & 37,779 & 39,296 & 96.14 & 88.59$\\pm$376.10 & 38,929 & 39,296 & 99.07 \\rule{0pt}{2ex}\\rule[-1ex]{0pt}{0ex}\\\\\n",
      "mcmc & 63.13$\\pm$225.73 & 32,732 & 33,536 & 97.60 & 60.36$\\pm$272.79 & 16,289 & 16,768 & 97.14 & 65.87$\\pm$166.43 & 16,443 & 16,768 & 98.06 \\rule{0pt}{2ex}\\rule[-1ex]{0pt}{0ex}\\\\\n",
      "\\hline\n",
      "\\end{tabular}\n",
      "\\end{table*}\n",
      "%%%%%%%%%%%%%%%%%%%%%%%%%%%%%%%%%%%%%%%%%%%%%%%%%%%%%%%%%%%%%%%%%%%%%%%%%%%%%%%%%%%%%%%%%%%%%%%%%%%%\n",
      "\u001b[0m\n"
     ]
    }
   ],
   "source": [
    "%load_ext autoreload\n",
    "%autoreload 2\n",
    "from flamingchoripan.latex.latex_tables import LatexTable\n",
    "\n",
    "latex_table = LatexTable(info_df)\n",
    "print(latex_table)"
   ]
  }
 ],
 "metadata": {
  "kernelspec": {
   "display_name": "Python 3",
   "language": "python",
   "name": "python3"
  },
  "language_info": {
   "codemirror_mode": {
    "name": "ipython",
    "version": 3
   },
   "file_extension": ".py",
   "mimetype": "text/x-python",
   "name": "python",
   "nbconvert_exporter": "python",
   "pygments_lexer": "ipython3",
   "version": "3.7.9"
  }
 },
 "nbformat": 4,
 "nbformat_minor": 4
}
