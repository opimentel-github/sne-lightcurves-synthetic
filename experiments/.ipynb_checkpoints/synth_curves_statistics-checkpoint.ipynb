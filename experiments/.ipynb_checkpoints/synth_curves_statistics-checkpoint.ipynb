{
 "cells": [
  {
   "cell_type": "code",
   "execution_count": 1,
   "metadata": {},
   "outputs": [],
   "source": [
    "import sys\n",
    "sys.path.append('../') # or just install the module\n",
    "sys.path.append('../../flaming-choripan') # or just install the module\n",
    "sys.path.append('../../astro-lightcurves-handler') # or just install the module"
   ]
  },
  {
   "cell_type": "code",
   "execution_count": 122,
   "metadata": {},
   "outputs": [
    {
     "name": "stdout",
     "output_type": "stream",
     "text": [
      "────────────────────────────────────────────────────────────────────────────────────────────────────\n",
      "found filedirs: (../save)\n",
      "(0) - ../save/alerceZTFv7.1/survey=alerceZTFv7.1°bands=gr°mode=onlySNe/train/samplers.smplr - 6.500[mbs]\n",
      "(1) - ../save/alerceZTFv7.1/survey=alerceZTFv7.1°bands=gr°mode=onlySNe/train-2/samplers.smplr - 6.500[mbs]\n",
      "(2) - ../save/alerceZTFv7.1/survey=alerceZTFv7.1°bands=gr°mode=onlySNe/train-0/samplers.smplr - 6.500[mbs]\n",
      "(3) - ../save/alerceZTFv7.1/survey=alerceZTFv7.1°bands=gr°mode=onlySNe/train-1/samplers.smplr - 6.500[mbs]\n",
      "────────────────────────────────────────────────────────────────────────────────────────────────────\n",
      "filedirs after searching with filters: (../save)\n",
      "(0) - ../save/alerceZTFv7.1/survey=alerceZTFv7.1°bands=gr°mode=onlySNe/train/samplers.smplr - 6.500[mbs]\n",
      "(1) - ../save/alerceZTFv7.1/survey=alerceZTFv7.1°bands=gr°mode=onlySNe/train-2/samplers.smplr - 6.500[mbs]\n",
      "(2) - ../save/alerceZTFv7.1/survey=alerceZTFv7.1°bands=gr°mode=onlySNe/train-0/samplers.smplr - 6.500[mbs]\n",
      "(3) - ../save/alerceZTFv7.1/survey=alerceZTFv7.1°bands=gr°mode=onlySNe/train-1/samplers.smplr - 6.500[mbs]\n",
      "────────────────────────────────────────────────────────────────────────────────────────────────────\n"
     ]
    }
   ],
   "source": [
    "from flamingchoripan.files import search_for_filedirs\n",
    "from synthsne import C_\n",
    "\n",
    "root_folder = '../save'\n",
    "filedirs = search_for_filedirs(root_folder, fext=C_.EXT_SAMPLER)"
   ]
  },
  {
   "cell_type": "code",
   "execution_count": 123,
   "metadata": {},
   "outputs": [
    {
     "name": "stdout",
     "output_type": "stream",
     "text": [
      "The autoreload extension is already loaded. To reload it, use:\n",
      "  %reload_ext autoreload\n"
     ]
    },
    {
     "data": {
      "text/plain": [
       "[]"
      ]
     },
     "execution_count": 123,
     "metadata": {},
     "output_type": "execute_result"
    }
   ],
   "source": [
    "%load_ext autoreload\n",
    "%autoreload 2\n",
    "from synthsne import curve_statistics as cs\n",
    "\n",
    "lcset_name = 'train'\n",
    "methods = ['linear', 'bspline', 'uniformprior', 'curvefit', 'mcmc']\n",
    "#methods = ['curvefit', 'mcmc']\n",
    "#methods = ['linear', 'bspline']\n",
    "rootdir = f'../save/alerceZTFv7.1/survey=alerceZTFv7.1°bands=gr°mode=onlySNe/{lcset_name}'\n",
    "method = 'curvefit' # linear, bspline\n",
    "cs.get_all_incorrects_fittings(rootdir, method)"
   ]
  },
  {
   "cell_type": "code",
   "execution_count": 175,
   "metadata": {},
   "outputs": [
    {
     "name": "stdout",
     "output_type": "stream",
     "text": [
      "\u001b[34m> loading: ../save/alerceZTFv7.1/survey=alerceZTFv7.1°bands=gr°mode=onlySNe/train/mcmc/ZTF20aaemtgw.synsne\u001b[0m\n",
      "{'A': 1.006977703902689, 't0': 6.512921555605528, 'gamma': 29.04926396416991, 'f': 0.8853517170001615, 'trise': 1.454067092831617, 'tfall': 45.17304739795519}\n",
      "{'A': 0.010284875109714783, 't0': 1.7441344340807237, 'gamma': 114.79909822677497, 'f': 0.033298116118099685, 'trise': 1.2966340626871715, 'tfall': 3.172925697830427}\n"
     ]
    }
   ],
   "source": [
    "from flamingchoripan.files import load_pickle\n",
    "k = 'ZTF18adaslwa'\n",
    "k = 'ZTF20aaemtgw'\n",
    "x = load_pickle(f'{rootdir}/mcmc/{k}.synsne')\n",
    "print(x['trace_bdict']['g'].sne_model_l[0].pm_args)\n",
    "print(x['trace_bdict']['r'].sne_model_l[0].pm_args)"
   ]
  },
  {
   "cell_type": "code",
   "execution_count": 192,
   "metadata": {
    "scrolled": false
   },
   "outputs": [
    {
     "name": "stdout",
     "output_type": "stream",
     "text": [
      "The autoreload extension is already loaded. To reload it, use:\n",
      "  %reload_ext autoreload\n",
      "if self.c in ['SNIa']:\n",
      "\tif b=='g':\n"
     ]
    },
    {
     "ename": "TypeError",
     "evalue": "'<' not supported between instances of 'float' and 'NoneType'",
     "output_type": "error",
     "traceback": [
      "\u001b[0;31m---------------------------------------------------------------------------\u001b[0m",
      "\u001b[0;31mTypeError\u001b[0m                                 Traceback (most recent call last)",
      "\u001b[0;32m<ipython-input-192-53f6621f183d>\u001b[0m in \u001b[0;36m<module>\u001b[0;34m\u001b[0m\n\u001b[1;32m     49\u001b[0m                 \u001b[0mfscale\u001b[0m \u001b[0;34m=\u001b[0m \u001b[0;32mNone\u001b[0m \u001b[0;32mif\u001b[0m \u001b[0mdist_name\u001b[0m \u001b[0;32min\u001b[0m \u001b[0;34m[\u001b[0m\u001b[0;34m'norm'\u001b[0m\u001b[0;34m,\u001b[0m \u001b[0;34m'gamma'\u001b[0m\u001b[0;34m]\u001b[0m \u001b[0;32melse\u001b[0m \u001b[0;36m1\u001b[0m\u001b[0;34m\u001b[0m\u001b[0;34m\u001b[0m\u001b[0m\n\u001b[1;32m     50\u001b[0m                 \u001b[0mdist_params\u001b[0m \u001b[0;34m=\u001b[0m \u001b[0mdist\u001b[0m\u001b[0;34m.\u001b[0m\u001b[0mfit\u001b[0m\u001b[0;34m(\u001b[0m\u001b[0mp\u001b[0m\u001b[0;34m,\u001b[0m \u001b[0mfloc\u001b[0m\u001b[0;34m=\u001b[0m\u001b[0mfloc\u001b[0m\u001b[0;34m,\u001b[0m \u001b[0mfscale\u001b[0m\u001b[0;34m=\u001b[0m\u001b[0mfscale\u001b[0m\u001b[0;34m)\u001b[0m\u001b[0;34m\u001b[0m\u001b[0;34m\u001b[0m\u001b[0m\n\u001b[0;32m---> 51\u001b[0;31m                 \u001b[0mx\u001b[0m \u001b[0;34m=\u001b[0m \u001b[0mnp\u001b[0m\u001b[0;34m.\u001b[0m\u001b[0mlinspace\u001b[0m\u001b[0;34m(\u001b[0m\u001b[0mmin\u001b[0m\u001b[0;34m(\u001b[0m\u001b[0mfloc\u001b[0m\u001b[0;34m,\u001b[0m \u001b[0mnp\u001b[0m\u001b[0;34m.\u001b[0m\u001b[0mmin\u001b[0m\u001b[0;34m(\u001b[0m\u001b[0mp\u001b[0m\u001b[0;34m)\u001b[0m\u001b[0;34m)\u001b[0m\u001b[0;34m,\u001b[0m \u001b[0mnp\u001b[0m\u001b[0;34m.\u001b[0m\u001b[0mmax\u001b[0m\u001b[0;34m(\u001b[0m\u001b[0mp\u001b[0m\u001b[0;34m)\u001b[0m\u001b[0;34m,\u001b[0m \u001b[0;36m100\u001b[0m\u001b[0;34m)\u001b[0m\u001b[0;34m\u001b[0m\u001b[0;34m\u001b[0m\u001b[0m\n\u001b[0m\u001b[1;32m     52\u001b[0m                 \u001b[0;31m#print(dist_params)\u001b[0m\u001b[0;34m\u001b[0m\u001b[0;34m\u001b[0m\u001b[0;34m\u001b[0m\u001b[0m\n\u001b[1;32m     53\u001b[0m                 \u001b[0mprint\u001b[0m\u001b[0;34m(\u001b[0m\u001b[0;34mf'\\t\\t{xaa(spm_p, dist_name, dist_params)} # {c}-{b}'\u001b[0m\u001b[0;34m)\u001b[0m\u001b[0;34m\u001b[0m\u001b[0;34m\u001b[0m\u001b[0m\n",
      "\u001b[0;31mTypeError\u001b[0m: '<' not supported between instances of 'float' and 'NoneType'"
     ]
    }
   ],
   "source": [
    "%load_ext autoreload\n",
    "%autoreload 2\n",
    "from synthsne import curve_statistics as cs\n",
    "from flamingchoripan.cuteplots.plots import plot_hist_bins\n",
    "import matplotlib.pyplot as plt\n",
    "import scipy\n",
    "import numpy as np\n",
    "import scipy.stats\n",
    "\n",
    "def xaa(spm_p, dist_name, dist_params):\n",
    "    if dist_name=='norm':\n",
    "        return f\"{spm_p} = pm.Normal('{spm_p}', mu={dist_params[0]}, sigma={dist_params[1]})\"\n",
    "    elif dist_name=='gamma':\n",
    "        return f\"{spm_p} = pm.Gamma('{spm_p}', alpha={dist_params[0]}, beta={1/dist_params[2]})+{dist_params[1]}\"\n",
    "    elif dist_name=='beta':\n",
    "        return f\"{spm_p} = pm.Beta('{spm_p}', alpha={dist_params[0]}, beta={dist_params[1]})\"\n",
    "\n",
    "spm_d = {\n",
    "    't0':('norm', None),\n",
    "    'A':('gamma', 0),\n",
    "    'gamma':('gamma', 1),\n",
    "    'f':('beta', 0),\n",
    "    'trise':('gamma', 1),\n",
    "    'tfall':('gamma', 1),\n",
    "}\n",
    "classes = cs.get_classes(rootdir, method)\n",
    "classes = ['SNIa', 'allSNII', 'SNIbc']+['SLSN']\n",
    "#classes = []#, 'SLSN']\n",
    "plot = 1\n",
    "for c in classes:\n",
    "    print(f\"if self.c in ['{c}']:\")\n",
    "    for b in ['g', 'r']:\n",
    "        print(f\"\\tif b=='{b}':\")\n",
    "        for spm_p in spm_d.keys():\n",
    "            if spm_p=='f':\n",
    "                continue\n",
    "            spm_args_b = cs.xxx(rootdir, method, b)[spm_p]\n",
    "            p = np.array([spm_arg['p'] for spm_arg in spm_args_b if c==spm_arg['c']])\n",
    "            data_dict = {c:p}\n",
    "            \n",
    "            dist_name = spm_d[spm_p][0]\n",
    "            floc = spm_d[spm_p][1]\n",
    "            if not dist_name is None:\n",
    "                dist = getattr(scipy.stats, dist_name)\n",
    "                if dist_name=='gamma':\n",
    "                    #p = np.clip(p, floc+1e-10, None)\n",
    "                    #p = p[(p>floc*1.05) & p>floc*1.05)]\n",
    "                    p = p[p>floc*1.1]\n",
    "                fscale = None if dist_name in ['norm', 'gamma'] else 1\n",
    "                dist_params = dist.fit(p, floc=floc, fscale=fscale)\n",
    "                x = np.linspace(np.min(p), np.max(p), 100)\n",
    "                #print(dist_params)\n",
    "                print(f'\\t\\t{xaa(spm_p, dist_name, dist_params)} # {c}-{b}')\n",
    "                \n",
    "                if plot:\n",
    "                    fig, ax = plot_hist_bins(data_dict, uses_density=1, title=spm_p)\n",
    "                    ax.plot(x, dist.pdf(x, *dist_params), c=b)\n",
    "                    plt.show()"
   ]
  },
  {
   "cell_type": "code",
   "execution_count": 4,
   "metadata": {},
   "outputs": [
    {
     "name": "stdout",
     "output_type": "stream",
     "text": [
      "The autoreload extension is already loaded. To reload it, use:\n",
      "  %reload_ext autoreload\n",
      "linear (1549): .45±.09\n",
      "bspline (1549): .50±.15\n",
      "uniformprior (1541): .91±.30\n",
      "curvefit (1549): 7.46±3.68\n",
      "mcmc (854): 301.56±118.75\n"
     ]
    }
   ],
   "source": [
    "%load_ext autoreload\n",
    "%autoreload 2\n",
    "from synthsne import curve_statistics as c\n",
    "\n",
    "for method in methods:\n",
    "    xe = cs.get_perf_times(rootdir, method)\n",
    "    print(f'{method} ({len(xe)}): {xe}')"
   ]
  },
  {
   "cell_type": "code",
   "execution_count": 5,
   "metadata": {},
   "outputs": [
    {
     "name": "stdout",
     "output_type": "stream",
     "text": [
      "The autoreload extension is already loaded. To reload it, use:\n",
      "  %reload_ext autoreload\n",
      "mb-rank[top10]:\n",
      "(1) - ZTF19acckggd: 47,902.5694\n",
      "(2) - ZTF19abnagzk: 6,206.0634\n",
      "(3) - ZTF20aazdxlx: 882.3671\n",
      "(4) - ZTF19acuyvtl: 653.3272\n",
      "(5) - ZTF20aabqisb: 573.2080\n",
      "(6) - ZTF20aamuqwn: 569.1171\n",
      "(7) - ZTF18aasdted: 367.6000\n",
      "(8) - ZTF19abcunya: 340.0557\n",
      "(9) - ZTF18acqyvag: 317.5996\n",
      "(10) - ZTF20aaxvzja: 261.4015\n",
      "g-rank[top10]:\n",
      "(1) - ZTF19acckggd: 95,754.8399\n",
      "(2) - ZTF19abnagzk: 12,361.7331\n",
      "(3) - ZTF20aazdxlx: 1,711.7904\n",
      "(4) - ZTF19acuyvtl: 1,257.2938\n",
      "(5) - ZTF20aabqisb: 1,091.3124\n",
      "(6) - ZTF19abcunya: 633.7771\n",
      "(7) - ZTF20aamuqwn: 569.1171\n",
      "(8) - ZTF20aaxvzja: 472.7951\n",
      "(9) - ZTF20aasokxu: 385.3987\n",
      "(10) - ZTF18aasdted: 382.4001\n",
      "r-rank[top10]:\n",
      "(1) - ZTF18acqyvag: 588.7087\n",
      "(2) - ZTF18aasdted: 352.7999\n",
      "(3) - ZTF18abuqugw: 190.5685\n",
      "(4) - ZTF19acihlft: 171.8716\n",
      "(5) - ZTF18aaqkdwf: 171.4280\n",
      "(6) - ZTF19acgfowd: 168.7509\n",
      "(7) - ZTF19aaxnlps: 168.4566\n",
      "(8) - ZTF19acrwzqs: 154.3815\n",
      "(9) - ZTF19aawgopm: 154.0262\n",
      "(10) - ZTF18abmxahs: 152.6182\n"
     ]
    }
   ],
   "source": [
    "%load_ext autoreload\n",
    "%autoreload 2\n",
    "from synthsne import curve_statistics as cs\n",
    "\n",
    "method = 'linear'\n",
    "rank, rank_bdict, band_names = cs.get_ranks(rootdir, method)\n",
    "print(rank)\n",
    "for b in band_names:\n",
    "    print(rank_bdict[b])"
   ]
  },
  {
   "cell_type": "code",
   "execution_count": 21,
   "metadata": {},
   "outputs": [
    {
     "name": "stdout",
     "output_type": "stream",
     "text": [
      "The autoreload extension is already loaded. To reload it, use:\n",
      "  %reload_ext autoreload\n",
      "\u001b[31m%%%%%%%%%%%%%%%%%%%%%%%%%%%%%%%%%%%%%%%%%%%%%%%%%%%%%%%%%%%%%%%%%%%%%%%%%%%%%%%%%%%%%%%%%%%%%%%%%%%%\n",
      "\\def\\srule{\\rule{0pt}{2ex}\\rule[-1ex]{0pt}{0ex}}\n",
      "\\begin{table*}\n",
      "\\centering\n",
      "\\caption{$x_j$}\n",
      "\\label{???}\\vspace{.1cm}\n",
      "\\begin{tabular}{l|c|ccc|ccc|ccc}\n",
      "\\hline\n",
      "method & trace-time[segs] & mb-fit-log-error & mb-fits-n & mb-fits[\\%] & g-fit-log-error & g-fits-n & g-fits[\\%] & r-fit-log-error & r-fits-n & r-fits[\\%] \\srule\\\\\\hline\\hline\n",
      "linear & \\textbf{.45$\\pm$.09} & 3.89$\\pm$.45 & 185,639 & 93.51 & 3.88$\\pm$.49 & 88,687 & 89.34 & 3.90$\\pm$.40 & \\textbf{96,952} & \\textbf{97.67}  \\srule\\\\\n",
      "bspline & .50$\\pm$.15 & 5.81$\\pm$2.55 & 185,621 & 93.50 & 5.88$\\pm$2.82 & 88,707 & 89.36 & 5.75$\\pm$2.26 & 96,914 & 97.63  \\srule\\\\\n",
      "uniformprior & .91$\\pm$.31 & 7.86$\\pm$1.10 & 181,376 & 91.36 & 7.99$\\pm$1.13 & 85,120 & 85.75 & 7.74$\\pm$1.05 & 96,256 & 96.97  \\srule\\\\\n",
      "curvefit & 7.45$\\pm$3.69 & 4.11$\\pm$.89 & \\textbf{185,644} & \\textbf{93.51} & 3.96$\\pm$.88 & \\textbf{88,715} & \\textbf{89.37} & 4.25$\\pm$.88 & 96,929 & 97.65  \\srule\\\\\n",
      "mcmc & 272.56$\\pm$118.42 & \\textbf{3.35$\\pm$1.08} & 181,376 & 91.36 & \\textbf{3.15$\\pm$1.09} & 85,120 & 85.75 & \\textbf{3.52$\\pm$1.05} & 96,256 & 96.97  \\srule\\\\\n",
      "\\hline\n",
      "\\end{tabular}\n",
      "\\end{table*}\n",
      "%%%%%%%%%%%%%%%%%%%%%%%%%%%%%%%%%%%%%%%%%%%%%%%%%%%%%%%%%%%%%%%%%%%%%%%%%%%%%%%%%%%%%%%%%%%%%%%%%%%%\n",
      "\u001b[0m\n"
     ]
    },
    {
     "data": {
      "text/html": [
       "<div>\n",
       "<style scoped>\n",
       "    .dataframe tbody tr th:only-of-type {\n",
       "        vertical-align: middle;\n",
       "    }\n",
       "\n",
       "    .dataframe tbody tr th {\n",
       "        vertical-align: top;\n",
       "    }\n",
       "\n",
       "    .dataframe thead th {\n",
       "        text-align: right;\n",
       "    }\n",
       "</style>\n",
       "<table border=\"1\" class=\"dataframe\">\n",
       "  <thead>\n",
       "    <tr style=\"text-align: right;\">\n",
       "      <th></th>\n",
       "      <th>trace-time[segs]</th>\n",
       "      <th>mb-fit-log-error</th>\n",
       "      <th>mb-fits-n</th>\n",
       "      <th>mb-fits[%]</th>\n",
       "      <th>g-fit-log-error</th>\n",
       "      <th>g-fits-n</th>\n",
       "      <th>g-fits[%]</th>\n",
       "      <th>r-fit-log-error</th>\n",
       "      <th>r-fits-n</th>\n",
       "      <th>r-fits[%]</th>\n",
       "    </tr>\n",
       "  </thead>\n",
       "  <tbody>\n",
       "    <tr>\n",
       "      <th>method=linear</th>\n",
       "      <td>.45±.09</td>\n",
       "      <td>3.89±.45</td>\n",
       "      <td>185639</td>\n",
       "      <td>93.507717</td>\n",
       "      <td>3.88±.49</td>\n",
       "      <td>88687</td>\n",
       "      <td>89.344576</td>\n",
       "      <td>3.90±.40</td>\n",
       "      <td>96952</td>\n",
       "      <td>97.670858</td>\n",
       "    </tr>\n",
       "    <tr>\n",
       "      <th>method=bspline</th>\n",
       "      <td>.50±.15</td>\n",
       "      <td>5.81±2.55</td>\n",
       "      <td>185621</td>\n",
       "      <td>93.498650</td>\n",
       "      <td>5.88±2.82</td>\n",
       "      <td>88707</td>\n",
       "      <td>89.364724</td>\n",
       "      <td>5.75±2.26</td>\n",
       "      <td>96914</td>\n",
       "      <td>97.632576</td>\n",
       "    </tr>\n",
       "    <tr>\n",
       "      <th>method=uniformprior</th>\n",
       "      <td>.91±.31</td>\n",
       "      <td>7.86±1.10</td>\n",
       "      <td>181376</td>\n",
       "      <td>91.360413</td>\n",
       "      <td>7.99±1.13</td>\n",
       "      <td>85120</td>\n",
       "      <td>85.751128</td>\n",
       "      <td>7.74±1.05</td>\n",
       "      <td>96256</td>\n",
       "      <td>96.969697</td>\n",
       "    </tr>\n",
       "    <tr>\n",
       "      <th>method=curvefit</th>\n",
       "      <td>7.45±3.69</td>\n",
       "      <td>4.11±.89</td>\n",
       "      <td>185644</td>\n",
       "      <td>93.510235</td>\n",
       "      <td>3.96±.88</td>\n",
       "      <td>88715</td>\n",
       "      <td>89.372784</td>\n",
       "      <td>4.25±.88</td>\n",
       "      <td>96929</td>\n",
       "      <td>97.647687</td>\n",
       "    </tr>\n",
       "    <tr>\n",
       "      <th>method=mcmc</th>\n",
       "      <td>272.56±118.42</td>\n",
       "      <td>3.35±1.08</td>\n",
       "      <td>181376</td>\n",
       "      <td>91.360413</td>\n",
       "      <td>3.15±1.09</td>\n",
       "      <td>85120</td>\n",
       "      <td>85.751128</td>\n",
       "      <td>3.52±1.05</td>\n",
       "      <td>96256</td>\n",
       "      <td>96.969697</td>\n",
       "    </tr>\n",
       "  </tbody>\n",
       "</table>\n",
       "</div>"
      ],
      "text/plain": [
       "                    trace-time[segs] mb-fit-log-error  mb-fits-n  mb-fits[%]  \\\n",
       "method=linear                .45±.09         3.89±.45     185639   93.507717   \n",
       "method=bspline               .50±.15        5.81±2.55     185621   93.498650   \n",
       "method=uniformprior          .91±.31        7.86±1.10     181376   91.360413   \n",
       "method=curvefit            7.45±3.69         4.11±.89     185644   93.510235   \n",
       "method=mcmc            272.56±118.42        3.35±1.08     181376   91.360413   \n",
       "\n",
       "                    g-fit-log-error  g-fits-n  g-fits[%] r-fit-log-error  \\\n",
       "method=linear              3.88±.49     88687  89.344576        3.90±.40   \n",
       "method=bspline            5.88±2.82     88707  89.364724       5.75±2.26   \n",
       "method=uniformprior       7.99±1.13     85120  85.751128       7.74±1.05   \n",
       "method=curvefit            3.96±.88     88715  89.372784        4.25±.88   \n",
       "method=mcmc               3.15±1.09     85120  85.751128       3.52±1.05   \n",
       "\n",
       "                     r-fits-n  r-fits[%]  \n",
       "method=linear           96952  97.670858  \n",
       "method=bspline          96914  97.632576  \n",
       "method=uniformprior     96256  96.969697  \n",
       "method=curvefit         96929  97.647687  \n",
       "method=mcmc             96256  96.969697  "
      ]
     },
     "execution_count": 21,
     "metadata": {},
     "output_type": "execute_result"
    }
   ],
   "source": [
    "%load_ext autoreload\n",
    "%autoreload 2\n",
    "from synthsne import curve_statistics as cs\n",
    "from flamingchoripan.latex.latex_tables import LatexTable\n",
    "\n",
    "info_df = cs.get_info_dict(rootdir, methods)\n",
    "\n",
    "latex_kwargs = {\n",
    "    'caption':'$x_j$',\n",
    "    'label':'???',\n",
    "    'bold_criteriums':{c:'max' if ('%' in c or 'fits-n' in c) else 'min' for c in info_df.columns},\n",
    "    'custom_tabular_align':'l|c|ccc|ccc|ccc',\n",
    "}\n",
    "latex_table = LatexTable(info_df, **latex_kwargs)\n",
    "print(latex_table)\n",
    "info_df"
   ]
  }
 ],
 "metadata": {
  "kernelspec": {
   "display_name": "Python 3",
   "language": "python",
   "name": "python3"
  },
  "language_info": {
   "codemirror_mode": {
    "name": "ipython",
    "version": 3
   },
   "file_extension": ".py",
   "mimetype": "text/x-python",
   "name": "python",
   "nbconvert_exporter": "python",
   "pygments_lexer": "ipython3",
   "version": "3.7.9"
  }
 },
 "nbformat": 4,
 "nbformat_minor": 4
}
