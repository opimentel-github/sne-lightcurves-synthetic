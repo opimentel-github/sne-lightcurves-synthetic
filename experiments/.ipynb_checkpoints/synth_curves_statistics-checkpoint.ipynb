{
 "cells": [
  {
   "cell_type": "code",
   "execution_count": 144,
   "metadata": {},
   "outputs": [],
   "source": [
    "import sys\n",
    "sys.path.append('../') # or just install the module\n",
    "sys.path.append('../../flaming-choripan') # or just install the module\n",
    "sys.path.append('../../astro-lightcurves-handler') # or just install the module"
   ]
  },
  {
   "cell_type": "code",
   "execution_count": 145,
   "metadata": {},
   "outputs": [
    {
     "name": "stdout",
     "output_type": "stream",
     "text": [
      "The autoreload extension is already loaded. To reload it, use:\n",
      "  %reload_ext autoreload\n"
     ]
    },
    {
     "data": {
      "text/plain": [
       "[]"
      ]
     },
     "execution_count": 145,
     "metadata": {},
     "output_type": "execute_result"
    }
   ],
   "source": [
    "%load_ext autoreload\n",
    "%autoreload 2\n",
    "from synthsne import curve_statistics as cs\n",
    "\n",
    "method = 'mcmc'\n",
    "rootdir = '../save/alerceZTFv7.1'\n",
    "cs.get_all_incorrects_fittings(rootdir, method)"
   ]
  },
  {
   "cell_type": "code",
   "execution_count": 146,
   "metadata": {},
   "outputs": [
    {
     "name": "stdout",
     "output_type": "stream",
     "text": [
      "The autoreload extension is already loaded. To reload it, use:\n",
      "  %reload_ext autoreload\n",
      "mb-rank[top10]:\n",
      "(1) - ZTF18aasdted: 2542.0933012133173\n",
      "(2) - ZTF19abclykm: 1573.4311162509025\n",
      "(3) - ZTF19adcecwu: 799.1488034335537\n",
      "(4) - ZTF18acvwbos: 509.7601000715314\n",
      "(5) - ZTF20aautzif: 403.0473756433115\n",
      "(6) - ZTF20aatznro: 377.1176563798573\n",
      "(7) - ZTF19aavhxby: 314.021610652458\n",
      "(8) - ZTF19acapeun: 311.56223274394085\n",
      "(9) - ZTF18aaxcntm: 303.308022328719\n",
      "(10) - ZTF20aawmlfq: 302.49241184490256\n",
      "g-rank[top10]:\n",
      "(1) - ZTF18aasdted: 4026.858871785492\n",
      "(2) - ZTF19abclykm: 1022.6852167506433\n",
      "(3) - ZTF19adcecwu: 841.3753725532438\n",
      "(4) - ZTF18acvwbos: 774.1182936180287\n",
      "(5) - ZTF20aautzif: 634.634450192937\n",
      "(6) - ZTF20aawmlfq: 409.5653035108554\n",
      "(7) - ZTF19abqhikf: 326.20878870418915\n",
      "(8) - ZTF19acapeun: 300.77442392874923\n",
      "(9) - ZTF20aattsxa: 295.17989439000587\n",
      "(10) - ZTF19aavhxby: 285.76930895294333\n",
      "r-rank[top10]:\n",
      "(1) - ZTF19abclykm: 2124.177015751162\n",
      "(2) - ZTF18aasdted: 1057.3277306411424\n",
      "(3) - ZTF19adcecwu: 756.9222343138636\n",
      "(4) - ZTF20aatznro: 664.5516506323725\n",
      "(5) - ZTF18aaxcntm: 408.4233524980297\n",
      "(6) - ZTF19aafljiq: 366.5505946253321\n",
      "(7) - ZTF18abywcnl: 358.46896363119356\n",
      "(8) - ZTF19aavhxby: 342.2739123519726\n",
      "(9) - ZTF19acapeun: 322.35004155913253\n",
      "(10) - ZTF19acaxcwg: 274.22137044124037\n"
     ]
    }
   ],
   "source": [
    "%load_ext autoreload\n",
    "%autoreload 2\n",
    "from synthsne import curve_statistics as cs\n",
    "\n",
    "method = 'mcmc'\n",
    "rank, rank_bdict, band_names = cs.get_ranks(rootdir, method)\n",
    "print(rank)\n",
    "for b in band_names:\n",
    "    print(rank_bdict[b])"
   ]
  },
  {
   "cell_type": "code",
   "execution_count": 173,
   "metadata": {},
   "outputs": [
    {
     "name": "stdout",
     "output_type": "stream",
     "text": [
      "The autoreload extension is already loaded. To reload it, use:\n",
      "  %reload_ext autoreload\n"
     ]
    },
    {
     "data": {
      "text/html": [
       "<div>\n",
       "<style scoped>\n",
       "    .dataframe tbody tr th:only-of-type {\n",
       "        vertical-align: middle;\n",
       "    }\n",
       "\n",
       "    .dataframe tbody tr th {\n",
       "        vertical-align: top;\n",
       "    }\n",
       "\n",
       "    .dataframe thead th {\n",
       "        text-align: right;\n",
       "    }\n",
       "</style>\n",
       "<table border=\"1\" class=\"dataframe\">\n",
       "  <thead>\n",
       "    <tr style=\"text-align: right;\">\n",
       "      <th></th>\n",
       "      <th>mb-fit-error</th>\n",
       "      <th>mb-ok-fits-n</th>\n",
       "      <th>mb-n</th>\n",
       "      <th>mb-ok-fits-%</th>\n",
       "      <th>g-fit-error</th>\n",
       "      <th>g-ok-fits-n</th>\n",
       "      <th>g-n</th>\n",
       "      <th>g-ok-fits-%</th>\n",
       "      <th>r-fit-error</th>\n",
       "      <th>r-ok-fits-n</th>\n",
       "      <th>r-n</th>\n",
       "      <th>r-ok-fits-%</th>\n",
       "    </tr>\n",
       "  </thead>\n",
       "  <tbody>\n",
       "    <tr>\n",
       "      <th>method-curvefit</th>\n",
       "      <td>83.70±414.17</td>\n",
       "      <td>203544</td>\n",
       "      <td>208896</td>\n",
       "      <td>97.437960</td>\n",
       "      <td>61.93±231.92</td>\n",
       "      <td>100407</td>\n",
       "      <td>104448</td>\n",
       "      <td>96.131089</td>\n",
       "      <td>104.89±534.09</td>\n",
       "      <td>103137</td>\n",
       "      <td>104448</td>\n",
       "      <td>98.744830</td>\n",
       "    </tr>\n",
       "    <tr>\n",
       "      <th>method-mcmc</th>\n",
       "      <td>49.69±166.85</td>\n",
       "      <td>102758</td>\n",
       "      <td>104960</td>\n",
       "      <td>97.902058</td>\n",
       "      <td>47.86±209.99</td>\n",
       "      <td>50805</td>\n",
       "      <td>52480</td>\n",
       "      <td>96.808308</td>\n",
       "      <td>51.48±109.23</td>\n",
       "      <td>51953</td>\n",
       "      <td>52480</td>\n",
       "      <td>98.995808</td>\n",
       "    </tr>\n",
       "  </tbody>\n",
       "</table>\n",
       "</div>"
      ],
      "text/plain": [
       "                 mb-fit-error  mb-ok-fits-n    mb-n  mb-ok-fits-%  \\\n",
       "method-curvefit  83.70±414.17        203544  208896     97.437960   \n",
       "method-mcmc      49.69±166.85        102758  104960     97.902058   \n",
       "\n",
       "                  g-fit-error  g-ok-fits-n     g-n  g-ok-fits-%  \\\n",
       "method-curvefit  61.93±231.92       100407  104448    96.131089   \n",
       "method-mcmc      47.86±209.99        50805   52480    96.808308   \n",
       "\n",
       "                   r-fit-error  r-ok-fits-n     r-n  r-ok-fits-%  \n",
       "method-curvefit  104.89±534.09       103137  104448    98.744830  \n",
       "method-mcmc       51.48±109.23        51953   52480    98.995808  "
      ]
     },
     "execution_count": 173,
     "metadata": {},
     "output_type": "execute_result"
    }
   ],
   "source": [
    "%load_ext autoreload\n",
    "%autoreload 2\n",
    "from synthsne import curve_statistics as cs\n",
    "\n",
    "methods = ['curvefit', 'mcmc', 'uniformprior']\n",
    "methods = ['curvefit', 'mcmc']\n",
    "info_df = cs.get_info_dict(rootdir, methods)\n",
    "info_df"
   ]
  },
  {
   "cell_type": "code",
   "execution_count": 175,
   "metadata": {},
   "outputs": [
    {
     "name": "stdout",
     "output_type": "stream",
     "text": [
      "The autoreload extension is already loaded. To reload it, use:\n",
      "  %reload_ext autoreload\n"
     ]
    },
    {
     "ename": "TypeError",
     "evalue": "'module' object is not callable",
     "output_type": "error",
     "traceback": [
      "\u001b[0;31m---------------------------------------------------------------------------\u001b[0m",
      "\u001b[0;31mTypeError\u001b[0m                                 Traceback (most recent call last)",
      "\u001b[0;32m<ipython-input-175-83fdefa3ebfb>\u001b[0m in \u001b[0;36m<module>\u001b[0;34m\u001b[0m\n\u001b[1;32m      3\u001b[0m \u001b[0;32mfrom\u001b[0m \u001b[0mflamingchoripan\u001b[0m \u001b[0;32mimport\u001b[0m \u001b[0mfiles\u001b[0m \u001b[0;32mas\u001b[0m \u001b[0maa\u001b[0m\u001b[0;34m\u001b[0m\u001b[0;34m\u001b[0m\u001b[0m\n\u001b[1;32m      4\u001b[0m \u001b[0;34m\u001b[0m\u001b[0m\n\u001b[0;32m----> 5\u001b[0;31m \u001b[0maa\u001b[0m\u001b[0;34m(\u001b[0m\u001b[0;34m)\u001b[0m\u001b[0;34m\u001b[0m\u001b[0;34m\u001b[0m\u001b[0m\n\u001b[0m",
      "\u001b[0;31mTypeError\u001b[0m: 'module' object is not callable"
     ]
    }
   ],
   "source": [
    "%load_ext autoreload\n",
    "%autoreload 2\n",
    "from flamingchoripan import files as aa\n",
    "\n",
    "aa()"
   ]
  },
  {
   "cell_type": "code",
   "execution_count": 142,
   "metadata": {},
   "outputs": [
    {
     "name": "stdout",
     "output_type": "stream",
     "text": [
      "The autoreload extension is already loaded. To reload it, use:\n",
      "  %reload_ext autoreload\n",
      "\u001b[31m%%%%%%%%%%%%%%%%%%%%%%%%%%%%%%%%%%%%%%%%%%%%%%%%%%%%%%%%%%%%%%%%%%%%%%%%%%%%%%%%%%%%%%%%%%%%%%%%%%%%\n",
      "\\begin{table*}\n",
      "\\centering\n",
      "\\caption{???}\n",
      "\\label{???}\\vspace{.1cm}\n",
      "\\begin{tabular}{l|cccccccccccc}\n",
      "\\hline\\hline\n",
      "method & mb-fit-error & mb-ok-fits-n & mb-n & mb-ok-fits-\\% & g-fit-error & g-ok-fits-n & g-n & g-ok-fits-\\% & r-fit-error & r-ok-fits-n & r-n & r-ok-fits-\\% \\rule{0pt}{2ex}\\rule[-1ex]{0pt}{0ex}\\\\\\hline\n",
      "curvefit & 82.91$\\pm$426.75 & 186,988 & 192,128 & 97.32 & 60.58$\\pm$237.46 & 92,232 & 96,064 & 96.01 & 104.64$\\pm$550.94 & 94,756 & 96,064 & 98.64 \\rule{0pt}{2ex}\\rule[-1ex]{0pt}{0ex}\\\\\n",
      "mcmc & 59.03$\\pm$203.08 & 41,562 & 42,368 & 98.10 & 56.09$\\pm$245.20 & 20,703 & 21,184 & 97.73 & 61.95$\\pm$149.94 & 20,859 & 21,184 & 98.47 \\rule{0pt}{2ex}\\rule[-1ex]{0pt}{0ex}\\\\\n",
      "\\hline\n",
      "\\end{tabular}\n",
      "\\end{table*}\n",
      "%%%%%%%%%%%%%%%%%%%%%%%%%%%%%%%%%%%%%%%%%%%%%%%%%%%%%%%%%%%%%%%%%%%%%%%%%%%%%%%%%%%%%%%%%%%%%%%%%%%%\n",
      "\u001b[0m\n"
     ]
    }
   ],
   "source": [
    "%load_ext autoreload\n",
    "%autoreload 2\n",
    "from flamingchoripan.latex.latex_tables import LatexTable\n",
    "\n",
    "latex_table = LatexTable(info_df)\n",
    "print(latex_table)"
   ]
  }
 ],
 "metadata": {
  "kernelspec": {
   "display_name": "Python 3",
   "language": "python",
   "name": "python3"
  },
  "language_info": {
   "codemirror_mode": {
    "name": "ipython",
    "version": 3
   },
   "file_extension": ".py",
   "mimetype": "text/x-python",
   "name": "python",
   "nbconvert_exporter": "python",
   "pygments_lexer": "ipython3",
   "version": "3.7.9"
  }
 },
 "nbformat": 4,
 "nbformat_minor": 4
}
