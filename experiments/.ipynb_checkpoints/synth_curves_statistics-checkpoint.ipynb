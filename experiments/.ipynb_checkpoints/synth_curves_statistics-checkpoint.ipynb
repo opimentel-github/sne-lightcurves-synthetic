{
 "cells": [
  {
   "cell_type": "code",
   "execution_count": 1,
   "metadata": {},
   "outputs": [],
   "source": [
    "import sys\n",
    "sys.path.append('../') # or just install the module\n",
    "sys.path.append('../../flaming-choripan') # or just install the module\n",
    "sys.path.append('../../astro-lightcurves-handler') # or just install the module"
   ]
  },
  {
   "cell_type": "code",
   "execution_count": 3,
   "metadata": {},
   "outputs": [
    {
     "name": "stdout",
     "output_type": "stream",
     "text": [
      "────────────────────────────────────────────────────────────────────────────────────────────────────\n",
      "found filedirs: (../save)\n",
      "(0) - ../save/alerceZTFv7.1/survey-alerceZTFv7.1_bands-gr_mode-onlySNe_kfid-0/samplers.s - 7.808[mbs]\n",
      "────────────────────────────────────────────────────────────────────────────────────────────────────\n",
      "filedirs after searching with filters: (../save)\n",
      "(0) - ../save/alerceZTFv7.1/survey-alerceZTFv7.1_bands-gr_mode-onlySNe_kfid-0/samplers.s - 7.808[mbs]\n",
      "────────────────────────────────────────────────────────────────────────────────────────────────────\n"
     ]
    }
   ],
   "source": [
    "from flamingchoripan.files import search_for_filedirs\n",
    "from lchandler import C_\n",
    "\n",
    "root_folder = '../save'\n",
    "filedirs = search_for_filedirs(root_folder, fext='s')"
   ]
  },
  {
   "cell_type": "code",
   "execution_count": 4,
   "metadata": {},
   "outputs": [
    {
     "name": "stderr",
     "output_type": "stream",
     "text": [
      "WARNING (theano.tensor.blas): Using NumPy C-API based implementation for BLAS functions.\n"
     ]
    },
    {
     "data": {
      "text/plain": [
       "['ZTF18aalxmaq', 'ZTF19aavyafo', 'ZTF18aaoxryq']"
      ]
     },
     "execution_count": 4,
     "metadata": {},
     "output_type": "execute_result"
    }
   ],
   "source": [
    "%load_ext autoreload\n",
    "%autoreload 2\n",
    "from synthsne import curve_statistics as cs\n",
    "\n",
    "rootdir = '../save/alerceZTFv7.1/survey-alerceZTFv7.1_bands-gr_mode-onlySNe_kfid-0'\n",
    "method = 'curvefit'\n",
    "cs.get_all_incorrects_fittings(rootdir, method)"
   ]
  },
  {
   "cell_type": "code",
   "execution_count": 6,
   "metadata": {},
   "outputs": [
    {
     "data": {
      "image/png": "[encoded data removed]",
      "text/plain": [
       "<Figure size 432x288 with 1 Axes>"
      ]
     },
     "metadata": {
      "needs_background": "light"
     },
     "output_type": "display_data"
    }
   ],
   "source": [
    "import matplotlib.pyplot as plt\n",
    "\n",
    "fig, ax = plt.subplots(1,1)\n",
    "ax.plot([1],[1], '|')\n",
    "\n",
    "plt.show()"
   ]
  },
  {
   "cell_type": "code",
   "execution_count": null,
   "metadata": {},
   "outputs": [],
   "source": [
    "%load_ext autoreload\n",
    "%autoreload 2\n",
    "from synthsne import curve_statistics as cs\n",
    "\n",
    "method = 'mcmc'\n",
    "rank, rank_bdict, band_names = cs.get_ranks(rootdir, method)\n",
    "print(rank)\n",
    "for b in band_names:\n",
    "    print(rank_bdict[b])"
   ]
  },
  {
   "cell_type": "code",
   "execution_count": null,
   "metadata": {},
   "outputs": [],
   "source": [
    "%load_ext autoreload\n",
    "%autoreload 2\n",
    "from synthsne import curve_statistics as cs\n",
    "\n",
    "methods = ['curvefit', 'mcmc', 'uniformprior']\n",
    "methods = ['curvefit', 'mcmc']\n",
    "info_df = cs.get_info_dict(rootdir, methods)\n",
    "info_df"
   ]
  },
  {
   "cell_type": "code",
   "execution_count": null,
   "metadata": {},
   "outputs": [],
   "source": [
    "%load_ext autoreload\n",
    "%autoreload 2\n",
    "from flamingchoripan.latex.latex_tables import LatexTable\n",
    "\n",
    "latex_table = LatexTable(info_df)\n",
    "print(latex_table)"
   ]
  }
 ],
 "metadata": {
  "kernelspec": {
   "display_name": "Python 3",
   "language": "python",
   "name": "python3"
  },
  "language_info": {
   "codemirror_mode": {
    "name": "ipython",
    "version": 3
   },
   "file_extension": ".py",
   "mimetype": "text/x-python",
   "name": "python",
   "nbconvert_exporter": "python",
   "pygments_lexer": "ipython3",
   "version": "3.7.9"
  }
 },
 "nbformat": 4,
 "nbformat_minor": 4
}
