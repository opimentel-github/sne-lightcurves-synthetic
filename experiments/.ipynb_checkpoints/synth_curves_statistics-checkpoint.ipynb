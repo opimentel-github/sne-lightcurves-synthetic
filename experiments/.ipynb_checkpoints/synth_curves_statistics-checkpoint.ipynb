{
 "cells": [
  {
   "cell_type": "code",
   "execution_count": 1,
   "metadata": {},
   "outputs": [],
   "source": [
    "import sys\n",
    "sys.path.append('../') # or just install the module\n",
    "sys.path.append('../../flaming-choripan') # or just install the module\n",
    "sys.path.append('../../astro-lightcurves-handler') # or just install the module"
   ]
  },
  {
   "cell_type": "code",
   "execution_count": 2,
   "metadata": {},
   "outputs": [
    {
     "name": "stdout",
     "output_type": "stream",
     "text": [
      "────────────────────────────────────────────────────────────────────────────────────────────────────\n",
      "found filedirs: (../save)\n",
      "(0) - ../save/alerceZTFv7.1/survey-alerceZTFv7.1_bands-gr_mode-onlySNe_kfid-0/samplers.smplr - 7.858[mbs]\n",
      "────────────────────────────────────────────────────────────────────────────────────────────────────\n",
      "filedirs after searching with filters: (../save)\n",
      "(0) - ../save/alerceZTFv7.1/survey-alerceZTFv7.1_bands-gr_mode-onlySNe_kfid-0/samplers.smplr - 7.858[mbs]\n",
      "────────────────────────────────────────────────────────────────────────────────────────────────────\n"
     ]
    }
   ],
   "source": [
    "from flamingchoripan.files import search_for_filedirs\n",
    "from synthsne import C_\n",
    "\n",
    "root_folder = '../save'\n",
    "filedirs = search_for_filedirs(root_folder, fext=C_.EXT_SAMPLER)"
   ]
  },
  {
   "cell_type": "code",
   "execution_count": 45,
   "metadata": {},
   "outputs": [],
   "source": [
    "methods = ['linear', 'bspline', 'uniformprior', 'curvefit', 'mcmc']\n",
    "#methods = ['curvefit', 'mcmc']\n",
    "#methods = ['linear', 'bspline']"
   ]
  },
  {
   "cell_type": "code",
   "execution_count": 4,
   "metadata": {},
   "outputs": [
    {
     "name": "stderr",
     "output_type": "stream",
     "text": [
      "WARNING (theano.tensor.blas): Using NumPy C-API based implementation for BLAS functions.\n"
     ]
    },
    {
     "data": {
      "text/plain": [
       "['ZTF18accbppp',\n",
       " 'ZTF20abegopd',\n",
       " 'ZTF19achetvw',\n",
       " 'ZTF19aawgopm',\n",
       " 'ZTF18acbudzh',\n",
       " 'ZTF18abvrzqj',\n",
       " 'ZTF19acgfowd',\n",
       " 'ZTF18abfdupq',\n",
       " 'ZTF18aaoxryq',\n",
       " 'ZTF19abqmpti',\n",
       " 'ZTF20aamuqwn',\n",
       " 'ZTF18abwwuug',\n",
       " 'ZTF20aaurjzv']"
      ]
     },
     "execution_count": 4,
     "metadata": {},
     "output_type": "execute_result"
    }
   ],
   "source": [
    "%load_ext autoreload\n",
    "%autoreload 2\n",
    "from synthsne import curve_statistics as cs\n",
    "\n",
    "rootdir = '../save/alerceZTFv7.1/survey-alerceZTFv7.1_bands-gr_mode-onlySNe_kfid-0'\n",
    "method = 'linear' # linear, bspline\n",
    "cs.get_all_incorrects_fittings(rootdir, method)"
   ]
  },
  {
   "cell_type": "code",
   "execution_count": 41,
   "metadata": {},
   "outputs": [
    {
     "name": "stdout",
     "output_type": "stream",
     "text": [
      "The autoreload extension is already loaded. To reload it, use:\n",
      "  %reload_ext autoreload\n",
      "linear: .56±.22\n",
      "bspline: .54±.23\n",
      "uniformprior: 1.66±.36\n",
      "curvefit: 13.30±4.78\n",
      "mcmc: 260.48±52.18\n"
     ]
    }
   ],
   "source": [
    "%load_ext autoreload\n",
    "%autoreload 2\n",
    "from synthsne import curve_statistics as cs\n",
    "\n",
    "rootdir = '../save/alerceZTFv7.1/survey-alerceZTFv7.1_bands-gr_mode-onlySNe_kfid-0'\n",
    "for method in methods:\n",
    "    xe = cs.get_perf_times(rootdir, method)\n",
    "    print(f'{method}: {xe}')"
   ]
  },
  {
   "cell_type": "code",
   "execution_count": 42,
   "metadata": {},
   "outputs": [
    {
     "name": "stdout",
     "output_type": "stream",
     "text": [
      "The autoreload extension is already loaded. To reload it, use:\n",
      "  %reload_ext autoreload\n",
      "mb-rank[top10]:\n",
      "(1) - ZTF18aaslhxt: 238.1672\n",
      "(2) - ZTF18aaxkqgy: 181.2412\n",
      "(3) - ZTF18aaxdrjn: 172.7882\n",
      "(4) - ZTF18abukavn: 160.8303\n",
      "(5) - ZTF18accnbgw: 152.9053\n",
      "(6) - ZTF20aatzhhl: 146.8937\n",
      "(7) - ZTF19acihlft: 140.8839\n",
      "(8) - ZTF19aaknvuh: 133.0348\n",
      "(9) - ZTF20abawgdl: 131.2031\n",
      "(10) - ZTF19aaydpiq: 120.3180\n",
      "g-rank[top10]:\n",
      "(1) - ZTF18aaslhxt: 329.9000\n",
      "(2) - ZTF18aaxkqgy: 287.8503\n",
      "(3) - ZTF18accnbgw: 244.0280\n",
      "(4) - ZTF19aaknvuh: 199.9777\n",
      "(5) - ZTF18aaxdrjn: 190.0265\n",
      "(6) - ZTF18abukavn: 189.9959\n",
      "(7) - ZTF19aanxosu: 178.4678\n",
      "(8) - ZTF20aaawbxl: 154.9424\n",
      "(9) - ZTF20abawgdl: 148.1407\n",
      "(10) - ZTF20aatzhhl: 146.8937\n",
      "r-rank[top10]:\n",
      "(1) - ZTF18abmxahs: 185.1511\n",
      "(2) - ZTF18aaxdrjn: 155.5499\n",
      "(3) - ZTF18abvptts: 152.2743\n",
      "(4) - ZTF18aaslhxt: 146.4344\n",
      "(5) - ZTF18aczrafz: 136.9509\n",
      "(6) - ZTF18aarlpzd: 133.7569\n",
      "(7) - ZTF18abukavn: 131.6647\n",
      "(8) - ZTF19aampqcq: 129.9381\n",
      "(9) - ZTF18aaxcntm: 126.8985\n",
      "(10) - ZTF18aaumeys: 125.0485\n"
     ]
    }
   ],
   "source": [
    "%load_ext autoreload\n",
    "%autoreload 2\n",
    "from synthsne import curve_statistics as cs\n",
    "\n",
    "method = 'linear'\n",
    "rank, rank_bdict, band_names = cs.get_ranks(rootdir, method)\n",
    "print(rank)\n",
    "for b in band_names:\n",
    "    print(rank_bdict[b])"
   ]
  },
  {
   "cell_type": "code",
   "execution_count": 95,
   "metadata": {},
   "outputs": [
    {
     "name": "stdout",
     "output_type": "stream",
     "text": [
      "The autoreload extension is already loaded. To reload it, use:\n",
      "  %reload_ext autoreload\n"
     ]
    },
    {
     "data": {
      "text/html": [
       "<div>\n",
       "<style scoped>\n",
       "    .dataframe tbody tr th:only-of-type {\n",
       "        vertical-align: middle;\n",
       "    }\n",
       "\n",
       "    .dataframe tbody tr th {\n",
       "        vertical-align: top;\n",
       "    }\n",
       "\n",
       "    .dataframe thead th {\n",
       "        text-align: right;\n",
       "    }\n",
       "</style>\n",
       "<table border=\"1\" class=\"dataframe\">\n",
       "  <thead>\n",
       "    <tr style=\"text-align: right;\">\n",
       "      <th></th>\n",
       "      <th>trace-time[segs]</th>\n",
       "      <th>mb-fit-log-error</th>\n",
       "      <th>mb-n</th>\n",
       "      <th>mb-ok-fits[%]</th>\n",
       "      <th>g-fit-log-error</th>\n",
       "      <th>g-ok-fits[%]</th>\n",
       "      <th>r-fit-log-error</th>\n",
       "      <th>r-ok-fits[%]</th>\n",
       "    </tr>\n",
       "  </thead>\n",
       "  <tbody>\n",
       "    <tr>\n",
       "      <th>method-linear</th>\n",
       "      <td>.55±.23</td>\n",
       "      <td>3.85±.45</td>\n",
       "      <td>182144</td>\n",
       "      <td>92.829849</td>\n",
       "      <td>3.81±.49</td>\n",
       "      <td>89.950808</td>\n",
       "      <td>3.88±.41</td>\n",
       "      <td>95.708890</td>\n",
       "    </tr>\n",
       "    <tr>\n",
       "      <th>method-bspline</th>\n",
       "      <td>.54±.23</td>\n",
       "      <td>5.21±1.99</td>\n",
       "      <td>182144</td>\n",
       "      <td>91.687346</td>\n",
       "      <td>5.21±2.21</td>\n",
       "      <td>88.155525</td>\n",
       "      <td>5.22±1.76</td>\n",
       "      <td>95.219167</td>\n",
       "    </tr>\n",
       "    <tr>\n",
       "      <th>method-uniformprior</th>\n",
       "      <td>1.49±.45</td>\n",
       "      <td>7.68±1.10</td>\n",
       "      <td>182144</td>\n",
       "      <td>91.882796</td>\n",
       "      <td>7.76±1.17</td>\n",
       "      <td>88.684777</td>\n",
       "      <td>7.60±1.03</td>\n",
       "      <td>95.080815</td>\n",
       "    </tr>\n",
       "    <tr>\n",
       "      <th>method-curvefit</th>\n",
       "      <td>12.77±6.61</td>\n",
       "      <td>3.94±.83</td>\n",
       "      <td>182144</td>\n",
       "      <td>92.835339</td>\n",
       "      <td>3.77±.79</td>\n",
       "      <td>89.953004</td>\n",
       "      <td>4.10±.83</td>\n",
       "      <td>95.717674</td>\n",
       "    </tr>\n",
       "    <tr>\n",
       "      <th>method-mcmc</th>\n",
       "      <td>304.08±99.06</td>\n",
       "      <td>3.21±.99</td>\n",
       "      <td>80384</td>\n",
       "      <td>91.242038</td>\n",
       "      <td>3.03±1.01</td>\n",
       "      <td>88.375796</td>\n",
       "      <td>3.37±.94</td>\n",
       "      <td>94.108280</td>\n",
       "    </tr>\n",
       "  </tbody>\n",
       "</table>\n",
       "</div>"
      ],
      "text/plain": [
       "                    trace-time[segs] mb-fit-log-error    mb-n  mb-ok-fits[%]  \\\n",
       "method-linear                .55±.23         3.85±.45  182144      92.829849   \n",
       "method-bspline               .54±.23        5.21±1.99  182144      91.687346   \n",
       "method-uniformprior         1.49±.45        7.68±1.10  182144      91.882796   \n",
       "method-curvefit           12.77±6.61         3.94±.83  182144      92.835339   \n",
       "method-mcmc             304.08±99.06         3.21±.99   80384      91.242038   \n",
       "\n",
       "                    g-fit-log-error  g-ok-fits[%] r-fit-log-error  \\\n",
       "method-linear              3.81±.49     89.950808        3.88±.41   \n",
       "method-bspline            5.21±2.21     88.155525       5.22±1.76   \n",
       "method-uniformprior       7.76±1.17     88.684777       7.60±1.03   \n",
       "method-curvefit            3.77±.79     89.953004        4.10±.83   \n",
       "method-mcmc               3.03±1.01     88.375796        3.37±.94   \n",
       "\n",
       "                     r-ok-fits[%]  \n",
       "method-linear           95.708890  \n",
       "method-bspline          95.219167  \n",
       "method-uniformprior     95.080815  \n",
       "method-curvefit         95.717674  \n",
       "method-mcmc             94.108280  "
      ]
     },
     "execution_count": 95,
     "metadata": {},
     "output_type": "execute_result"
    }
   ],
   "source": [
    "%load_ext autoreload\n",
    "%autoreload 2\n",
    "from synthsne import curve_statistics as cs\n",
    "\n",
    "#methods = ['linear', 'bspline', 'mcmc', 'curvefit']\n",
    "info_df = cs.get_info_dict(rootdir, methods)\n",
    "info_df"
   ]
  },
  {
   "cell_type": "code",
   "execution_count": 80,
   "metadata": {},
   "outputs": [
    {
     "name": "stdout",
     "output_type": "stream",
     "text": [
      "The autoreload extension is already loaded. To reload it, use:\n",
      "  %reload_ext autoreload\n",
      "\u001b[31m%%%%%%%%%%%%%%%%%%%%%%%%%%%%%%%%%%%%%%%%%%%%%%%%%%%%%%%%%%%%%%%%%%%%%%%%%%%%%%%%%%%%%%%%%%%%%%%%%%%%\n",
      "\\def\\srule{\\rule{0pt}{2ex}\\rule[-1ex]{0pt}{0ex}}\n",
      "\\begin{table*}\n",
      "\\centering\n",
      "\\caption{???}\n",
      "\\label{???}\\vspace{.1cm}\n",
      "\\begin{tabular}{l|ccc|cc|cc}\n",
      "\\hline\n",
      "method & trace-time[segs] & mb-fit-log-error & mb-ok-fits[\\%] & g-fit-log-error & g-ok-fits[\\%] & r-fit-log-error & r-ok-fits[\\%] \\srule\\\\\\hline\\hline\n",
      "linear & .55$\\pm$.23 & 3.85$\\pm$.45 & 92.83 & 3.81$\\pm$.49 & 89.95 & 3.88$\\pm$.41 & 95.71 \\srule\\\\\n",
      "bspline & .54$\\pm$.23 & 5.21$\\pm$1.99 & 91.69 & 5.21$\\pm$2.21 & 88.16 & 5.22$\\pm$1.76 & 95.22 \\srule\\\\\n",
      "uniformprior & 1.45$\\pm$.46 & 7.68$\\pm$1.13 & 91.44 & 7.82$\\pm$1.20 & 87.99 & 7.55$\\pm$1.05 & 94.89 \\srule\\\\\n",
      "curvefit & 13.41$\\pm$6.42 & 3.86$\\pm$.76 & 92.17 & 3.70$\\pm$.74 & 88.94 & 4.01$\\pm$.74 & 95.40 \\srule\\\\\n",
      "mcmc & 301.95$\\pm$109.25 & 3.34$\\pm$1.06 & 93.48 & 3.20$\\pm$1.08 & 93.48 & 3.48$\\pm$1.01 & 93.48 \\srule\\\\\n",
      "\\hline\n",
      "\\end{tabular}\n",
      "\\end{table*}\n",
      "%%%%%%%%%%%%%%%%%%%%%%%%%%%%%%%%%%%%%%%%%%%%%%%%%%%%%%%%%%%%%%%%%%%%%%%%%%%%%%%%%%%%%%%%%%%%%%%%%%%%\n",
      "\u001b[0m\n"
     ]
    }
   ],
   "source": [
    "%load_ext autoreload\n",
    "%autoreload 2\n",
    "from flamingchoripan.latex.latex_tables import LatexTable\n",
    "\n",
    "latex_kwargs = {\n",
    "    'caption':'???',\n",
    "    'label':'???',\n",
    "    'custom_tabular_align':'l|ccc|cc|cc',\n",
    "}\n",
    "latex_table = LatexTable(info_df, **latex_kwargs)\n",
    "print(latex_table)"
   ]
  }
 ],
 "metadata": {
  "kernelspec": {
   "display_name": "Python 3",
   "language": "python",
   "name": "python3"
  },
  "language_info": {
   "codemirror_mode": {
    "name": "ipython",
    "version": 3
   },
   "file_extension": ".py",
   "mimetype": "text/x-python",
   "name": "python",
   "nbconvert_exporter": "python",
   "pygments_lexer": "ipython3",
   "version": "3.7.9"
  }
 },
 "nbformat": 4,
 "nbformat_minor": 4
}
