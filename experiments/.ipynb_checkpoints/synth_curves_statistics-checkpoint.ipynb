{
 "cells": [
  {
   "cell_type": "code",
   "execution_count": 2,
   "metadata": {},
   "outputs": [],
   "source": [
    "import sys\n",
    "sys.path.append('../') # or just install the module\n",
    "sys.path.append('../../flaming-choripan') # or just install the module\n",
    "sys.path.append('../../astro-lightcurves-handler') # or just install the module"
   ]
  },
  {
   "cell_type": "code",
   "execution_count": 3,
   "metadata": {},
   "outputs": [
    {
     "name": "stdout",
     "output_type": "stream",
     "text": [
      "────────────────────────────────────────────────────────────────────────────────────────────────────\n",
      "found filedirs: (../save)\n",
      "(0) - ../save/alerceZTFv7.1/survey-alerceZTFv7.1_bands-gr_mode-onlySNe/train+val/samplers.smplr - 8.837[mbs]\n",
      "────────────────────────────────────────────────────────────────────────────────────────────────────\n",
      "filedirs after searching with filters: (../save)\n",
      "(0) - ../save/alerceZTFv7.1/survey-alerceZTFv7.1_bands-gr_mode-onlySNe/train+val/samplers.smplr - 8.837[mbs]\n",
      "────────────────────────────────────────────────────────────────────────────────────────────────────\n"
     ]
    }
   ],
   "source": [
    "from flamingchoripan.files import search_for_filedirs\n",
    "from synthsne import C_\n",
    "\n",
    "root_folder = '../save'\n",
    "filedirs = search_for_filedirs(root_folder, fext=C_.EXT_SAMPLER)"
   ]
  },
  {
   "cell_type": "code",
   "execution_count": 4,
   "metadata": {},
   "outputs": [
    {
     "name": "stdout",
     "output_type": "stream",
     "text": [
      "The autoreload extension is already loaded. To reload it, use:\n",
      "  %reload_ext autoreload\n"
     ]
    },
    {
     "name": "stderr",
     "output_type": "stream",
     "text": [
      "WARNING (theano.tensor.blas): Using NumPy C-API based implementation for BLAS functions.\n"
     ]
    },
    {
     "data": {
      "text/plain": [
       "['ZTF20aavpnlv', 'ZTF18acbwtnh']"
      ]
     },
     "execution_count": 4,
     "metadata": {},
     "output_type": "execute_result"
    }
   ],
   "source": [
    "%load_ext autoreload\n",
    "%autoreload 2\n",
    "from synthsne import curve_statistics as cs\n",
    "\n",
    "lcset_name = 'train+val'\n",
    "methods = ['linear', 'bspline', 'uniformprior', 'curvefit', 'mcmc']\n",
    "#methods = ['curvefit', 'mcmc']\n",
    "#methods = ['linear', 'bspline']\n",
    "rootdir = f'../save/alerceZTFv7.1/survey-alerceZTFv7.1_bands-gr_mode-onlySNe/{lcset_name}'\n",
    "method = 'linear' # linear, bspline\n",
    "cs.get_all_incorrects_fittings(rootdir, method)"
   ]
  },
  {
   "cell_type": "code",
   "execution_count": 5,
   "metadata": {},
   "outputs": [
    {
     "name": "stdout",
     "output_type": "stream",
     "text": [
      "The autoreload extension is already loaded. To reload it, use:\n",
      "  %reload_ext autoreload\n",
      "linear (1549): .45±.09\n",
      "bspline (1549): .50±.15\n",
      "uniformprior (1541): .91±.30\n",
      "curvefit (1549): 7.46±3.68\n",
      "mcmc (757): 301.04±101.16\n"
     ]
    }
   ],
   "source": [
    "%load_ext autoreload\n",
    "%autoreload 2\n",
    "from synthsne import curve_statistics as c\n",
    "\n",
    "for method in methods:\n",
    "    xe = cs.get_perf_times(rootdir, method)\n",
    "    print(f'{method} ({len(xe)}): {xe}')"
   ]
  },
  {
   "cell_type": "code",
   "execution_count": 6,
   "metadata": {},
   "outputs": [
    {
     "name": "stdout",
     "output_type": "stream",
     "text": [
      "The autoreload extension is already loaded. To reload it, use:\n",
      "  %reload_ext autoreload\n",
      "mb-rank[top10]:\n",
      "(1) - ZTF19acckggd: 47,902.5694\n",
      "(2) - ZTF19abnagzk: 6,206.0634\n",
      "(3) - ZTF20aazdxlx: 882.3671\n",
      "(4) - ZTF19acuyvtl: 653.3272\n",
      "(5) - ZTF20aabqisb: 573.2080\n",
      "(6) - ZTF20aamuqwn: 569.1171\n",
      "(7) - ZTF18aasdted: 367.6000\n",
      "(8) - ZTF19abcunya: 340.0557\n",
      "(9) - ZTF18acqyvag: 317.5996\n",
      "(10) - ZTF20aaxvzja: 261.4015\n",
      "g-rank[top10]:\n",
      "(1) - ZTF19acckggd: 95,754.8399\n",
      "(2) - ZTF19abnagzk: 12,361.7331\n",
      "(3) - ZTF20aazdxlx: 1,711.7904\n",
      "(4) - ZTF19acuyvtl: 1,257.2938\n",
      "(5) - ZTF20aabqisb: 1,091.3124\n",
      "(6) - ZTF19abcunya: 633.7771\n",
      "(7) - ZTF20aamuqwn: 569.1171\n",
      "(8) - ZTF20aaxvzja: 472.7951\n",
      "(9) - ZTF20aasokxu: 385.3987\n",
      "(10) - ZTF18aasdted: 382.4001\n",
      "r-rank[top10]:\n",
      "(1) - ZTF18acqyvag: 588.7087\n",
      "(2) - ZTF18aasdted: 352.7999\n",
      "(3) - ZTF18abuqugw: 190.5685\n",
      "(4) - ZTF19acihlft: 171.8716\n",
      "(5) - ZTF18aaqkdwf: 171.4280\n",
      "(6) - ZTF19acgfowd: 168.7509\n",
      "(7) - ZTF19aaxnlps: 168.4566\n",
      "(8) - ZTF19acrwzqs: 154.3815\n",
      "(9) - ZTF19aawgopm: 154.0262\n",
      "(10) - ZTF18abmxahs: 152.6182\n"
     ]
    }
   ],
   "source": [
    "%load_ext autoreload\n",
    "%autoreload 2\n",
    "from synthsne import curve_statistics as cs\n",
    "\n",
    "method = 'linear'\n",
    "rank, rank_bdict, band_names = cs.get_ranks(rootdir, method)\n",
    "print(rank)\n",
    "for b in band_names:\n",
    "    print(rank_bdict[b])"
   ]
  },
  {
   "cell_type": "code",
   "execution_count": 9,
   "metadata": {},
   "outputs": [
    {
     "name": "stdout",
     "output_type": "stream",
     "text": [
      "The autoreload extension is already loaded. To reload it, use:\n",
      "  %reload_ext autoreload\n"
     ]
    },
    {
     "data": {
      "text/html": [
       "<div>\n",
       "<style scoped>\n",
       "    .dataframe tbody tr th:only-of-type {\n",
       "        vertical-align: middle;\n",
       "    }\n",
       "\n",
       "    .dataframe tbody tr th {\n",
       "        vertical-align: top;\n",
       "    }\n",
       "\n",
       "    .dataframe thead th {\n",
       "        text-align: right;\n",
       "    }\n",
       "</style>\n",
       "<table border=\"1\" class=\"dataframe\">\n",
       "  <thead>\n",
       "    <tr style=\"text-align: right;\">\n",
       "      <th></th>\n",
       "      <th>trace-time[segs]</th>\n",
       "      <th>mb-fit-log-error</th>\n",
       "      <th>mb-n</th>\n",
       "      <th>mb-ok-fits[%]</th>\n",
       "      <th>g-fit-log-error</th>\n",
       "      <th>g-ok-fits[%]</th>\n",
       "      <th>r-fit-log-error</th>\n",
       "      <th>r-ok-fits[%]</th>\n",
       "    </tr>\n",
       "  </thead>\n",
       "  <tbody>\n",
       "    <tr>\n",
       "      <th>method=linear</th>\n",
       "      <td>.45±.09</td>\n",
       "      <td>3.89±.45</td>\n",
       "      <td>198528</td>\n",
       "      <td>93.507717</td>\n",
       "      <td>3.88±.49</td>\n",
       "      <td>89.344576</td>\n",
       "      <td>3.90±.40</td>\n",
       "      <td>97.670858</td>\n",
       "    </tr>\n",
       "    <tr>\n",
       "      <th>method=bspline</th>\n",
       "      <td>.50±.15</td>\n",
       "      <td>5.81±2.55</td>\n",
       "      <td>198528</td>\n",
       "      <td>93.498650</td>\n",
       "      <td>5.88±2.82</td>\n",
       "      <td>89.364724</td>\n",
       "      <td>5.75±2.26</td>\n",
       "      <td>97.632576</td>\n",
       "    </tr>\n",
       "    <tr>\n",
       "      <th>method=uniformprior</th>\n",
       "      <td>.91±.31</td>\n",
       "      <td>7.86±1.10</td>\n",
       "      <td>198528</td>\n",
       "      <td>91.360413</td>\n",
       "      <td>7.99±1.13</td>\n",
       "      <td>85.751128</td>\n",
       "      <td>7.74±1.05</td>\n",
       "      <td>96.969697</td>\n",
       "    </tr>\n",
       "    <tr>\n",
       "      <th>method=curvefit</th>\n",
       "      <td>7.45±3.69</td>\n",
       "      <td>4.11±.89</td>\n",
       "      <td>198528</td>\n",
       "      <td>93.510235</td>\n",
       "      <td>3.96±.88</td>\n",
       "      <td>89.372784</td>\n",
       "      <td>4.25±.88</td>\n",
       "      <td>97.647687</td>\n",
       "    </tr>\n",
       "    <tr>\n",
       "      <th>method=mcmc</th>\n",
       "      <td>299.61±105.39</td>\n",
       "      <td>3.20±.00</td>\n",
       "      <td>98816</td>\n",
       "      <td>91.450777</td>\n",
       "      <td>2.99±.00</td>\n",
       "      <td>86.269430</td>\n",
       "      <td>3.39±.96</td>\n",
       "      <td>96.632124</td>\n",
       "    </tr>\n",
       "  </tbody>\n",
       "</table>\n",
       "</div>"
      ],
      "text/plain": [
       "                    trace-time[segs] mb-fit-log-error    mb-n  mb-ok-fits[%]  \\\n",
       "method=linear                .45±.09         3.89±.45  198528      93.507717   \n",
       "method=bspline               .50±.15        5.81±2.55  198528      93.498650   \n",
       "method=uniformprior          .91±.31        7.86±1.10  198528      91.360413   \n",
       "method=curvefit            7.45±3.69         4.11±.89  198528      93.510235   \n",
       "method=mcmc            299.61±105.39         3.20±.00   98816      91.450777   \n",
       "\n",
       "                    g-fit-log-error  g-ok-fits[%] r-fit-log-error  \\\n",
       "method=linear              3.88±.49     89.344576        3.90±.40   \n",
       "method=bspline            5.88±2.82     89.364724       5.75±2.26   \n",
       "method=uniformprior       7.99±1.13     85.751128       7.74±1.05   \n",
       "method=curvefit            3.96±.88     89.372784        4.25±.88   \n",
       "method=mcmc                2.99±.00     86.269430        3.39±.96   \n",
       "\n",
       "                     r-ok-fits[%]  \n",
       "method=linear           97.670858  \n",
       "method=bspline          97.632576  \n",
       "method=uniformprior     96.969697  \n",
       "method=curvefit         97.647687  \n",
       "method=mcmc             96.632124  "
      ]
     },
     "execution_count": 9,
     "metadata": {},
     "output_type": "execute_result"
    }
   ],
   "source": [
    "%load_ext autoreload\n",
    "%autoreload 2\n",
    "from synthsne import curve_statistics as cs\n",
    "\n",
    "#methods = ['linear', 'bspline', 'mcmc', 'curvefit']\n",
    "info_df = cs.get_info_dict(rootdir, methods)\n",
    "info_df"
   ]
  },
  {
   "cell_type": "code",
   "execution_count": 12,
   "metadata": {},
   "outputs": [
    {
     "name": "stdout",
     "output_type": "stream",
     "text": [
      "The autoreload extension is already loaded. To reload it, use:\n",
      "  %reload_ext autoreload\n",
      "\u001b[31m%%%%%%%%%%%%%%%%%%%%%%%%%%%%%%%%%%%%%%%%%%%%%%%%%%%%%%%%%%%%%%%%%%%%%%%%%%%%%%%%%%%%%%%%%%%%%%%%%%%%\n",
      "\\def\\srule{\\rule{0pt}{2ex}\\rule[-1ex]{0pt}{0ex}}\n",
      "\\begin{table*}\n",
      "\\centering\n",
      "\\caption{$x_j$}\n",
      "\\label{???}\\vspace{.1cm}\n",
      "\\begin{tabular}{l|cccccccc}\n",
      "\\hline\n",
      "method & trace-time[segs] & mb-fit-log-error & mb-n & mb-ok-fits[\\%] & g-fit-log-error & g-ok-fits[\\%] & r-fit-log-error & r-ok-fits[\\%] \\srule\\\\\\hline\\hline\n",
      "linear & \\textbf{.45$\\pm$.09} & 3.89$\\pm$.45 & 198,528 & 93.51 & 3.88$\\pm$.49 & 89.34 & 3.90$\\pm$.40 & 97.67  \\srule\\\\\n",
      "bspline & .50$\\pm$.15 & 5.81$\\pm$2.55 & 198,528 & 93.50 & 5.88$\\pm$2.82 & 89.36 & 5.75$\\pm$2.26 & 97.63  \\srule\\\\\n",
      "uniformprior & .91$\\pm$.31 & 7.86$\\pm$1.10 & 198,528 & \\textbf{91.36} & 7.99$\\pm$1.13 & \\textbf{85.75} & 7.74$\\pm$1.05 & 96.97  \\srule\\\\\n",
      "curvefit & 7.45$\\pm$3.69 & 4.11$\\pm$.89 & 198,528 & 93.51 & 3.96$\\pm$.88 & 89.37 & 4.25$\\pm$.88 & 97.65  \\srule\\\\\n",
      "mcmc & 299.61$\\pm$105.39 & \\textbf{3.20$\\pm$.00} & \\textbf{98,816} & 91.45 & \\textbf{2.99$\\pm$.00} & 86.27 & \\textbf{3.39$\\pm$.96} & \\textbf{96.63}  \\srule\\\\\n",
      "\\hline\n",
      "\\end{tabular}\n",
      "\\end{table*}\n",
      "%%%%%%%%%%%%%%%%%%%%%%%%%%%%%%%%%%%%%%%%%%%%%%%%%%%%%%%%%%%%%%%%%%%%%%%%%%%%%%%%%%%%%%%%%%%%%%%%%%%%\n",
      "\u001b[0m\n"
     ]
    }
   ],
   "source": [
    "%load_ext autoreload\n",
    "%autoreload 2\n",
    "from flamingchoripan.latex.latex_tables import LatexTable\n",
    "\n",
    "latex_kwargs = {\n",
    "    'caption':'$x_j$',\n",
    "    'label':'???',\n",
    "    'bold_criteriums':'min',\n",
    "    #'custom_tabular_align':'l|c|cc|cc|cc',\n",
    "}\n",
    "latex_table = LatexTable(info_df, **latex_kwargs)\n",
    "print(latex_table)"
   ]
  }
 ],
 "metadata": {
  "kernelspec": {
   "display_name": "Python 3",
   "language": "python",
   "name": "python3"
  },
  "language_info": {
   "codemirror_mode": {
    "name": "ipython",
    "version": 3
   },
   "file_extension": ".py",
   "mimetype": "text/x-python",
   "name": "python",
   "nbconvert_exporter": "python",
   "pygments_lexer": "ipython3",
   "version": "3.7.9"
  }
 },
 "nbformat": 4,
 "nbformat_minor": 4
}
