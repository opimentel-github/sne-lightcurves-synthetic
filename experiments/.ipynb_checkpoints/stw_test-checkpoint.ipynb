{
 "cells": [
  {
   "cell_type": "code",
   "execution_count": 2,
   "metadata": {},
   "outputs": [],
   "source": [
    "import sys\n",
    "sys.path.append('../') # or just install the module\n",
    "sys.path.append('../../fuzzy-tools') # or just install the module\n",
    "sys.path.append('../../astro-lightcurves-handler') # or just install the module"
   ]
  },
  {
   "cell_type": "code",
   "execution_count": 50,
   "metadata": {},
   "outputs": [
    {
     "name": "stdout",
     "output_type": "stream",
     "text": [
      "The autoreload extension is already loaded. To reload it, use:\n",
      "  %reload_ext autoreload\n",
      "[ True  True  True  True  True  True  True  True  True  True  True  True\n",
      "  True  True  True  True  True  True  True  True]\n",
      "(20,) [-18.46189723 -16.46189723 -14.46189723 -12.46189723 -10.46189723\n",
      "  -8.46189723  -6.46189723  -4.46189723  -2.46189723  -0.46189723\n",
      "   1.53810277   3.53810277   5.53810277   7.53810277   9.53810277\n",
      "  11.53810277  13.53810277  15.53810277  17.53810277  19.53810277]\n"
     ]
    }
   ],
   "source": [
    "%load_ext autoreload\n",
    "%autoreload 2\n",
    "from synthsne.generators.synthetic_curves import get_augmented_time_mesh\n",
    "\n",
    "min_dt = 2\n",
    "extra_times = 90\n",
    "dropout_p = 0.1\n",
    "x = get_augmented_time_mesh([], -20, 20, min_dt, extra_times, dropout_p)\n",
    "print(x.shape, x)"
   ]
  }
 ],
 "metadata": {
  "kernelspec": {
   "display_name": "Python 3",
   "language": "python",
   "name": "python3"
  },
  "language_info": {
   "codemirror_mode": {
    "name": "ipython",
    "version": 3
   },
   "file_extension": ".py",
   "mimetype": "text/x-python",
   "name": "python",
   "nbconvert_exporter": "python",
   "pygments_lexer": "ipython3",
   "version": "3.7.9"
  }
 },
 "nbformat": 4,
 "nbformat_minor": 4
}
