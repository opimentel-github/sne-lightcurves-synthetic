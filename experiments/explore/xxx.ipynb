{
 "cells": [
  {
   "cell_type": "code",
   "execution_count": 8,
   "metadata": {},
   "outputs": [
    {
     "data": {
      "image/png": "[encoded data removed]",
      "text/plain": [
       "<Figure size 432x288 with 1 Axes>"
      ]
     },
     "metadata": {
      "needs_background": "light"
     },
     "output_type": "display_data"
    }
   ],
   "source": [
    "import numpy as np\n",
    "import emcee\n",
    "import matplotlib.pyplot as plt\n",
    "\n",
    "# Choose the \"true\" parameters.\n",
    "m_true = -0.9594\n",
    "b_true = 4.294\n",
    "f_true = 0.534\n",
    "\n",
    "# Generate some synthetic data from the model.\n",
    "N = 50\n",
    "x = np.sort(10 * np.random.rand(N))\n",
    "yerr = 0.1 + 0.5 * np.random.rand(N)\n",
    "y = m_true * x + b_true\n",
    "y += np.abs(f_true * y) * np.random.randn(N)\n",
    "y += yerr * np.random.randn(N)\n",
    "\n",
    "plt.errorbar(x, y, yerr=yerr, fmt=\".k\", capsize=0)\n",
    "x0 = np.linspace(0, 10, 500)\n",
    "plt.plot(x0, m_true * x0 + b_true, \"k\", alpha=0.3, lw=3)\n",
    "plt.xlim(0, 10)\n",
    "plt.xlabel(\"x\")\n",
    "plt.ylabel(\"y\");"
   ]
  },
  {
   "cell_type": "code",
   "execution_count": 12,
   "metadata": {},
   "outputs": [
    {
     "name": "stderr",
     "output_type": "stream",
     "text": [
      "  2%|▏         | 81/5000 [00:00<00:06, 802.65it/s]"
     ]
    },
    {
     "name": "stdout",
     "output_type": "stream",
     "text": [
      "(32, 3)\n"
     ]
    },
    {
     "name": "stderr",
     "output_type": "stream",
     "text": [
      "100%|██████████| 5000/5000 [00:06<00:00, 805.48it/s]\n"
     ]
    },
    {
     "data": {
      "text/plain": [
       "array([[[-0.95955695,  4.29398594,  0.53406203],\n",
       "        [-0.95956698,  4.29397237,  0.53386931],\n",
       "        [-0.95940527,  4.29401313,  0.53402315],\n",
       "        ...,\n",
       "        [-0.95966476,  4.293947  ,  0.53385739],\n",
       "        [-0.95944201,  4.29417097,  0.53390712],\n",
       "        [-0.95952458,  4.29394873,  0.53402863]],\n",
       "\n",
       "       [[-0.95955695,  4.29398594,  0.53406203],\n",
       "        [-0.95956526,  4.29397317,  0.5338759 ],\n",
       "        [-0.95944116,  4.29399376,  0.5340248 ],\n",
       "        ...,\n",
       "        [-0.95969242,  4.29395073,  0.53382764],\n",
       "        [-0.95938096,  4.29416943,  0.53399723],\n",
       "        [-0.95952554,  4.29394938,  0.53402853]],\n",
       "\n",
       "       [[-0.95980868,  4.2938771 ,  0.53407868],\n",
       "        [-0.95956526,  4.29397317,  0.5338759 ],\n",
       "        [-0.95939777,  4.29408903,  0.53393806],\n",
       "        ...,\n",
       "        [-0.95963758,  4.2939716 ,  0.53385356],\n",
       "        [-0.95938096,  4.29416943,  0.53399723],\n",
       "        [-0.95953878,  4.29394388,  0.53400745]],\n",
       "\n",
       "       ...,\n",
       "\n",
       "       [[-1.16550981,  5.02387252, -0.73496896],\n",
       "        [-0.78438599,  3.24080065, -0.37075944],\n",
       "        [-0.97967324,  4.15005145, -0.61436159],\n",
       "        ...,\n",
       "        [-1.04853356,  4.72624521, -0.56894782],\n",
       "        [-0.9545268 ,  4.24074766, -0.87160937],\n",
       "        [-1.0983443 ,  4.71171593, -0.76236812]],\n",
       "\n",
       "       [[-1.16550981,  5.02387252, -0.73496896],\n",
       "        [-0.81398785,  3.38680121, -0.41025436],\n",
       "        [-0.96747644,  4.09897082, -0.6417401 ],\n",
       "        ...,\n",
       "        [-1.04893981,  4.73027632, -0.5678525 ],\n",
       "        [-0.9545268 ,  4.24074766, -0.87160937],\n",
       "        [-1.12538868,  4.83658797, -0.78921424]],\n",
       "\n",
       "       [[-1.12682632,  4.78111946, -0.74623952],\n",
       "        [-0.81398785,  3.38680121, -0.41025436],\n",
       "        [-0.96747644,  4.09897082, -0.6417401 ],\n",
       "        ...,\n",
       "        [-1.04893981,  4.73027632, -0.5678525 ],\n",
       "        [-0.9545268 ,  4.24074766, -0.87160937],\n",
       "        [-1.12211577,  4.83514795, -0.76978557]]])"
      ]
     },
     "execution_count": 12,
     "metadata": {},
     "output_type": "execute_result"
    }
   ],
   "source": [
    "def log_prior(theta):\n",
    "    m, b, log_f = theta\n",
    "    if -5.0 < m < 0.5 and 0.0 < b < 10.0 and -10.0 < log_f < 1.0:\n",
    "        return 0.0\n",
    "    return -np.inf\n",
    "\n",
    "def log_likelihood(theta, x, y, yerr):\n",
    "    m, b, log_f = theta\n",
    "    model = m * x + b\n",
    "    sigma2 = yerr ** 2 + model ** 2 * np.exp(2 * log_f)\n",
    "    return -0.5 * np.sum((y - model) ** 2 / sigma2 + np.log(sigma2))\n",
    "\n",
    "def log_probability(theta, x, y, yerr):\n",
    "    lp = log_prior(theta)\n",
    "    if not np.isfinite(lp):\n",
    "        return -np.inf\n",
    "    return lp + log_likelihood(theta, x, y, yerr)\n",
    "\n",
    "pos = np.array([m_true, b_true, f_true]) + 1e-4 * np.random.randn(32, 3)\n",
    "print(pos.shape)\n",
    "nwalkers, ndim = pos.shape\n",
    "\n",
    "sampler = emcee.EnsembleSampler(nwalkers, ndim, log_probability, args=(x, y, yerr))\n",
    "sampler.run_mcmc(pos, 5000, progress=True)\n",
    "sampler.get_chain()"
   ]
  }
 ],
 "metadata": {
  "kernelspec": {
   "display_name": "Python 3",
   "language": "python",
   "name": "python3"
  },
  "language_info": {
   "codemirror_mode": {
    "name": "ipython",
    "version": 3
   },
   "file_extension": ".py",
   "mimetype": "text/x-python",
   "name": "python",
   "nbconvert_exporter": "python",
   "pygments_lexer": "ipython3",
   "version": "3.7.9"
  }
 },
 "nbformat": 4,
 "nbformat_minor": 4
}
