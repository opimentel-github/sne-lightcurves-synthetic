{
 "cells": [
  {
   "cell_type": "code",
   "execution_count": 1,
   "metadata": {},
   "outputs": [],
   "source": [
    "import sys\n",
    "sys.path.append('../../') # or just install the module\n",
    "sys.path.append('../../../flaming-choripan') # or just install the module\n",
    "sys.path.append('../../../astro-lightcurves-handler') # or just install the module"
   ]
  },
  {
   "cell_type": "code",
   "execution_count": 2,
   "metadata": {},
   "outputs": [
    {
     "name": "stdout",
     "output_type": "stream",
     "text": [
      "────────────────────────────────────────────────────────────────────────────────────────────────────\n",
      "found filedirs: (../../save)\n",
      "(0) - ../../save/alerceZTFv7.1/survey=alerceZTFv7.1°bands=gr°mode=onlySNe/1@train/samplers.smplr - 10.843[mbs]\n",
      "(1) - ../../save/alerceZTFv7.1/survey=alerceZTFv7.1°bands=gr°mode=onlySNe/2@train/samplers.smplr - 10.715[mbs]\n",
      "(2) - ../../save/alerceZTFv7.1/survey=alerceZTFv7.1°bands=gr°mode=onlySNe/0@train/samplers.smplr - 10.591[mbs]\n",
      "(3) - ../../save/borra1/survey=alerceZTFv7.1°bands=gr°mode=onlySNe/1@train/samplers.smplr - 10.843[mbs]\n",
      "(4) - ../../save/borra1/survey=alerceZTFv7.1°bands=gr°mode=onlySNe/1@val/samplers.smplr - 10.843[mbs]\n",
      "(5) - ../../save/borra1/survey=alerceZTFv7.1°bands=gr°mode=onlySNe/2@train/samplers.smplr - 10.715[mbs]\n",
      "(6) - ../../save/borra1/survey=alerceZTFv7.1°bands=gr°mode=onlySNe/2@val/samplers.smplr - 10.715[mbs]\n",
      "(7) - ../../save/borra1/survey=alerceZTFv7.1°bands=gr°mode=onlySNe/0@train/samplers.smplr - 10.591[mbs]\n",
      "(8) - ../../save/borra1/survey=alerceZTFv7.1°bands=gr°mode=onlySNe/0@val/samplers.smplr - 10.591[mbs]\n",
      "(9) - ../../save/borrar2/survey=alerceZTFv7.1°bands=gr°mode=onlySNe/0@train/samplers.smplr - 10.591[mbs]\n",
      "────────────────────────────────────────────────────────────────────────────────────────────────────\n",
      "filedirs after searching with filters: (../../save)\n",
      "(0) - ../../save/alerceZTFv7.1/survey=alerceZTFv7.1°bands=gr°mode=onlySNe/1@train/samplers.smplr - 10.843[mbs]\n",
      "(1) - ../../save/alerceZTFv7.1/survey=alerceZTFv7.1°bands=gr°mode=onlySNe/2@train/samplers.smplr - 10.715[mbs]\n",
      "(2) - ../../save/alerceZTFv7.1/survey=alerceZTFv7.1°bands=gr°mode=onlySNe/0@train/samplers.smplr - 10.591[mbs]\n",
      "(3) - ../../save/borra1/survey=alerceZTFv7.1°bands=gr°mode=onlySNe/1@train/samplers.smplr - 10.843[mbs]\n",
      "(4) - ../../save/borra1/survey=alerceZTFv7.1°bands=gr°mode=onlySNe/1@val/samplers.smplr - 10.843[mbs]\n",
      "(5) - ../../save/borra1/survey=alerceZTFv7.1°bands=gr°mode=onlySNe/2@train/samplers.smplr - 10.715[mbs]\n",
      "(6) - ../../save/borra1/survey=alerceZTFv7.1°bands=gr°mode=onlySNe/2@val/samplers.smplr - 10.715[mbs]\n",
      "(7) - ../../save/borra1/survey=alerceZTFv7.1°bands=gr°mode=onlySNe/0@train/samplers.smplr - 10.591[mbs]\n",
      "(8) - ../../save/borra1/survey=alerceZTFv7.1°bands=gr°mode=onlySNe/0@val/samplers.smplr - 10.591[mbs]\n",
      "(9) - ../../save/borrar2/survey=alerceZTFv7.1°bands=gr°mode=onlySNe/0@train/samplers.smplr - 10.591[mbs]\n",
      "────────────────────────────────────────────────────────────────────────────────────────────────────\n"
     ]
    }
   ],
   "source": [
    "from flamingchoripan.files import search_for_filedirs\n",
    "from synthsne import C_\n",
    "\n",
    "root_folder = '../../save'\n",
    "filedirs = search_for_filedirs(root_folder, fext=C_.EXT_SAMPLER)"
   ]
  },
  {
   "cell_type": "code",
   "execution_count": 28,
   "metadata": {},
   "outputs": [
    {
     "name": "stdout",
     "output_type": "stream",
     "text": [
      "The autoreload extension is already loaded. To reload it, use:\n",
      "  %reload_ext autoreload\n"
     ]
    }
   ],
   "source": [
    "%load_ext autoreload\n",
    "%autoreload 2\n",
    "from synthsne import synth_method_statistics as sms\n",
    "\n",
    "lcset_name = 'train'\n",
    "rootdir = f'../../save/alerceZTFv7.1/survey=alerceZTFv7.1°bands=gr°mode=onlySNe/{lcset_name}'\n",
    "method = 'spm-mle-fstw'"
   ]
  },
  {
   "cell_type": "code",
   "execution_count": 35,
   "metadata": {},
   "outputs": [
    {
     "name": "stdout",
     "output_type": "stream",
     "text": [
      "The autoreload extension is already loaded. To reload it, use:\n",
      "  %reload_ext autoreload\n",
      "0.06326801921120358\n",
      "[16.32597131  3.15047486  5.76303151 10.58799587 11.97921738  6.53415377\n",
      "  6.34727895  4.53388437 56.55832455  1.12371883]\n"
     ]
    },
    {
     "ename": "NameError",
     "evalue": "name 'data_dict' is not defined",
     "output_type": "error",
     "traceback": [
      "\u001b[0;31m---------------------------------------------------------------------------\u001b[0m",
      "\u001b[0;31mNameError\u001b[0m                                 Traceback (most recent call last)",
      "\u001b[0;32m<ipython-input-35-cb89163da8f1>\u001b[0m in \u001b[0;36m<module>\u001b[0;34m\u001b[0m\n\u001b[1;32m      9\u001b[0m \u001b[0mgp\u001b[0m\u001b[0;34m\u001b[0m\u001b[0;34m\u001b[0m\u001b[0m\n\u001b[1;32m     10\u001b[0m \u001b[0;34m\u001b[0m\u001b[0m\n\u001b[0;32m---> 11\u001b[0;31m \u001b[0mplot_mcmc_prior\u001b[0m\u001b[0;34m(\u001b[0m\u001b[0mgp\u001b[0m\u001b[0;34m,\u001b[0m \u001b[0;34m'g'\u001b[0m\u001b[0;34m)\u001b[0m\u001b[0;34m\u001b[0m\u001b[0;34m\u001b[0m\u001b[0m\n\u001b[0m",
      "\u001b[0;32m~/oscar/tesis/sne-lightcurves-synthetic/synthsne/plots/mcmc.py\u001b[0m in \u001b[0;36mplot_mcmc_prior\u001b[0;34m(mcmc_prior, b, n)\u001b[0m\n\u001b[1;32m     18\u001b[0m         \u001b[0mn\u001b[0m\u001b[0;34m=\u001b[0m\u001b[0;36m100\u001b[0m\u001b[0;34m,\u001b[0m\u001b[0;34m\u001b[0m\u001b[0;34m\u001b[0m\u001b[0m\n\u001b[1;32m     19\u001b[0m \t):\n\u001b[0;32m---> 20\u001b[0;31m         \u001b[0mfig\u001b[0m\u001b[0;34m,\u001b[0m \u001b[0max\u001b[0m \u001b[0;34m=\u001b[0m \u001b[0mplot_hist_bins\u001b[0m\u001b[0;34m(\u001b[0m\u001b[0mdata_dict\u001b[0m\u001b[0;34m,\u001b[0m \u001b[0muses_density\u001b[0m\u001b[0;34m=\u001b[0m\u001b[0;36m1\u001b[0m\u001b[0;34m,\u001b[0m \u001b[0mtitle\u001b[0m\u001b[0;34m=\u001b[0m\u001b[0mspm_p\u001b[0m\u001b[0;34m)\u001b[0m\u001b[0;34m\u001b[0m\u001b[0;34m\u001b[0m\u001b[0m\n\u001b[0m\u001b[1;32m     21\u001b[0m         \u001b[0mx\u001b[0m \u001b[0;34m=\u001b[0m \u001b[0mnp\u001b[0m\u001b[0;34m.\u001b[0m\u001b[0mlinspace\u001b[0m\u001b[0;34m(\u001b[0m\u001b[0mnp\u001b[0m\u001b[0;34m.\u001b[0m\u001b[0mmin\u001b[0m\u001b[0;34m(\u001b[0m\u001b[0mp\u001b[0m\u001b[0;34m)\u001b[0m\u001b[0;34m,\u001b[0m \u001b[0mnp\u001b[0m\u001b[0;34m.\u001b[0m\u001b[0mmax\u001b[0m\u001b[0;34m(\u001b[0m\u001b[0mp\u001b[0m\u001b[0;34m)\u001b[0m\u001b[0;34m,\u001b[0m \u001b[0mn\u001b[0m\u001b[0;34m)\u001b[0m\u001b[0;34m\u001b[0m\u001b[0;34m\u001b[0m\u001b[0m\n\u001b[1;32m     22\u001b[0m         \u001b[0max\u001b[0m\u001b[0;34m.\u001b[0m\u001b[0mplot\u001b[0m\u001b[0;34m(\u001b[0m\u001b[0mx\u001b[0m\u001b[0;34m,\u001b[0m \u001b[0mmcmc_prior\u001b[0m\u001b[0;34m.\u001b[0m\u001b[0mpdf\u001b[0m\u001b[0;34m(\u001b[0m\u001b[0mx\u001b[0m\u001b[0;34m)\u001b[0m\u001b[0;34m,\u001b[0m \u001b[0mc\u001b[0m\u001b[0;34m=\u001b[0m\u001b[0mb\u001b[0m\u001b[0;34m)\u001b[0m\u001b[0;34m\u001b[0m\u001b[0;34m\u001b[0m\u001b[0m\n",
      "\u001b[0;31mNameError\u001b[0m: name 'data_dict' is not defined"
     ]
    }
   ],
   "source": [
    "%load_ext autoreload\n",
    "%autoreload 2\n",
    "from synthsne.generators.mcmc_priors import GammaP\n",
    "from synthsne.plots.mcmc import plot_mcmc_prior\n",
    "\n",
    "gp = GammaP([0,5,6,7,8,9,5,2,78,5,2,2,4,5,0,5,0,1,1])\n",
    "print(gp.pdf(5))\n",
    "print(gp.sample(10))\n",
    "gp\n",
    "\n",
    "plot_mcmc_prior(gp, 'g')"
   ]
  },
  {
   "cell_type": "code",
   "execution_count": null,
   "metadata": {
    "scrolled": false
   },
   "outputs": [],
   "source": [
    "%load_ext autoreload\n",
    "%autoreload 2\n",
    "from synthsne import synth_method_statistics as sms\n",
    "from flamingchoripan.cuteplots.plots import plot_hist_bins\n",
    "import matplotlib.pyplot as plt\n",
    "import scipy\n",
    "import numpy as np\n",
    "import scipy.stats\n",
    "\n",
    "def repr_dist(spm_p, dist_name, dist_params, c, b):\n",
    "    if dist_name=='norm':\n",
    "        mu = dist_params[0]\n",
    "        scale = dist_params[1]\n",
    "        #txt = f\"{spm_p} = pm.Normal('{spm_p}', mu={dist_params[0]}, sigma={dist_params[1]})\"\n",
    "        txt = f\"{spm_p} = stats.norm({mu}, {scale})\"\n",
    "        txt += ' # &$\\\\normdist{'+f'{mu:.2f}'+'}{'+f'{scale:.2f}'+'}$'\n",
    "    if dist_name=='gamma':\n",
    "        alpha = dist_params[0]\n",
    "        mu = dist_params[1]\n",
    "        scale = dist_params[2]\n",
    "        beta = 1/scale\n",
    "        #txt = f\"{spm_p} = pm.Gamma('{spm_p}', alpha={dist_params[0]}, beta={beta})+{mu}\"\n",
    "        txt = f\"{spm_p} = stats.gamma({alpha}, {mu}, {scale})\"\n",
    "        txt += ' # &$\\\\gammadist{'+f'{dist_params[0]:.2f}, {beta:.2f}, {mu:.2f}'+'}$'\n",
    "    return txt\n",
    "\n",
    "spm_d = {\n",
    "    'A':('gamma', 0),\n",
    "    't0':('norm', None),\n",
    "    'gamma':('gamma', 1),\n",
    "    #'f':('beta', 0),\n",
    "    'trise':('gamma', 1),\n",
    "    'tfall':('gamma', 1),\n",
    "}\n",
    "classes = sms.get_classes(rootdir, method)\n",
    "classes = ['SNIa', 'allSNII', 'SNIbc', 'SLSN']\n",
    "plot = 1\n",
    "for c in classes:\n",
    "    print(f\"if c=='{c}':\")\n",
    "    for b in ['g', 'r']:\n",
    "        print(f\"\\tif b=='{b}':\")\n",
    "        for spm_p in spm_d.keys():\n",
    "            spm_args_b = sms.get_spm_args(rootdir, method, b)[spm_p]\n",
    "            p = np.array([spm_arg['p'] for spm_arg in spm_args_b if c==spm_arg['c']])\n",
    "            data_dict = {c:p}\n",
    "            \n",
    "            dist_name = spm_d[spm_p][0]\n",
    "            floc = spm_d[spm_p][1]\n",
    "            if not dist_name is None:\n",
    "                dist = getattr(scipy.stats, dist_name)\n",
    "                if dist_name=='gamma':\n",
    "                    #p = np.clip(p, floc+1e-10, None)\n",
    "                    #p = p[(p>floc*1.05) & p>floc*1.05)]s\n",
    "                    p = p[p>floc*1.1]\n",
    "                fscale = None if dist_name in ['norm', 'gamma'] else 1\n",
    "                dist_params = dist.fit(p, floc=floc, fscale=fscale)\n",
    "                x = np.linspace(np.min(p), np.max(p), 100)\n",
    "                #print(dist_params)\n",
    "                print(f'\\t\\t{repr_dist(spm_p, dist_name, dist_params, c, b)}')\n",
    "                \n",
    "                if plot:\n",
    "                    fig, ax = plot_hist_bins(data_dict, uses_density=1, title=spm_p)\n",
    "                    ax.plot(x, dist.pdf(x, *dist_params), c=b)\n",
    "                    plt.show()"
   ]
  }
 ],
 "metadata": {
  "kernelspec": {
   "display_name": "Python 3",
   "language": "python",
   "name": "python3"
  },
  "language_info": {
   "codemirror_mode": {
    "name": "ipython",
    "version": 3
   },
   "file_extension": ".py",
   "mimetype": "text/x-python",
   "name": "python",
   "nbconvert_exporter": "python",
   "pygments_lexer": "ipython3",
   "version": "3.7.9"
  }
 },
 "nbformat": 4,
 "nbformat_minor": 4
}
