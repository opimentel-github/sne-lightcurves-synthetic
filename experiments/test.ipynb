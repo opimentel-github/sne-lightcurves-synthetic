{
 "cells": [
  {
   "cell_type": "code",
   "execution_count": 1,
   "metadata": {},
   "outputs": [],
   "source": [
    "import sys\n",
    "sys.path.append('../') # or just install the module\n",
    "sys.path.append('../../flaming-choripan') # or just install the module\n",
    "sys.path.append('../../astro-lightcurves-handler') # or just install the module"
   ]
  },
  {
   "cell_type": "code",
   "execution_count": 2,
   "metadata": {},
   "outputs": [
    {
     "name": "stdout",
     "output_type": "stream",
     "text": [
      "────────────────────────────────────────────────────────────────────────────────────────────────────\n",
      "found filedirs: (../../surveys-save)\n",
      "(0) - ../../surveys-save/alerceZTFv7.1/survey-alerceZTFv7.1_bands-gr_mode-onlySNe_kfid-0.splcds - 5.163[mbs]\n",
      "────────────────────────────────────────────────────────────────────────────────────────────────────\n",
      "filedirs after searching with filters: (../../surveys-save)\n",
      "(0) - ../../surveys-save/alerceZTFv7.1/survey-alerceZTFv7.1_bands-gr_mode-onlySNe_kfid-0.splcds - 5.163[mbs]\n",
      "────────────────────────────────────────────────────────────────────────────────────────────────────\n"
     ]
    }
   ],
   "source": [
    "from flamingchoripan.files import search_for_filedirs\n",
    "from lchandler import C_\n",
    "\n",
    "root_folder = '../../surveys-save'\n",
    "filedirs = search_for_filedirs(root_folder, fext=C_.EXT_SPLIT_LIGHTCURVE)"
   ]
  },
  {
   "cell_type": "code",
   "execution_count": 4,
   "metadata": {},
   "outputs": [
    {
     "name": "stdout",
     "output_type": "stream",
     "text": [
      "The autoreload extension is already loaded. To reload it, use:\n",
      "  %reload_ext autoreload\n",
      "\u001b[34m> loading: ../../surveys-save/alerceZTFv7.1/survey-alerceZTFv7.1_bands-gr_mode-onlySNe_kfid-0.splcds\u001b[0m\n",
      "dict_keys(['data', 'survey', 'description', 'band_names', 'class_names', 'obs_is_flux'])\n",
      "dict_keys(['days', 'obs', 'obse', 'y', 'synthetic'])\n",
      "LCDataset:\n",
      "[raw - samples 2,047]\n",
      "(*) obs_samples: 65,174 - min_len: 6 - max_dur: 538.8[days] - dur(p50): 52.9[days] - cadence(p50): 1.0[days]\n",
      "(g) obs_samples: 28,351 - min_len: 0 - max_dur: 538.8[days] - dur(p50): 38.9[days] - cadence(p50): 3.0[days]\n",
      "(r) obs_samples: 36,823 - min_len: 0 - max_dur: 538.8[days] - dur(p50): 50.9[days] - cadence(p50): 3.0[days]\n",
      "   |▏       | SLSN - 33/2,047 (1.61%)\n",
      "   |█████▉  | SNIa - 1,534/2,047 (74.94%)\n",
      "   |▍       | SNIbc - 103/2,047 (5.03%)\n",
      "   |█▍      | allSNII - 377/2,047 (18.42%)\n",
      "────────────────────────────────────────────────────────────────────────────────────────────────────\n",
      "[raw_train - samples 1,431]\n",
      "(*) obs_samples: 44,841 - min_len: 6 - max_dur: 538.8[days] - dur(p50): 53.0[days] - cadence(p50): 1.0[days]\n",
      "(g) obs_samples: 19,411 - min_len: 0 - max_dur: 538.8[days] - dur(p50): 38.9[days] - cadence(p50): 3.0[days]\n",
      "(r) obs_samples: 25,430 - min_len: 0 - max_dur: 538.8[days] - dur(p50): 51.0[days] - cadence(p50): 3.0[days]\n",
      "   |▏       | SLSN - 23/1,431 (1.61%)\n",
      "   |█████▉  | SNIa - 1,073/1,431 (74.98%)\n",
      "   |▍       | SNIbc - 72/1,431 (5.03%)\n",
      "   |█▍      | allSNII - 263/1,431 (18.38%)\n",
      "────────────────────────────────────────────────────────────────────────────────────────────────────\n",
      "[raw_val - samples 407]\n",
      "(*) obs_samples: 13,734 - min_len: 6 - max_dur: 444.7[days] - dur(p50): 52.9[days] - cadence(p50): 1.0[days]\n",
      "(g) obs_samples: 6,020 - min_len: 0 - max_dur: 393.9[days] - dur(p50): 40.0[days] - cadence(p50): 2.9[days]\n",
      "(r) obs_samples: 7,714 - min_len: 0 - max_dur: 441.7[days] - dur(p50): 51.9[days] - cadence(p50): 2.9[days]\n",
      "   |        | SLSN - 6/407 (1.47%)\n",
      "   |██████  | SNIa - 306/407 (75.18%)\n",
      "   |▍       | SNIbc - 20/407 (4.91%)\n",
      "   |█▍      | allSNII - 75/407 (18.43%)\n",
      "────────────────────────────────────────────────────────────────────────────────────────────────────\n",
      "[raw_test - samples 209]\n",
      "(*) obs_samples: 6,599 - min_len: 6 - max_dur: 422.0[days] - dur(p50): 49.8[days] - cadence(p50): 0.9[days]\n",
      "(g) obs_samples: 2,920 - min_len: 0 - max_dur: 421.9[days] - dur(p50): 35.0[days] - cadence(p50): 2.9[days]\n",
      "(r) obs_samples: 3,679 - min_len: 0 - max_dur: 416.0[days] - dur(p50): 46.0[days] - cadence(p50): 2.9[days]\n",
      "   |▏       | SLSN - 4/209 (1.91%)\n",
      "   |█████▉  | SNIa - 155/209 (74.16%)\n",
      "   |▍       | SNIbc - 11/209 (5.26%)\n",
      "   |█▍      | allSNII - 39/209 (18.66%)\n",
      "────────────────────────────────────────────────────────────────────────────────────────────────────\n",
      "[train - samples 1,429]\n",
      "(*) obs_samples: 44,166 - min_len: 3 - max_dur: 538.8[days] - dur(p50): 53.0[days] - cadence(p50): 1.0[days]\n",
      "(g) obs_samples: 19,153 - min_len: 0 - max_dur: 538.8[days] - dur(p50): 38.9[days] - cadence(p50): 3.0[days]\n",
      "(r) obs_samples: 25,013 - min_len: 0 - max_dur: 538.8[days] - dur(p50): 50.9[days] - cadence(p50): 3.0[days]\n",
      "   |▏       | SLSN - 23/1,429 (1.61%)\n",
      "   |██████  | SNIa - 1,072/1,429 (75.02%)\n",
      "   |▍       | SNIbc - 72/1,429 (5.04%)\n",
      "   |█▍      | allSNII - 262/1,429 (18.33%)\n",
      "────────────────────────────────────────────────────────────────────────────────────────────────────\n",
      "[val - samples 407]\n",
      "(*) obs_samples: 13,572 - min_len: 6 - max_dur: 444.7[days] - dur(p50): 52.9[days] - cadence(p50): 1.0[days]\n",
      "(g) obs_samples: 5,952 - min_len: 0 - max_dur: 393.9[days] - dur(p50): 40.0[days] - cadence(p50): 2.9[days]\n",
      "(r) obs_samples: 7,620 - min_len: 0 - max_dur: 441.7[days] - dur(p50): 51.9[days] - cadence(p50): 2.9[days]\n",
      "   |        | SLSN - 6/407 (1.47%)\n",
      "   |██████  | SNIa - 306/407 (75.18%)\n",
      "   |▍       | SNIbc - 20/407 (4.91%)\n",
      "   |█▍      | allSNII - 75/407 (18.43%)\n",
      "────────────────────────────────────────────────────────────────────────────────────────────────────\n",
      "[test - samples 209]\n",
      "(*) obs_samples: 6,483 - min_len: 6 - max_dur: 422.0[days] - dur(p50): 49.8[days] - cadence(p50): 0.9[days]\n",
      "(g) obs_samples: 2,884 - min_len: 0 - max_dur: 421.9[days] - dur(p50): 35.0[days] - cadence(p50): 2.9[days]\n",
      "(r) obs_samples: 3,599 - min_len: 0 - max_dur: 416.0[days] - dur(p50): 46.0[days] - cadence(p50): 2.9[days]\n",
      "   |▏       | SLSN - 4/209 (1.91%)\n",
      "   |█████▉  | SNIa - 155/209 (74.16%)\n",
      "   |▍       | SNIbc - 11/209 (5.26%)\n",
      "   |█▍      | allSNII - 39/209 (18.66%)\n",
      "────────────────────────────────────────────────────────────────────────────────────────────────────\n",
      "\n"
     ]
    }
   ],
   "source": [
    "%load_ext autoreload\n",
    "%autoreload 2\n",
    "import numpy as np\n",
    "from flamingchoripan.files import load_pickle, save_pickle\n",
    "from flamingchoripan.files import get_dict_from_filedir\n",
    "from lchandler import C_\n",
    "\n",
    "def load_lcdataset(filename):\n",
    "    assert filename.split('.')[-1]==C_.EXT_SPLIT_LIGHTCURVE\n",
    "    return load_pickle(filename)\n",
    "\n",
    "filedir = '../../surveys-save/alerceZTFv7.1/survey-alerceZTFv7.1_bands-gr_mode-onlySNe_kfid-0.splcds'\n",
    "\n",
    "filedict = get_dict_from_filedir(filedir)\n",
    "root_folder = filedict['*rootdir*']\n",
    "cfilename = filedict['*cfilename*']\n",
    "survey = filedict['survey']\n",
    "lcdataset = load_lcdataset(filedir)\n",
    "print(lcdataset['raw'].keys())\n",
    "print(lcdataset['raw'].get_random_lcobj(False).keys())\n",
    "print(lcdataset)"
   ]
  },
  {
   "cell_type": "code",
   "execution_count": 24,
   "metadata": {
    "scrolled": false
   },
   "outputs": [
    {
     "name": "stdout",
     "output_type": "stream",
     "text": [
      "The autoreload extension is already loaded. To reload it, use:\n",
      "  %reload_ext autoreload\n",
      "\u001b[34m> loading: ../save/alerceZTFv7.1/survey-alerceZTFv7.1_bands-gr_mode-onlySNe_kfid-0/samplers.s\u001b[0m\n"
     ]
    },
    {
     "ename": "AttributeError",
     "evalue": "'SynSNeGeneratorLinear' object has no attribute 'cpds_p'",
     "output_type": "error",
     "traceback": [
      "\u001b[0;31m---------------------------------------------------------------------------\u001b[0m",
      "\u001b[0;31mAttributeError\u001b[0m                            Traceback (most recent call last)",
      "\u001b[0;32m<ipython-input-24-3f1cd544b9dd>\u001b[0m in \u001b[0;36m<module>\u001b[0;34m\u001b[0m\n\u001b[1;32m     40\u001b[0m     \u001b[0mgenerator_class\u001b[0m \u001b[0;34m=\u001b[0m \u001b[0mget_syn_sne_generator\u001b[0m\u001b[0;34m(\u001b[0m\u001b[0mmethod\u001b[0m\u001b[0;34m)\u001b[0m\u001b[0;34m\u001b[0m\u001b[0;34m\u001b[0m\u001b[0m\n\u001b[1;32m     41\u001b[0m     \u001b[0msne_generator\u001b[0m \u001b[0;34m=\u001b[0m \u001b[0mgenerator_class\u001b[0m\u001b[0;34m(\u001b[0m\u001b[0mlcobj\u001b[0m\u001b[0;34m,\u001b[0m \u001b[0mclass_names\u001b[0m\u001b[0;34m,\u001b[0m \u001b[0mband_names\u001b[0m\u001b[0;34m,\u001b[0m \u001b[0mobse_sampler_bdict\u001b[0m\u001b[0;34m,\u001b[0m \u001b[0mlength_sampler_bdict\u001b[0m\u001b[0;34m,\u001b[0m \u001b[0;34m**\u001b[0m\u001b[0mgen_kwargs\u001b[0m\u001b[0;34m)\u001b[0m\u001b[0;34m\u001b[0m\u001b[0;34m\u001b[0m\u001b[0m\n\u001b[0;32m---> 42\u001b[0;31m     \u001b[0mnew_lcobjs\u001b[0m\u001b[0;34m,\u001b[0m \u001b[0mnew_smooth_lcojbs\u001b[0m\u001b[0;34m,\u001b[0m \u001b[0mtrace_bdict\u001b[0m \u001b[0;34m=\u001b[0m \u001b[0msne_generator\u001b[0m\u001b[0;34m.\u001b[0m\u001b[0msample_curves\u001b[0m\u001b[0;34m(\u001b[0m\u001b[0msynthetic_samples_per_curve\u001b[0m\u001b[0;34m)\u001b[0m\u001b[0;34m\u001b[0m\u001b[0;34m\u001b[0m\u001b[0m\n\u001b[0m\u001b[1;32m     43\u001b[0m     plot_kwargs = {\n\u001b[1;32m     44\u001b[0m         \u001b[0;34m'trace_bdict'\u001b[0m\u001b[0;34m:\u001b[0m\u001b[0mtrace_bdict\u001b[0m\u001b[0;34m,\u001b[0m\u001b[0;34m\u001b[0m\u001b[0;34m\u001b[0m\u001b[0m\n",
      "\u001b[0;32m~/oscar/tesis/sne-lightcurves-synthetic/synthsne/generators/synthetic_curves.py\u001b[0m in \u001b[0;36msample_curves\u001b[0;34m(self, n, return_has_corrects_samples)\u001b[0m\n\u001b[1;32m    144\u001b[0m                 \u001b[0mtrace_bdict\u001b[0m \u001b[0;34m=\u001b[0m \u001b[0;34m{\u001b[0m\u001b[0;34m}\u001b[0m\u001b[0;34m\u001b[0m\u001b[0;34m\u001b[0m\u001b[0m\n\u001b[1;32m    145\u001b[0m                 \u001b[0;32mfor\u001b[0m \u001b[0mb\u001b[0m \u001b[0;32min\u001b[0m \u001b[0mself\u001b[0m\u001b[0;34m.\u001b[0m\u001b[0mband_names\u001b[0m\u001b[0;34m:\u001b[0m\u001b[0;34m\u001b[0m\u001b[0;34m\u001b[0m\u001b[0m\n\u001b[0;32m--> 146\u001b[0;31m                         \u001b[0mnew_lcobjbs\u001b[0m\u001b[0;34m,\u001b[0m \u001b[0mnew_smooth_lcobjbs\u001b[0m\u001b[0;34m,\u001b[0m \u001b[0mtrace\u001b[0m \u001b[0;34m=\u001b[0m \u001b[0mself\u001b[0m\u001b[0;34m.\u001b[0m\u001b[0msample_curves_b\u001b[0m\u001b[0;34m(\u001b[0m\u001b[0mb\u001b[0m\u001b[0;34m,\u001b[0m \u001b[0mn\u001b[0m\u001b[0;34m)\u001b[0m\u001b[0;34m\u001b[0m\u001b[0;34m\u001b[0m\u001b[0m\n\u001b[0m\u001b[1;32m    147\u001b[0m                         \u001b[0mtrace_bdict\u001b[0m\u001b[0;34m[\u001b[0m\u001b[0mb\u001b[0m\u001b[0;34m]\u001b[0m \u001b[0;34m=\u001b[0m \u001b[0mtrace\u001b[0m\u001b[0;34m\u001b[0m\u001b[0;34m\u001b[0m\u001b[0m\n\u001b[1;32m    148\u001b[0m \u001b[0;34m\u001b[0m\u001b[0m\n",
      "\u001b[0;32m~/oscar/tesis/sne-lightcurves-synthetic/synthsne/generators/synthetic_curves.py\u001b[0m in \u001b[0;36msample_curves_b\u001b[0;34m(self, b, n)\u001b[0m\n\u001b[1;32m    173\u001b[0m         \u001b[0;32mdef\u001b[0m \u001b[0msample_curves_b\u001b[0m\u001b[0;34m(\u001b[0m\u001b[0mself\u001b[0m\u001b[0;34m,\u001b[0m \u001b[0mb\u001b[0m\u001b[0;34m,\u001b[0m \u001b[0mn\u001b[0m\u001b[0;34m)\u001b[0m\u001b[0;34m:\u001b[0m\u001b[0;34m\u001b[0m\u001b[0;34m\u001b[0m\u001b[0m\n\u001b[1;32m    174\u001b[0m                 \u001b[0mlcobjb\u001b[0m \u001b[0;34m=\u001b[0m \u001b[0mself\u001b[0m\u001b[0;34m.\u001b[0m\u001b[0mlcobj\u001b[0m\u001b[0;34m.\u001b[0m\u001b[0mget_b\u001b[0m\u001b[0;34m(\u001b[0m\u001b[0mb\u001b[0m\u001b[0;34m)\u001b[0m\u001b[0;34m\u001b[0m\u001b[0;34m\u001b[0m\u001b[0m\n\u001b[0;32m--> 175\u001b[0;31m                 \u001b[0mtrace\u001b[0m \u001b[0;34m=\u001b[0m \u001b[0mself\u001b[0m\u001b[0;34m.\u001b[0m\u001b[0mget_pm_trace_b\u001b[0m\u001b[0;34m(\u001b[0m\u001b[0mb\u001b[0m\u001b[0;34m,\u001b[0m \u001b[0mn\u001b[0m\u001b[0;34m)\u001b[0m\u001b[0;34m\u001b[0m\u001b[0;34m\u001b[0m\u001b[0m\n\u001b[0m\u001b[1;32m    176\u001b[0m                 \u001b[0mtrace\u001b[0m\u001b[0;34m.\u001b[0m\u001b[0mget_fit_errors\u001b[0m\u001b[0;34m(\u001b[0m\u001b[0mlcobjb\u001b[0m\u001b[0;34m,\u001b[0m \u001b[0mself\u001b[0m\u001b[0;34m.\u001b[0m\u001b[0mfunc\u001b[0m\u001b[0;34m)\u001b[0m\u001b[0;34m\u001b[0m\u001b[0;34m\u001b[0m\u001b[0m\n\u001b[1;32m    177\u001b[0m                 \u001b[0mtrace\u001b[0m\u001b[0;34m.\u001b[0m\u001b[0msort\u001b[0m\u001b[0;34m(\u001b[0m\u001b[0;34m)\u001b[0m\u001b[0;34m\u001b[0m\u001b[0;34m\u001b[0m\u001b[0m\n",
      "\u001b[0;32m~/oscar/tesis/sne-lightcurves-synthetic/synthsne/generators/synthetic_curves.py\u001b[0m in \u001b[0;36mget_pm_trace_b\u001b[0;34m(self, b, n)\u001b[0m\n\u001b[1;32m    630\u001b[0m                         \u001b[0mlcobjb\u001b[0m\u001b[0;34m.\u001b[0m\u001b[0madd_day_noise_uniform\u001b[0m\u001b[0;34m(\u001b[0m\u001b[0mself\u001b[0m\u001b[0;34m.\u001b[0m\u001b[0mhours_noise_amp\u001b[0m\u001b[0;34m)\u001b[0m \u001b[0;31m# add day noise\u001b[0m\u001b[0;34m\u001b[0m\u001b[0;34m\u001b[0m\u001b[0m\n\u001b[1;32m    631\u001b[0m                         \u001b[0mlcobjb\u001b[0m\u001b[0;34m.\u001b[0m\u001b[0madd_obs_noise_gaussian\u001b[0m\u001b[0;34m(\u001b[0m\u001b[0;36m1\u001b[0m\u001b[0;34m,\u001b[0m \u001b[0mself\u001b[0m\u001b[0;34m.\u001b[0m\u001b[0mmin_obs_bdict\u001b[0m\u001b[0;34m[\u001b[0m\u001b[0mb\u001b[0m\u001b[0;34m]\u001b[0m\u001b[0;34m)\u001b[0m \u001b[0;31m# add obs noise\u001b[0m\u001b[0;34m\u001b[0m\u001b[0;34m\u001b[0m\u001b[0m\n\u001b[0;32m--> 632\u001b[0;31m                         \u001b[0mlcobjb\u001b[0m\u001b[0;34m.\u001b[0m\u001b[0mapply_downsampling\u001b[0m\u001b[0;34m(\u001b[0m\u001b[0mself\u001b[0m\u001b[0;34m.\u001b[0m\u001b[0mcpds_p\u001b[0m\u001b[0;34m)\u001b[0m \u001b[0;31m# curve points downsampling\u001b[0m\u001b[0;34m\u001b[0m\u001b[0;34m\u001b[0m\u001b[0m\n\u001b[0m\u001b[1;32m    633\u001b[0m \u001b[0;34m\u001b[0m\u001b[0m\n\u001b[1;32m    634\u001b[0m                         \u001b[0;32mtry\u001b[0m\u001b[0;34m:\u001b[0m\u001b[0;34m\u001b[0m\u001b[0;34m\u001b[0m\u001b[0m\n",
      "\u001b[0;31mAttributeError\u001b[0m: 'SynSNeGeneratorLinear' object has no attribute 'cpds_p'"
     ]
    }
   ],
   "source": [
    "%load_ext autoreload\n",
    "%autoreload 2\n",
    "from synthsne.generators.synthetic_curves import get_syn_sne_generator\n",
    "from synthsne.plots.lc import plot_synthetic_samples\n",
    "\n",
    "save_rootdir = f'../save/{survey}/{cfilename}'\n",
    "samplers = load_pickle(f'{save_rootdir}/samplers.s')\n",
    "obse_sampler_bdict = samplers['obse_sampler_bdict']\n",
    "length_sampler_bdict = samplers['length_sampler_bdict']\n",
    "    \n",
    "set_name = 'train'\n",
    "method = 'uniformprior'\n",
    "#method = 'curvefit'\n",
    "#method = 'mcmc'\n",
    "method = 'linear'\n",
    "\n",
    "synthetic_samples_per_curve = 32\n",
    "\n",
    "lcset = lcdataset[set_name]\n",
    "lcobj_names = [\n",
    "    'ZTF19abaeyqw',\n",
    "    'ZTF18aajkivu',\n",
    "    'ZTF20aacbwbm',\n",
    "    'ZTF19aaqrime',\n",
    "    'ZTF19aafljiq',\n",
    "    'ZTF19aamhhiz',\n",
    "]\n",
    "for lcobj_name in lcobj_names:\n",
    "#for lcobj_name in weird_lcobj_names:\n",
    "    #lcobj_name = lc_set.get_random_lcobj_name() # random\n",
    "    if not lcobj_name in lcset.get_lcobj_names():\n",
    "        continue\n",
    "    lcobj = lcset[lcobj_name]\n",
    "    band_names = lcset.band_names\n",
    "    class_names = lcset.class_names\n",
    "    gen_kwargs = {\n",
    "        #'uses_new_bounds':False,\n",
    "        'uses_new_bounds':True,\n",
    "    }\n",
    "    generator_class = get_syn_sne_generator(method)\n",
    "    sne_generator = generator_class(lcobj, class_names, band_names, obse_sampler_bdict, length_sampler_bdict, **gen_kwargs)\n",
    "    new_lcobjs, new_smooth_lcojbs, trace_bdict = sne_generator.sample_curves(synthetic_samples_per_curve)\n",
    "    plot_kwargs = {\n",
    "        'trace_bdict':trace_bdict,\n",
    "        #'save_filedir':f'../save/test_{lcobj_name}.png',\n",
    "        'save_filedir':None,\n",
    "    }\n",
    "    plot_synthetic_samples(lcdataset, set_name, method, lcobj_name, new_lcobjs, new_smooth_lcojbs, **plot_kwargs)"
   ]
  },
  {
   "cell_type": "code",
   "execution_count": null,
   "metadata": {},
   "outputs": [],
   "source": [
    "%load_ext autoreload\n",
    "%autoreload 2\n",
    "from lchandler.plots.plots import plot_obs_obse_scatter\n",
    "\n",
    "plot_obs_obse_scatter(lcdataset, 'train', 'synth_train')"
   ]
  },
  {
   "cell_type": "code",
   "execution_count": null,
   "metadata": {},
   "outputs": [],
   "source": [
    "%load_ext autoreload\n",
    "%autoreload 2\n",
    "import matplotlib.pyplot as plt\n",
    "import flamingchoripan.cutePlots.colors as cc\n",
    "import flamingchoripan.cutePlots.plots as cplots\n",
    "\n",
    "figsize = (12,5)\n",
    "fig, ax = plt.subplots(1, 1, figsize=figsize)\n",
    "for ks,set_name in enumerate(['synth_train']):\n",
    "    lcset = lcdataset.get(set_name)\n",
    "    lcobj_classes = lcset.get_lcobj_classes()\n",
    "    to_plot = {'class samples':lcobj_classes}\n",
    "    title = 'class population distribution\\n'\n",
    "    title += f'survey: {lcset.survey} - set: {set_name} - class samples: {len(lcobj_classes):,}'\n",
    "    plt_kwargs = {\n",
    "        'fig':fig,\n",
    "        'ax':ax,\n",
    "        'ylabel':'' if ks>0 else None,\n",
    "        'legend_ncol':len(lcset.band_names),\n",
    "        'title':title,\n",
    "        'cmap':cc.colorlist_to_cmap([cc.NICE_COLORS_DICT['nice_gray']]),\n",
    "        'uses_log_scale':0,\n",
    "    }\n",
    "    fig, ax = cplots.plot_hist_labels(to_plot, lcset.class_names, **plt_kwargs)\n",
    "    \n",
    "fig.tight_layout()\n",
    "plt.plot()"
   ]
  },
  {
   "cell_type": "code",
   "execution_count": null,
   "metadata": {
    "scrolled": false
   },
   "outputs": [],
   "source": [
    "%load_ext autoreload\n",
    "%autoreload 2\n",
    "from src.plots import plot_synthetic_samples\n",
    "\n",
    "plot_synthetic_samples(lcdataset, 'train', max_samples=1)"
   ]
  },
  {
   "cell_type": "code",
   "execution_count": null,
   "metadata": {
    "scrolled": false
   },
   "outputs": [],
   "source": [
    "%load_ext autoreload\n",
    "%autoreload 2\n",
    "from src.umaps import get_fitted_umap, get_transformed_umap\n",
    "\n",
    "set_name_train = 'train'\n",
    "set_name_test = 'synth_train'\n",
    "30\n",
    "pm_umap_results = get_fitted_umap(lcdataset, set_name_test)\n",
    "res = get_transformed_umap(lcdataset, pm_umap_results, set_name_train, set_name_test)\n",
    "pm_args_embd_results_train, pm_args_embd_results_test = res"
   ]
  },
  {
   "cell_type": "code",
   "execution_count": null,
   "metadata": {
    "scrolled": false
   },
   "outputs": [],
   "source": [
    "%load_ext autoreload\n",
    "%autoreload 2\n",
    "from src.plots import plot_2Dprojections\n",
    "\n",
    "for c in [None]+lcdataset.raw.class_names:\n",
    "    kwargs = {\n",
    "        'target_class':c,\n",
    "        #'x_mode':'x_pca',\n",
    "        'x_mode':'x_umap',\n",
    "        'x_mode':'x_tsne',\n",
    "    }\n",
    "    plot_2Dprojections(lcdataset, set_name_train, pm_args_embd_results_train, set_name_test, pm_args_embd_results_test, **kwargs)"
   ]
  },
  {
   "cell_type": "code",
   "execution_count": null,
   "metadata": {},
   "outputs": [],
   "source": [
    "from flamingchoripan.myUtils.files import load_pickle, save_pickle\n",
    "from src import C_\n",
    "\n",
    "assert 0\n",
    "save_filedir = f'{root_folder}/{cfilename}.{C_.EXT_PARAMETRIC_LIGHTCURVE}'\n",
    "save_pickle(save_filedir, lcdataset)"
   ]
  }
 ],
 "metadata": {
  "kernelspec": {
   "display_name": "Python 3",
   "language": "python",
   "name": "python3"
  },
  "language_info": {
   "codemirror_mode": {
    "name": "ipython",
    "version": 3
   },
   "file_extension": ".py",
   "mimetype": "text/x-python",
   "name": "python",
   "nbconvert_exporter": "python",
   "pygments_lexer": "ipython3",
   "version": "3.7.9"
  }
 },
 "nbformat": 4,
 "nbformat_minor": 4
}
